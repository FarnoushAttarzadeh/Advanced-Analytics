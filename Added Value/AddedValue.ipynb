{
 "cells": [
  {
   "cell_type": "code",
   "execution_count": 1,
   "metadata": {},
   "outputs": [],
   "source": [
    "import numpy as np\n",
    "import snowflake.connector\n",
    "import pandas as pd\n",
    "import datetime"
   ]
  },
  {
   "cell_type": "code",
   "execution_count": 1,
   "metadata": {
    "scrolled": true
   },
   "outputs": [
    {
     "ename": "NameError",
     "evalue": "name 'snowflake' is not defined",
     "output_type": "error",
     "traceback": [
      "\u001b[1;31m---------------------------------------------------------------------------\u001b[0m",
      "\u001b[1;31mNameError\u001b[0m                                 Traceback (most recent call last)",
      "\u001b[1;32m<ipython-input-1-a29cf6acff9d>\u001b[0m in \u001b[0;36m<module>\u001b[1;34m\u001b[0m\n\u001b[0;32m      1\u001b[0m \u001b[1;31m# Gets the version\u001b[0m\u001b[1;33m\u001b[0m\u001b[1;33m\u001b[0m\u001b[1;33m\u001b[0m\u001b[0m\n\u001b[1;32m----> 2\u001b[1;33m ctx = snowflake.connector.connect(\n\u001b[0m\u001b[0;32m      3\u001b[0m         \u001b[0muser\u001b[0m\u001b[1;33m=\u001b[0m\u001b[1;34m'****'\u001b[0m\u001b[1;33m,\u001b[0m\u001b[1;33m\u001b[0m\u001b[1;33m\u001b[0m\u001b[0m\n\u001b[0;32m      4\u001b[0m         \u001b[0mpassword\u001b[0m\u001b[1;33m=\u001b[0m\u001b[1;34m'****'\u001b[0m\u001b[1;33m,\u001b[0m\u001b[1;33m\u001b[0m\u001b[1;33m\u001b[0m\u001b[0m\n\u001b[0;32m      5\u001b[0m         \u001b[0maccount\u001b[0m\u001b[1;33m=\u001b[0m\u001b[1;34m'****'\u001b[0m\u001b[1;33m,\u001b[0m\u001b[1;33m\u001b[0m\u001b[1;33m\u001b[0m\u001b[0m\n",
      "\u001b[1;31mNameError\u001b[0m: name 'snowflake' is not defined"
     ]
    }
   ],
   "source": [
    "# Gets the version\n",
    "ctx = snowflake.connector.connect(\n",
    "        user='****',\n",
    "        password='****',\n",
    "        account='****',\n",
    "        warehouse='****',\n",
    "        database='****'\n",
    "        #schema= 'DIM'\n",
    "    )\n",
    "\n",
    "\n",
    "\n",
    "\n",
    "\n",
    "\n",
    "\n",
    "\n",
    "cs = ctx.cursor()\n",
    "\n",
    "try:\n",
    "    \n",
    "    query = \"USE ROLE ****_READER\"\n",
    "    cur = ctx.cursor().execute(query)\n",
    "    query =''' SELECT B.FACT.F.FORM_KEY,\n",
    "B.FACT.ENTITY_TYPE,\n",
    "B.FACT.F.CLIENT_KEY,\n",
    "B.FACT.F.BUILDING_KEY,\n",
    "B.FACT.F.EQUIPMENT_KEY,\n",
    "B.FACT.F.WORKORDER_NBR,\n",
    "B.FACT.F.ATC_ID,\n",
    "B.FACT.F.SUBMISSION_ID,\n",
    "B.FACT.F.SOURCE,\n",
    "B.FACT.F.SUBMISSION_STATUS,\n",
    "B.FACT.F.SUBMITTED_DATE,\n",
    "B.FACT.F.SUBMITTED_DATE_KEY,\n",
    "B.FACT.F.CREATED_DATE,\n",
    "B.FACT.F.CREATED_DATE_KEY,\n",
    "B.FACT.F.CREATED_BY,\n",
    "B.FACT.F.TEMPLATE_DESCRIPTION,\n",
    "B.FACT.ORMSUBMISSIONS.TEMPLATE_POSITION,\n",
    "B.FACT.F.FIELD_ID,\n",
    "B.FACT.F.FIELD_NAME,\n",
    "B.FACT.F.FIELD_NAME_ENGLISH,\n",
    "B.FACT.F.FIELD_COLUMN,\n",
    "B.FACT.F.FIELD_DATATYPE,\n",
    "B.FACT.F.FIELD_POSITION,\n",
    "B.FACT.F.FIELD_VALUE,\n",
    "B.FACT.F.ARCHIVED_FLAG,\n",
    "B.FACT.F.LONGITUDE,\n",
    "B.FACT.F.LATITUDE,\n",
    "B.FACT.F.GEO_ACCURACY,\n",
    "B.FACT.F.REFERENCE,\n",
    "B.FACT.F.DSS_CREATE_TIME,\n",
    "B.FACT.F.DSS_UPDATE_TIME\n",
    "\n",
    "from B.FACT.F\n",
    "\n",
    "where (B.FACT.F.FORM_KEY in (****,****,****,****))\n",
    "order by CREATED_DATE ASC\n",
    " '''\n",
    "    cur = ctx.cursor().execute(query)\n",
    "    FormSubValue= pd.DataFrame.from_records(iter(cur), columns=[x[0] for x in cur.description])\n",
    "\n",
    "finally:\n",
    "    cs.close()\n",
    "ctx.close()\n",
    "print(len(FormSubValue))\n",
    "FormSubValue"
   ]
  },
  {
   "cell_type": "code",
   "execution_count": 4,
   "metadata": {
    "scrolled": true
   },
   "outputs": [
    {
     "name": "stdout",
     "output_type": "stream",
     "text": [
      "Index(['FORM_KEY', 'ENTITY_TYPE', 'CLIENT_KEY', 'BUILDING_KEY',\n",
      "       'EQUIPMENT_KEY', 'WORKORDER_NBR', 'ATC_ID', 'SUBMISSION_ID', 'SOURCE',\n",
      "       'SUBMISSION_STATUS', 'SUBMITTED_DATE', 'SUBMITTED_DATE_KEY',\n",
      "       'CREATED_DATE', 'CREATED_DATE_KEY', 'CREATED_BY',\n",
      "       'TEMPLATE_DESCRIPTION', 'TEMPLATE_POSITION', 'FIELD_ID', 'FIELD_NAME',\n",
      "       'FIELD_NAME_ENGLISH', 'FIELD_COLUMN', 'FIELD_DATATYPE',\n",
      "       'FIELD_POSITION', 'FIELD_VALUE', 'ARCHIVED_FLAG', 'LONGITUDE',\n",
      "       'LATITUDE', 'GEO_ACCURACY', 'REFERENCE', 'DSS_CREATE_TIME',\n",
      "       'DSS_UPDATE_TIME'],\n",
      "      dtype='object')\n"
     ]
    }
   ],
   "source": [
    "print(FormSubValue.columns)"
   ]
  },
  {
   "cell_type": "code",
   "execution_count": 5,
   "metadata": {},
   "outputs": [
    {
     "data": {
      "text/plain": [
       "pandas.core.series.Series"
      ]
     },
     "execution_count": 5,
     "metadata": {},
     "output_type": "execute_result"
    }
   ],
   "source": [
    "type(FormSubValue['CREATED_DATE'])"
   ]
  },
  {
   "cell_type": "code",
   "execution_count": 6,
   "metadata": {},
   "outputs": [],
   "source": [
    "FormSubValue['CREATED_DATE'] = pd.to_datetime(FormSubValue['CREATED_DATE'], errors='coerce', utc=True)\n",
    "#FormSubValue"
   ]
  },
  {
   "cell_type": "code",
   "execution_count": 7,
   "metadata": {},
   "outputs": [
    {
     "data": {
      "text/plain": [
       "pandas.core.series.Series"
      ]
     },
     "execution_count": 7,
     "metadata": {},
     "output_type": "execute_result"
    }
   ],
   "source": [
    "type(FormSubValue['CREATED_DATE'])"
   ]
  },
  {
   "cell_type": "code",
   "execution_count": 8,
   "metadata": {},
   "outputs": [
    {
     "data": {
      "text/plain": [
       "0        2020-04-06 13:52:22\n",
       "1        2020-04-06 13:52:22\n",
       "2        2020-04-06 13:52:22\n",
       "3        2020-04-06 13:52:22\n",
       "4        2020-04-06 13:52:22\n",
       "                 ...        \n",
       "117072   2022-06-23 21:58:40\n",
       "117073   2022-06-23 21:58:40\n",
       "117074   2022-06-23 21:58:40\n",
       "117075   2022-06-23 21:58:40\n",
       "117076   2022-06-23 21:58:40\n",
       "Name: CREATED_DATE, Length: 117077, dtype: datetime64[ns]"
      ]
     },
     "execution_count": 8,
     "metadata": {},
     "output_type": "execute_result"
    }
   ],
   "source": [
    "FormSubValue['CREATED_DATE'].dt.tz_localize(None)"
   ]
  },
  {
   "cell_type": "code",
   "execution_count": 9,
   "metadata": {},
   "outputs": [],
   "source": [
    "FormSubValue['CREATED_DATE']=FormSubValue['CREATED_DATE'].dt.date"
   ]
  },
  {
   "cell_type": "code",
   "execution_count": 10,
   "metadata": {},
   "outputs": [
    {
     "data": {
      "text/plain": [
       "0"
      ]
     },
     "execution_count": 10,
     "metadata": {},
     "output_type": "execute_result"
    }
   ],
   "source": [
    "FormSubValue['CREATED_DATE'].isna().sum()"
   ]
  },
  {
   "cell_type": "code",
   "execution_count": 11,
   "metadata": {},
   "outputs": [],
   "source": [
    "FormSubValue['CREATED_DATE'] =  pd.to_datetime(FormSubValue['CREATED_DATE'], format='%Y %m %d')"
   ]
  },
  {
   "cell_type": "markdown",
   "metadata": {},
   "source": [
    "## 2020"
   ]
  },
  {
   "cell_type": "code",
   "execution_count": 2,
   "metadata": {
    "scrolled": true
   },
   "outputs": [
    {
     "ename": "NameError",
     "evalue": "name 'FormSubValue' is not defined",
     "output_type": "error",
     "traceback": [
      "\u001b[1;31m---------------------------------------------------------------------------\u001b[0m",
      "\u001b[1;31mNameError\u001b[0m                                 Traceback (most recent call last)",
      "\u001b[1;32m<ipython-input-2-c2af097eed63>\u001b[0m in \u001b[0;36m<module>\u001b[1;34m\u001b[0m\n\u001b[1;32m----> 1\u001b[1;33m \u001b[0mFormSubValue2020\u001b[0m \u001b[1;33m=\u001b[0m \u001b[0mFormSubValue\u001b[0m\u001b[1;33m[\u001b[0m\u001b[0mFormSubValue\u001b[0m\u001b[1;33m[\u001b[0m\u001b[1;34m'CREATED_DATE'\u001b[0m\u001b[1;33m]\u001b[0m\u001b[1;33m.\u001b[0m\u001b[0mdt\u001b[0m\u001b[1;33m.\u001b[0m\u001b[0mstrftime\u001b[0m\u001b[1;33m(\u001b[0m\u001b[1;34m'%Y'\u001b[0m\u001b[1;33m)\u001b[0m \u001b[1;33m==\u001b[0m \u001b[1;34m'2020'\u001b[0m\u001b[1;33m]\u001b[0m\u001b[1;33m\u001b[0m\u001b[1;33m\u001b[0m\u001b[0m\n\u001b[0m\u001b[0;32m      2\u001b[0m \u001b[0mFormSubValue2020\u001b[0m\u001b[1;33m\u001b[0m\u001b[1;33m\u001b[0m\u001b[0m\n",
      "\u001b[1;31mNameError\u001b[0m: name 'FormSubValue' is not defined"
     ]
    }
   ],
   "source": [
    "FormSubValue2020 = FormSubValue[FormSubValue['CREATED_DATE'].dt.strftime('%Y') == '2020']\n",
    "FormSubValue2020"
   ]
  },
  {
   "cell_type": "markdown",
   "metadata": {},
   "source": []
  },
  {
   "cell_type": "markdown",
   "metadata": {},
   "source": [
    "### Dropping Duplicates and NANs in WO"
   ]
  },
  {
   "cell_type": "code",
   "execution_count": 83,
   "metadata": {},
   "outputs": [],
   "source": [
    "FormSubValue2020=FormSubValue2020.drop_duplicates('WORKORDER_NBR')"
   ]
  },
  {
   "cell_type": "code",
   "execution_count": 84,
   "metadata": {},
   "outputs": [],
   "source": [
    "FormSubValue2020=FormSubValue2020.dropna(subset=['WORKORDER_NBR'])"
   ]
  },
  {
   "cell_type": "markdown",
   "metadata": {},
   "source": [
    "### Bringing D's table from lower part of the script"
   ]
  },
  {
   "cell_type": "code",
   "execution_count": 85,
   "metadata": {},
   "outputs": [],
   "source": [
    "D2020 = D2020.drop_duplicates('Work Order Number')"
   ]
  },
  {
   "cell_type": "code",
   "execution_count": 86,
   "metadata": {},
   "outputs": [],
   "source": [
    "D2020=D2020.dropna(subset=['Work Order Number'])"
   ]
  },
  {
   "cell_type": "code",
   "execution_count": 87,
   "metadata": {},
   "outputs": [
    {
     "data": {
      "text/plain": [
       "False    5588\n",
       "True     1829\n",
       "Name: Work Order Number, dtype: int64"
      ]
     },
     "execution_count": 87,
     "metadata": {},
     "output_type": "execute_result"
    }
   ],
   "source": [
    "D2020['Work Order Number'].isin(FormSubValue2020['WORKORDER_NBR']).value_counts()"
   ]
  },
  {
   "cell_type": "code",
   "execution_count": 88,
   "metadata": {},
   "outputs": [],
   "source": [
    "#David2020['SUBMISSION_ID'].isin(FormSubValue2020['SUBMISSION_ID']).value_counts()"
   ]
  },
  {
   "cell_type": "code",
   "execution_count": 89,
   "metadata": {
    "scrolled": true
   },
   "outputs": [
    {
     "data": {
      "text/plain": [
       "True     1829\n",
       "False       1\n",
       "Name: WORKORDER_NBR, dtype: int64"
      ]
     },
     "execution_count": 89,
     "metadata": {},
     "output_type": "execute_result"
    }
   ],
   "source": [
    "    FormSubValue2020['WORKORDER_NBR'].isin(D2020['Work Order Number']).value_counts()"
   ]
  },
  {
   "cell_type": "code",
   "execution_count": 90,
   "metadata": {},
   "outputs": [],
   "source": [
    "#FormSubValue2020['SUBMISSION_ID'].isin(D2020['SUBMISSION_ID']).value_counts()"
   ]
  },
  {
   "cell_type": "code",
   "execution_count": 91,
   "metadata": {},
   "outputs": [],
   "source": [
    "#mWO2020 =  set(Dd2020['Work Order Number']).intersection(FormSubValue2020['WORKORDER_NBR']) \n",
    "#MWO2020=list[mWO2020]\n",
    "#MWO2020"
   ]
  },
  {
   "cell_type": "code",
   "execution_count": 92,
   "metadata": {},
   "outputs": [],
   "source": [
    "#Join2020 = D2020.merge(FormSubValue2020,on=['SUBMISSION_ID'])\n",
    "#print(Join2020)\n",
    "#D2020[~D2020.SUBMISSION_ID.isin(Join2020 .SUBMISSION_ID)]"
   ]
  },
  {
   "cell_type": "code",
   "execution_count": null,
   "metadata": {},
   "outputs": [],
   "source": []
  },
  {
   "cell_type": "code",
   "execution_count": 94,
   "metadata": {},
   "outputs": [],
   "source": [
    "#FormSubValue2020.rename(columns = {'SUBMISSION_ID':'SUBMISSION_ID20'}, inplace = True)"
   ]
  },
  {
   "cell_type": "code",
   "execution_count": 95,
   "metadata": {},
   "outputs": [],
   "source": [
    "#ids_in_df2 = FormSubValue2020.SUBMISSION_ID20.unique()\n",
    "#not_found_ids = D2020[~(D2020['SUBMISSION_ID'].isin(FormSubValue2020['SUBMISSION_ID20'] ))]\n",
    "\n",
    "#not_found_ids['SUBMISSION_ID'].dropna().tolist()"
   ]
  },
  {
   "cell_type": "code",
   "execution_count": 96,
   "metadata": {},
   "outputs": [],
   "source": []
  },
  {
   "cell_type": "code",
   "execution_count": 97,
   "metadata": {},
   "outputs": [],
   "source": [
    "not_found_ids20 = D2020[~D2020['Work Order Number'].isin(FormSubValue2020['WORKORDER_NBR'] )]\n",
    "D2020NMutal=not_found_ids20['Work Order Number'].dropna().tolist()"
   ]
  },
  {
   "cell_type": "code",
   "execution_count": 3,
   "metadata": {},
   "outputs": [
    {
     "ename": "NameError",
     "evalue": "name 'D2020NMutal' is not defined",
     "output_type": "error",
     "traceback": [
      "\u001b[1;31m---------------------------------------------------------------------------\u001b[0m",
      "\u001b[1;31mNameError\u001b[0m                                 Traceback (most recent call last)",
      "\u001b[1;32m<ipython-input-3-434bd8c962c4>\u001b[0m in \u001b[0;36m<module>\u001b[1;34m\u001b[0m\n\u001b[1;32m----> 1\u001b[1;33m \u001b[0mD2020NMutal\u001b[0m\u001b[1;33m\u001b[0m\u001b[1;33m\u001b[0m\u001b[0m\n\u001b[0m",
      "\u001b[1;31mNameError\u001b[0m: name 'D2020NMutal' is not defined"
     ]
    }
   ],
   "source": [
    "D2020NMutal"
   ]
  },
  {
   "cell_type": "code",
   "execution_count": 144,
   "metadata": {},
   "outputs": [],
   "source": [
    "with open(\"C:****.txt\", 'w') as output:\n",
    "    for row in D2020NMutal:\n",
    "        output.write(str(row) + '\\n')"
   ]
  },
  {
   "cell_type": "code",
   "execution_count": 4,
   "metadata": {},
   "outputs": [
    {
     "ename": "NameError",
     "evalue": "name 'D2020' is not defined",
     "output_type": "error",
     "traceback": [
      "\u001b[1;31m---------------------------------------------------------------------------\u001b[0m",
      "\u001b[1;31mNameError\u001b[0m                                 Traceback (most recent call last)",
      "\u001b[1;32m<ipython-input-4-24dc669e0053>\u001b[0m in \u001b[0;36m<module>\u001b[1;34m\u001b[0m\n\u001b[1;32m----> 1\u001b[1;33m \u001b[0mD2020NMutalT\u001b[0m\u001b[1;33m=\u001b[0m\u001b[0mD2020\u001b[0m\u001b[1;33m.\u001b[0m\u001b[0mloc\u001b[0m\u001b[1;33m[\u001b[0m\u001b[0mD2020\u001b[0m\u001b[1;33m[\u001b[0m\u001b[1;34m'Work Order Number'\u001b[0m\u001b[1;33m]\u001b[0m\u001b[1;33m.\u001b[0m\u001b[0misin\u001b[0m\u001b[1;33m(\u001b[0m\u001b[0mD2020NMutal\u001b[0m\u001b[1;33m)\u001b[0m\u001b[1;33m]\u001b[0m\u001b[1;33m\u001b[0m\u001b[1;33m\u001b[0m\u001b[0m\n\u001b[0m\u001b[0;32m      2\u001b[0m \u001b[0mD2020NMutalT\u001b[0m\u001b[1;33m\u001b[0m\u001b[1;33m\u001b[0m\u001b[0m\n",
      "\u001b[1;31mNameError\u001b[0m: name 'D2020' is not defined"
     ]
    }
   ],
   "source": [
    "D2020NMutalT=D2020.loc[D2020['Work Order Number'].isin(D2020NMutal)]\n",
    "D2020NMutalT"
   ]
  },
  {
   "cell_type": "code",
   "execution_count": 146,
   "metadata": {},
   "outputs": [],
   "source": [
    "D2020NMutalT.to_csv('C****.csv')"
   ]
  },
  {
   "cell_type": "code",
   "execution_count": 153,
   "metadata": {},
   "outputs": [],
   "source": [
    "MYnot_found_ids20 = FormSubValue2020[~FormSubValue2020['WORKORDER_NBR'].isin(D2020['Work Order Number'] )]\n",
    "Snow2020NMutal=MYnot_found_ids20['WORKORDER_NBR'].dropna().tolist()\n"
   ]
  },
  {
   "cell_type": "code",
   "execution_count": 5,
   "metadata": {},
   "outputs": [
    {
     "ename": "NameError",
     "evalue": "name 'Snow2020NMutal' is not defined",
     "output_type": "error",
     "traceback": [
      "\u001b[1;31m---------------------------------------------------------------------------\u001b[0m",
      "\u001b[1;31mNameError\u001b[0m                                 Traceback (most recent call last)",
      "\u001b[1;32m<ipython-input-5-6ef1ffd8e77b>\u001b[0m in \u001b[0;36m<module>\u001b[1;34m\u001b[0m\n\u001b[1;32m----> 1\u001b[1;33m \u001b[0mSnow2020NMutal\u001b[0m\u001b[1;33m\u001b[0m\u001b[1;33m\u001b[0m\u001b[0m\n\u001b[0m",
      "\u001b[1;31mNameError\u001b[0m: name 'Snow2020NMutal' is not defined"
     ]
    }
   ],
   "source": [
    "Snow2020NMutal"
   ]
  },
  {
   "cell_type": "code",
   "execution_count": 155,
   "metadata": {},
   "outputs": [],
   "source": [
    "with open(\"C:\\****\\Snow2020.txt\", 'w') as output:\n",
    "    for row in Snow2020NMutal:\n",
    "        output.write(str(row) + '\\n')"
   ]
  },
  {
   "cell_type": "code",
   "execution_count": 6,
   "metadata": {},
   "outputs": [
    {
     "ename": "NameError",
     "evalue": "name 'FormSubValue2020' is not defined",
     "output_type": "error",
     "traceback": [
      "\u001b[1;31m---------------------------------------------------------------------------\u001b[0m",
      "\u001b[1;31mNameError\u001b[0m                                 Traceback (most recent call last)",
      "\u001b[1;32m<ipython-input-6-f33c4959bc94>\u001b[0m in \u001b[0;36m<module>\u001b[1;34m\u001b[0m\n\u001b[1;32m----> 1\u001b[1;33m \u001b[0mSnow2020NMutalT\u001b[0m\u001b[1;33m=\u001b[0m\u001b[0mFormSubValue2020\u001b[0m\u001b[1;33m.\u001b[0m\u001b[0mloc\u001b[0m\u001b[1;33m[\u001b[0m\u001b[0mFormSubValue2020\u001b[0m\u001b[1;33m[\u001b[0m\u001b[1;34m'WORKORDER_NBR'\u001b[0m\u001b[1;33m]\u001b[0m\u001b[1;33m.\u001b[0m\u001b[0misin\u001b[0m\u001b[1;33m(\u001b[0m\u001b[0mSnow2020NMutal\u001b[0m\u001b[1;33m)\u001b[0m\u001b[1;33m]\u001b[0m\u001b[1;33m\u001b[0m\u001b[1;33m\u001b[0m\u001b[0m\n\u001b[0m\u001b[0;32m      2\u001b[0m \u001b[0mSnow2020NMutalT\u001b[0m\u001b[1;33m\u001b[0m\u001b[1;33m\u001b[0m\u001b[0m\n",
      "\u001b[1;31mNameError\u001b[0m: name 'FormSubValue2020' is not defined"
     ]
    }
   ],
   "source": [
    "Snow2020NMutalT=FormSubValue2020.loc[FormSubValue2020['WORKORDER_NBR'].isin(Snow2020NMutal)]\n",
    "Snow2020NMutalT"
   ]
  },
  {
   "cell_type": "code",
   "execution_count": 157,
   "metadata": {},
   "outputs": [],
   "source": [
    "Snow2020NMutalT.to_csv('C:****\\Snow2020.csv')"
   ]
  },
  {
   "cell_type": "code",
   "execution_count": 158,
   "metadata": {},
   "outputs": [
    {
     "data": {
      "text/plain": [
       "5588"
      ]
     },
     "execution_count": 158,
     "metadata": {},
     "output_type": "execute_result"
    }
   ],
   "source": [
    "len(not_found_ids20['Work Order Number'].dropna())"
   ]
  },
  {
   "cell_type": "code",
   "execution_count": 7,
   "metadata": {},
   "outputs": [
    {
     "ename": "NameError",
     "evalue": "name 'FormSubValue2020' is not defined",
     "output_type": "error",
     "traceback": [
      "\u001b[1;31m---------------------------------------------------------------------------\u001b[0m",
      "\u001b[1;31mNameError\u001b[0m                                 Traceback (most recent call last)",
      "\u001b[1;32m<ipython-input-7-4047952ecfbd>\u001b[0m in \u001b[0;36m<module>\u001b[1;34m\u001b[0m\n\u001b[1;32m----> 1\u001b[1;33m \u001b[0mFormSubValue2020\u001b[0m\u001b[1;33m.\u001b[0m\u001b[0mloc\u001b[0m\u001b[1;33m[\u001b[0m\u001b[0mFormSubValue2020\u001b[0m\u001b[1;33m[\u001b[0m\u001b[1;34m'WORKORDER_NBR'\u001b[0m\u001b[1;33m]\u001b[0m\u001b[1;33m==\u001b[0m\u001b[1;34m'****'\u001b[0m\u001b[1;33m]\u001b[0m\u001b[1;33m\u001b[0m\u001b[1;33m\u001b[0m\u001b[0m\n\u001b[0m",
      "\u001b[1;31mNameError\u001b[0m: name 'FormSubValue2020' is not defined"
     ]
    }
   ],
   "source": [
    "FormSubValue2020.loc[FormSubValue2020['WORKORDER_NBR']=='****']                "
   ]
  },
  {
   "cell_type": "code",
   "execution_count": 8,
   "metadata": {},
   "outputs": [
    {
     "ename": "NameError",
     "evalue": "name 'David2020' is not defined",
     "output_type": "error",
     "traceback": [
      "\u001b[1;31m---------------------------------------------------------------------------\u001b[0m",
      "\u001b[1;31mNameError\u001b[0m                                 Traceback (most recent call last)",
      "\u001b[1;32m<ipython-input-8-0e2cd657a865>\u001b[0m in \u001b[0;36m<module>\u001b[1;34m\u001b[0m\n\u001b[1;32m----> 1\u001b[1;33m \u001b[0mDavid2020\u001b[0m\u001b[1;33m.\u001b[0m\u001b[0mloc\u001b[0m\u001b[1;33m[\u001b[0m\u001b[0mDavid2020\u001b[0m\u001b[1;33m[\u001b[0m\u001b[1;34m'Work Order Number'\u001b[0m\u001b[1;33m]\u001b[0m\u001b[1;33m==\u001b[0m\u001b[1;34m'****'\u001b[0m\u001b[1;33m]\u001b[0m\u001b[1;33m\u001b[0m\u001b[1;33m\u001b[0m\u001b[0m\n\u001b[0m",
      "\u001b[1;31mNameError\u001b[0m: name 'David2020' is not defined"
     ]
    }
   ],
   "source": [
    "D2020.loc[D2020['Work Order Number']=='****'] "
   ]
  },
  {
   "cell_type": "markdown",
   "metadata": {},
   "source": [
    "## 2021"
   ]
  },
  {
   "cell_type": "code",
   "execution_count": 9,
   "metadata": {},
   "outputs": [
    {
     "ename": "NameError",
     "evalue": "name 'FormSubValue' is not defined",
     "output_type": "error",
     "traceback": [
      "\u001b[1;31m---------------------------------------------------------------------------\u001b[0m",
      "\u001b[1;31mNameError\u001b[0m                                 Traceback (most recent call last)",
      "\u001b[1;32m<ipython-input-9-67d8ce34bb9d>\u001b[0m in \u001b[0;36m<module>\u001b[1;34m\u001b[0m\n\u001b[1;32m----> 1\u001b[1;33m \u001b[0mFormSubValue2021\u001b[0m \u001b[1;33m=\u001b[0m \u001b[0mFormSubValue\u001b[0m\u001b[1;33m[\u001b[0m\u001b[0mFormSubValue\u001b[0m\u001b[1;33m[\u001b[0m\u001b[1;34m'CREATED_DATE'\u001b[0m\u001b[1;33m]\u001b[0m\u001b[1;33m.\u001b[0m\u001b[0mdt\u001b[0m\u001b[1;33m.\u001b[0m\u001b[0mstrftime\u001b[0m\u001b[1;33m(\u001b[0m\u001b[1;34m'%Y'\u001b[0m\u001b[1;33m)\u001b[0m \u001b[1;33m==\u001b[0m \u001b[1;34m'2021'\u001b[0m\u001b[1;33m]\u001b[0m\u001b[1;33m\u001b[0m\u001b[1;33m\u001b[0m\u001b[0m\n\u001b[0m\u001b[0;32m      2\u001b[0m \u001b[0mFormSubValue2021\u001b[0m\u001b[1;33m\u001b[0m\u001b[1;33m\u001b[0m\u001b[0m\n",
      "\u001b[1;31mNameError\u001b[0m: name 'FormSubValue' is not defined"
     ]
    }
   ],
   "source": [
    "FormSubValue2021 = FormSubValue[FormSubValue['CREATED_DATE'].dt.strftime('%Y') == '2021']\n",
    "FormSubValue2021"
   ]
  },
  {
   "cell_type": "code",
   "execution_count": 162,
   "metadata": {},
   "outputs": [],
   "source": [
    "FormSubValue2021=FormSubValue2021.drop_duplicates('WORKORDER_NBR')"
   ]
  },
  {
   "cell_type": "code",
   "execution_count": 163,
   "metadata": {},
   "outputs": [],
   "source": [
    "FormSubValue2021=FormSubValue2021.dropna(subset=['WORKORDER_NBR'])"
   ]
  },
  {
   "cell_type": "code",
   "execution_count": 164,
   "metadata": {},
   "outputs": [],
   "source": [
    "D2021 = D2021.drop_duplicates('Work Order Number')"
   ]
  },
  {
   "cell_type": "code",
   "execution_count": 165,
   "metadata": {},
   "outputs": [],
   "source": [
    "D2021=D2021.dropna(subset=['Work Order Number'])"
   ]
  },
  {
   "cell_type": "code",
   "execution_count": 166,
   "metadata": {},
   "outputs": [
    {
     "data": {
      "text/plain": [
       "True    5059\n",
       "Name: Work Order Number, dtype: int64"
      ]
     },
     "execution_count": 166,
     "metadata": {},
     "output_type": "execute_result"
    }
   ],
   "source": [
    "D2021['Work Order Number'].isin(FormSubValue2021['WORKORDER_NBR']).value_counts()"
   ]
  },
  {
   "cell_type": "code",
   "execution_count": 167,
   "metadata": {},
   "outputs": [
    {
     "data": {
      "text/plain": [
       "True     5056\n",
       "False       3\n",
       "Name: SUBMISSION_ID, dtype: int64"
      ]
     },
     "execution_count": 167,
     "metadata": {},
     "output_type": "execute_result"
    }
   ],
   "source": [
    "D2021['SUBMISSION_ID'].isin(FormSubValue2021['SUBMISSION_ID']).value_counts()"
   ]
  },
  {
   "cell_type": "code",
   "execution_count": 168,
   "metadata": {
    "scrolled": true
   },
   "outputs": [
    {
     "data": {
      "text/plain": [
       "True     5059\n",
       "False       4\n",
       "Name: WORKORDER_NBR, dtype: int64"
      ]
     },
     "execution_count": 168,
     "metadata": {},
     "output_type": "execute_result"
    }
   ],
   "source": [
    "FormSubValue2021['WORKORDER_NBR'].isin(D2021['Work Order Number']).value_counts()"
   ]
  },
  {
   "cell_type": "code",
   "execution_count": 169,
   "metadata": {},
   "outputs": [
    {
     "data": {
      "text/plain": [
       "True     5056\n",
       "False       7\n",
       "Name: SUBMISSION_ID, dtype: int64"
      ]
     },
     "execution_count": 169,
     "metadata": {},
     "output_type": "execute_result"
    }
   ],
   "source": [
    "FormSubValue2021['SUBMISSION_ID'].isin(D2021['SUBMISSION_ID']).value_counts()"
   ]
  },
  {
   "cell_type": "code",
   "execution_count": 170,
   "metadata": {},
   "outputs": [
    {
     "data": {
      "text/plain": [
       "[]"
      ]
     },
     "execution_count": 170,
     "metadata": {},
     "output_type": "execute_result"
    }
   ],
   "source": [
    "not_found_ids21 = D2021[~David2021['Work Order Number'].isin(FormSubValue2021['WORKORDER_NBR'] )]\n",
    "not_found_ids21['Work Order Number'].dropna().tolist()"
   ]
  },
  {
   "cell_type": "code",
   "execution_count": 171,
   "metadata": {},
   "outputs": [],
   "source": [
    "MYnot_found_ids21 = FormSubValue2021[~FormSubValue2021['WORKORDER_NBR'].isin(D2021['Work Order Number'] )]\n",
    "Snow2021NMutal=MYnot_found_ids21['WORKORDER_NBR'].dropna().tolist()"
   ]
  },
  {
   "cell_type": "code",
   "execution_count": 10,
   "metadata": {},
   "outputs": [
    {
     "ename": "NameError",
     "evalue": "name 'Snow2021NMutal' is not defined",
     "output_type": "error",
     "traceback": [
      "\u001b[1;31m---------------------------------------------------------------------------\u001b[0m",
      "\u001b[1;31mNameError\u001b[0m                                 Traceback (most recent call last)",
      "\u001b[1;32m<ipython-input-10-b5ea7c8b73a2>\u001b[0m in \u001b[0;36m<module>\u001b[1;34m\u001b[0m\n\u001b[1;32m----> 1\u001b[1;33m \u001b[0mSnow2021NMutal\u001b[0m\u001b[1;33m\u001b[0m\u001b[1;33m\u001b[0m\u001b[0m\n\u001b[0m",
      "\u001b[1;31mNameError\u001b[0m: name 'Snow2021NMutal' is not defined"
     ]
    }
   ],
   "source": [
    "Snow2021NMutal"
   ]
  },
  {
   "cell_type": "code",
   "execution_count": 173,
   "metadata": {},
   "outputs": [],
   "source": [
    "with open(\"C:****\\Snow2021.txt\", 'w') as output:\n",
    "    for row in Snow2021NMutal:\n",
    "        output.write(str(row) + '\\n')"
   ]
  },
  {
   "cell_type": "code",
   "execution_count": 11,
   "metadata": {},
   "outputs": [
    {
     "ename": "NameError",
     "evalue": "name 'FormSubValue2021' is not defined",
     "output_type": "error",
     "traceback": [
      "\u001b[1;31m---------------------------------------------------------------------------\u001b[0m",
      "\u001b[1;31mNameError\u001b[0m                                 Traceback (most recent call last)",
      "\u001b[1;32m<ipython-input-11-6171ab827295>\u001b[0m in \u001b[0;36m<module>\u001b[1;34m\u001b[0m\n\u001b[1;32m----> 1\u001b[1;33m \u001b[0mSnow2021NMutalT\u001b[0m\u001b[1;33m=\u001b[0m\u001b[0mFormSubValue2021\u001b[0m\u001b[1;33m.\u001b[0m\u001b[0mloc\u001b[0m\u001b[1;33m[\u001b[0m\u001b[0mFormSubValue2021\u001b[0m\u001b[1;33m[\u001b[0m\u001b[1;34m'WORKORDER_NBR'\u001b[0m\u001b[1;33m]\u001b[0m\u001b[1;33m.\u001b[0m\u001b[0misin\u001b[0m\u001b[1;33m(\u001b[0m\u001b[0mSnow2021NMutal\u001b[0m\u001b[1;33m)\u001b[0m\u001b[1;33m]\u001b[0m\u001b[1;33m\u001b[0m\u001b[1;33m\u001b[0m\u001b[0m\n\u001b[0m\u001b[0;32m      2\u001b[0m \u001b[0mSnow2021NMutalT\u001b[0m\u001b[1;33m\u001b[0m\u001b[1;33m\u001b[0m\u001b[0m\n",
      "\u001b[1;31mNameError\u001b[0m: name 'FormSubValue2021' is not defined"
     ]
    }
   ],
   "source": [
    "Snow2021NMutalT=FormSubValue2021.loc[FormSubValue2021['WORKORDER_NBR'].isin(Snow2021NMutal)]\n",
    "Snow2021NMutalT"
   ]
  },
  {
   "cell_type": "code",
   "execution_count": 175,
   "metadata": {},
   "outputs": [],
   "source": [
    "Snow2021NMutalT.to_csv('C:***\\Snow2021.csv')"
   ]
  },
  {
   "cell_type": "markdown",
   "metadata": {},
   "source": [
    "## 2022"
   ]
  },
  {
   "cell_type": "code",
   "execution_count": 12,
   "metadata": {},
   "outputs": [
    {
     "ename": "NameError",
     "evalue": "name 'FormSubValue' is not defined",
     "output_type": "error",
     "traceback": [
      "\u001b[1;31m---------------------------------------------------------------------------\u001b[0m",
      "\u001b[1;31mNameError\u001b[0m                                 Traceback (most recent call last)",
      "\u001b[1;32m<ipython-input-12-cc326a720527>\u001b[0m in \u001b[0;36m<module>\u001b[1;34m\u001b[0m\n\u001b[1;32m----> 1\u001b[1;33m \u001b[0mFormSubValue2022\u001b[0m \u001b[1;33m=\u001b[0m \u001b[0mFormSubValue\u001b[0m\u001b[1;33m[\u001b[0m\u001b[0mFormSubValue\u001b[0m\u001b[1;33m[\u001b[0m\u001b[1;34m'CREATED_DATE'\u001b[0m\u001b[1;33m]\u001b[0m\u001b[1;33m.\u001b[0m\u001b[0mdt\u001b[0m\u001b[1;33m.\u001b[0m\u001b[0mstrftime\u001b[0m\u001b[1;33m(\u001b[0m\u001b[1;34m'%Y'\u001b[0m\u001b[1;33m)\u001b[0m \u001b[1;33m==\u001b[0m \u001b[1;34m'2022'\u001b[0m\u001b[1;33m]\u001b[0m\u001b[1;33m\u001b[0m\u001b[1;33m\u001b[0m\u001b[0m\n\u001b[0m\u001b[0;32m      2\u001b[0m \u001b[0mFormSubValue2022\u001b[0m\u001b[1;33m\u001b[0m\u001b[1;33m\u001b[0m\u001b[0m\n",
      "\u001b[1;31mNameError\u001b[0m: name 'FormSubValue' is not defined"
     ]
    }
   ],
   "source": [
    "FormSubValue2022 = FormSubValue[FormSubValue['CREATED_DATE'].dt.strftime('%Y') == '2022']\n",
    "FormSubValue2022"
   ]
  },
  {
   "cell_type": "code",
   "execution_count": 177,
   "metadata": {},
   "outputs": [],
   "source": [
    "FormSubValue2022=FormSubValue2022.drop_duplicates('WORKORDER_NBR')"
   ]
  },
  {
   "cell_type": "code",
   "execution_count": 178,
   "metadata": {},
   "outputs": [],
   "source": [
    "FormSubValue2022=FormSubValue2022.dropna(subset=['WORKORDER_NBR'])"
   ]
  },
  {
   "cell_type": "code",
   "execution_count": 179,
   "metadata": {},
   "outputs": [
    {
     "data": {
      "text/plain": [
       "True     1035\n",
       "False       6\n",
       "Name: Work Order Number, dtype: int64"
      ]
     },
     "execution_count": 179,
     "metadata": {},
     "output_type": "execute_result"
    }
   ],
   "source": [
    "D['Work Order Number'].isin(FormSubValue2022['WORKORDER_NBR']).value_counts()"
   ]
  },
  {
   "cell_type": "code",
   "execution_count": 180,
   "metadata": {},
   "outputs": [
    {
     "data": {
      "text/plain": [
       "True     943\n",
       "False     98\n",
       "Name: SUBMISSION_ID, dtype: int64"
      ]
     },
     "execution_count": 180,
     "metadata": {},
     "output_type": "execute_result"
    }
   ],
   "source": [
    "D['SUBMISSION_ID'].isin(FormSubValue2022['SUBMISSION_ID']).value_counts()"
   ]
  },
  {
   "cell_type": "code",
   "execution_count": 181,
   "metadata": {
    "scrolled": true
   },
   "outputs": [
    {
     "data": {
      "text/plain": [
       "True     943\n",
       "False    535\n",
       "Name: WORKORDER_NBR, dtype: int64"
      ]
     },
     "execution_count": 181,
     "metadata": {},
     "output_type": "execute_result"
    }
   ],
   "source": [
    "FormSubValue2022['WORKORDER_NBR'].isin(D2022['Work Order Number']).value_counts()"
   ]
  },
  {
   "cell_type": "code",
   "execution_count": 182,
   "metadata": {},
   "outputs": [
    {
     "data": {
      "text/plain": [
       "True     943\n",
       "False    535\n",
       "Name: SUBMISSION_ID, dtype: int64"
      ]
     },
     "execution_count": 182,
     "metadata": {},
     "output_type": "execute_result"
    }
   ],
   "source": [
    "FormSubValue2022['SUBMISSION_ID'].isin(D2022['SUBMISSION_ID']).value_counts()"
   ]
  },
  {
   "cell_type": "code",
   "execution_count": 183,
   "metadata": {},
   "outputs": [
    {
     "data": {
      "text/plain": [
       "[]"
      ]
     },
     "execution_count": 183,
     "metadata": {},
     "output_type": "execute_result"
    }
   ],
   "source": [
    "not_found_ids22 = D2022[~D2022['Work Order Number'].isin(FormSubValue2022['WORKORDER_NBR'] )]\n",
    "not_found_ids22['Work Order Number'].dropna().tolist()"
   ]
  },
  {
   "cell_type": "code",
   "execution_count": 184,
   "metadata": {},
   "outputs": [],
   "source": [
    "MYnot_found_ids22 = FormSubValue2022[~FormSubValue2022['WORKORDER_NBR'].isin(D2022['Work Order Number'] )]\n",
    "Snow2022NMutal=MYnot_found_ids22['WORKORDER_NBR'].dropna().tolist()"
   ]
  },
  {
   "cell_type": "code",
   "execution_count": 13,
   "metadata": {},
   "outputs": [
    {
     "ename": "NameError",
     "evalue": "name 'Snow2022NMutal' is not defined",
     "output_type": "error",
     "traceback": [
      "\u001b[1;31m---------------------------------------------------------------------------\u001b[0m",
      "\u001b[1;31mNameError\u001b[0m                                 Traceback (most recent call last)",
      "\u001b[1;32m<ipython-input-13-57d72f52cb80>\u001b[0m in \u001b[0;36m<module>\u001b[1;34m\u001b[0m\n\u001b[1;32m----> 1\u001b[1;33m \u001b[0mSnow2022NMutal\u001b[0m\u001b[1;33m\u001b[0m\u001b[1;33m\u001b[0m\u001b[0m\n\u001b[0m",
      "\u001b[1;31mNameError\u001b[0m: name 'Snow2022NMutal' is not defined"
     ]
    }
   ],
   "source": [
    "Snow2022NMutal"
   ]
  },
  {
   "cell_type": "code",
   "execution_count": 186,
   "metadata": {},
   "outputs": [],
   "source": [
    "with open(\"C:****\\Snow2022.txt\", 'w') as output:\n",
    "   for row in Snow2022NMutal:\n",
    "        output.write(str(row) + '\\n')"
   ]
  },
  {
   "cell_type": "code",
   "execution_count": 14,
   "metadata": {},
   "outputs": [
    {
     "ename": "NameError",
     "evalue": "name 'FormSubValue2022' is not defined",
     "output_type": "error",
     "traceback": [
      "\u001b[1;31m---------------------------------------------------------------------------\u001b[0m",
      "\u001b[1;31mNameError\u001b[0m                                 Traceback (most recent call last)",
      "\u001b[1;32m<ipython-input-14-1120fc64be94>\u001b[0m in \u001b[0;36m<module>\u001b[1;34m\u001b[0m\n\u001b[1;32m----> 1\u001b[1;33m \u001b[0mSnow2022NMutalT\u001b[0m\u001b[1;33m=\u001b[0m\u001b[0mFormSubValue2022\u001b[0m\u001b[1;33m.\u001b[0m\u001b[0mloc\u001b[0m\u001b[1;33m[\u001b[0m\u001b[0mFormSubValue2022\u001b[0m\u001b[1;33m[\u001b[0m\u001b[1;34m'WORKORDER_NBR'\u001b[0m\u001b[1;33m]\u001b[0m\u001b[1;33m.\u001b[0m\u001b[0misin\u001b[0m\u001b[1;33m(\u001b[0m\u001b[0mSnow2022NMutal\u001b[0m\u001b[1;33m)\u001b[0m\u001b[1;33m]\u001b[0m\u001b[1;33m\u001b[0m\u001b[1;33m\u001b[0m\u001b[0m\n\u001b[0m\u001b[0;32m      2\u001b[0m \u001b[0mSnow2022NMutalT\u001b[0m\u001b[1;33m\u001b[0m\u001b[1;33m\u001b[0m\u001b[0m\n",
      "\u001b[1;31mNameError\u001b[0m: name 'FormSubValue2022' is not defined"
     ]
    }
   ],
   "source": [
    "Snow2022NMutalT=FormSubValue2022.loc[FormSubValue2022['WORKORDER_NBR'].isin(Snow2022NMutal)]\n",
    "Snow2022NMutalT"
   ]
  },
  {
   "cell_type": "code",
   "execution_count": 188,
   "metadata": {},
   "outputs": [],
   "source": [
    "Snow2022NMutalT.to_csv('C:\\****\\Snow2022.csv')"
   ]
  },
  {
   "cell_type": "markdown",
   "metadata": {},
   "source": [
    "## Comparison Ends"
   ]
  },
  {
   "cell_type": "code",
   "execution_count": 102,
   "metadata": {
    "scrolled": false
   },
   "outputs": [
    {
     "data": {
      "text/plain": [
       "FORM_KEY                                                 int64\n",
       "ENTITY_TYPE                                             object\n",
       "CLIENT_KEY                                               int64\n",
       "BUILDING_KEY                                             int64\n",
       "EQUIPMENT_KEY                                            int64\n",
       "WORKORDER_NBR                                           object\n",
       "ATC_ID                                                  object\n",
       "SUBMISSION_ID                                           object\n",
       "SOURCE                                                  object\n",
       "SUBMISSION_STATUS                                       object\n",
       "SUBMITTED_DATE                                          object\n",
       "SUBMITTED_DATE_KEY                                       int64\n",
       "CREATED_DATE                                    datetime64[ns]\n",
       "CREATED_DATE_KEY                                         int64\n",
       "CREATED_BY                                              object\n",
       "TEMPLATE_DESCRIPTION                                    object\n",
       "TEMPLATE_POSITION                                        int64\n",
       "FIELD_ID                                               float64\n",
       "FIELD_NAME                                              object\n",
       "FIELD_NAME_ENGLISH                                      object\n",
       "FIELD_COLUMN                                            object\n",
       "FIELD_DATATYPE                                          object\n",
       "FIELD_POSITION                                         float64\n",
       "FIELD_VALUE                                             object\n",
       "ARCHIVED_FLAG                                           object\n",
       "LONGITUDE                                              float64\n",
       "LATITUDE                                               float64\n",
       "GEO_ACCURACY                                           float64\n",
       "REFERENCE                                               object\n",
       "DSS_CREATE_TIME         datetime64[ns, pytz.FixedOffset(-240)]\n",
       "DSS_UPDATE_TIME         datetime64[ns, pytz.FixedOffset(-240)]\n",
       "dtype: object"
      ]
     },
     "execution_count": 102,
     "metadata": {},
     "output_type": "execute_result"
    }
   ],
   "source": [
    "result = FormSubValue.dtypes\n",
    "result"
   ]
  },
  {
   "cell_type": "markdown",
   "metadata": {},
   "source": [
    "### Pivot table is made"
   ]
  },
  {
   "cell_type": "code",
   "execution_count": 103,
   "metadata": {},
   "outputs": [
    {
     "data": {
      "text/plain": [
       "array(['Photo - After', 'CBG', 'Work Order Number', 'Key Value Added',\n",
       "       'Work Order Type', 'Building ID', 'Address', 'City',\n",
       "       'Regional Operation Manager', 'Photo - Before',\n",
       "       'Travel Time to Site', 'Time Spent on Value Add',\n",
       "       'Description of Value Added Task', None], dtype=object)"
      ]
     },
     "execution_count": 103,
     "metadata": {},
     "output_type": "execute_result"
    }
   ],
   "source": [
    "FormSubValue['FIELD_NAME'].unique()"
   ]
  },
  {
   "cell_type": "code",
   "execution_count": 15,
   "metadata": {
    "scrolled": true
   },
   "outputs": [
    {
     "ename": "NameError",
     "evalue": "name 'FormSubValue' is not defined",
     "output_type": "error",
     "traceback": [
      "\u001b[1;31m---------------------------------------------------------------------------\u001b[0m",
      "\u001b[1;31mNameError\u001b[0m                                 Traceback (most recent call last)",
      "\u001b[1;32m<ipython-input-15-4b1895b55569>\u001b[0m in \u001b[0;36m<module>\u001b[1;34m\u001b[0m\n\u001b[1;32m----> 1\u001b[1;33m \u001b[0mdf\u001b[0m\u001b[1;33m=\u001b[0m\u001b[0mFormSubValue\u001b[0m\u001b[1;33m[\u001b[0m\u001b[1;33m[\u001b[0m\u001b[1;34m'WORKORDER_NBR'\u001b[0m\u001b[1;33m,\u001b[0m\u001b[1;34m'REFERENCE'\u001b[0m\u001b[1;33m,\u001b[0m\u001b[1;34m'SUBMISSION_ID'\u001b[0m\u001b[1;33m,\u001b[0m\u001b[1;34m'CREATED_DATE'\u001b[0m\u001b[1;33m,\u001b[0m\u001b[1;34m'CREATED_BY'\u001b[0m\u001b[1;33m,\u001b[0m\u001b[1;34m'SOURCE'\u001b[0m\u001b[1;33m,\u001b[0m\u001b[1;34m'SUBMISSION_STATUS'\u001b[0m\u001b[1;33m,\u001b[0m\u001b[1;34m'ENTITY_TYPE'\u001b[0m\u001b[1;33m,\u001b[0m\u001b[1;34m'FIELD_NAME'\u001b[0m\u001b[1;33m,\u001b[0m\u001b[1;34m'LATITUDE'\u001b[0m\u001b[1;33m,\u001b[0m\u001b[1;34m'LONGITUDE'\u001b[0m\u001b[1;33m,\u001b[0m\u001b[1;34m'FIELD_VALUE'\u001b[0m\u001b[1;33m]\u001b[0m\u001b[1;33m]\u001b[0m\u001b[1;33m\u001b[0m\u001b[1;33m\u001b[0m\u001b[0m\n\u001b[0m\u001b[0;32m      2\u001b[0m \u001b[1;31m#\u001b[0m\u001b[1;33m\u001b[0m\u001b[1;33m\u001b[0m\u001b[1;33m\u001b[0m\u001b[0m\n\u001b[0;32m      3\u001b[0m \u001b[0mdf\u001b[0m\u001b[1;33m\u001b[0m\u001b[1;33m\u001b[0m\u001b[0m\n",
      "\u001b[1;31mNameError\u001b[0m: name 'FormSubValue' is not defined"
     ]
    }
   ],
   "source": [
    "df=FormSubValue[['WORKORDER_NBR','REFERENCE','SUBMISSION_ID','CREATED_DATE','CREATED_BY','SOURCE','SUBMISSION_STATUS','ENTITY_TYPE','FIELD_NAME','LATITUDE','LONGITUDE','FIELD_VALUE']]\n",
    "#\n",
    "df\n"
   ]
  },
  {
   "cell_type": "code",
   "execution_count": 105,
   "metadata": {},
   "outputs": [
    {
     "data": {
      "text/plain": [
       "WORKORDER_NBR            31\n",
       "REFERENCE            117077\n",
       "SUBMISSION_ID             0\n",
       "CREATED_DATE              0\n",
       "CREATED_BY                0\n",
       "SOURCE                    0\n",
       "SUBMISSION_STATUS         0\n",
       "ENTITY_TYPE               0\n",
       "FIELD_NAME               31\n",
       "LATITUDE              18924\n",
       "LONGITUDE             18924\n",
       "FIELD_VALUE              39\n",
       "dtype: int64"
      ]
     },
     "execution_count": 105,
     "metadata": {},
     "output_type": "execute_result"
    }
   ],
   "source": [
    "df.isna().sum()"
   ]
  },
  {
   "cell_type": "code",
   "execution_count": 16,
   "metadata": {},
   "outputs": [
    {
     "ename": "NameError",
     "evalue": "name 'pd' is not defined",
     "output_type": "error",
     "traceback": [
      "\u001b[1;31m---------------------------------------------------------------------------\u001b[0m",
      "\u001b[1;31mNameError\u001b[0m                                 Traceback (most recent call last)",
      "\u001b[1;32m<ipython-input-16-6843fc0a9ebd>\u001b[0m in \u001b[0;36m<module>\u001b[1;34m\u001b[0m\n\u001b[1;32m----> 1\u001b[1;33m \u001b[0mPivdf\u001b[0m\u001b[1;33m=\u001b[0m\u001b[0mpd\u001b[0m\u001b[1;33m.\u001b[0m\u001b[0mpivot_table\u001b[0m\u001b[1;33m(\u001b[0m\u001b[0mFormSubValue\u001b[0m\u001b[1;33m,\u001b[0m\u001b[0mindex\u001b[0m\u001b[1;33m=\u001b[0m\u001b[1;33m[\u001b[0m\u001b[1;34m'WORKORDER_NBR'\u001b[0m\u001b[1;33m,\u001b[0m\u001b[1;34m'SUBMISSION_ID'\u001b[0m\u001b[1;33m,\u001b[0m\u001b[1;34m'CREATED_DATE'\u001b[0m\u001b[1;33m,\u001b[0m\u001b[1;34m'CREATED_BY'\u001b[0m\u001b[1;33m,\u001b[0m\u001b[1;34m'SOURCE'\u001b[0m\u001b[1;33m,\u001b[0m\u001b[1;34m'SUBMISSION_STATUS'\u001b[0m\u001b[1;33m,\u001b[0m\u001b[1;34m'ENTITY_TYPE'\u001b[0m\u001b[1;33m,\u001b[0m\u001b[1;34m'LATITUDE'\u001b[0m\u001b[1;33m,\u001b[0m\u001b[1;34m'LONGITUDE'\u001b[0m\u001b[1;33m]\u001b[0m\u001b[1;33m,\u001b[0m\u001b[0mcolumns\u001b[0m\u001b[1;33m=\u001b[0m\u001b[1;33m[\u001b[0m\u001b[1;34m'FIELD_NAME'\u001b[0m\u001b[1;33m]\u001b[0m\u001b[1;33m,\u001b[0m\u001b[0mvalues\u001b[0m\u001b[1;33m=\u001b[0m \u001b[1;33m[\u001b[0m\u001b[1;34m'FIELD_VALUE'\u001b[0m\u001b[1;33m]\u001b[0m\u001b[1;33m,\u001b[0m\u001b[0maggfunc\u001b[0m\u001b[1;33m=\u001b[0m\u001b[1;34m'first'\u001b[0m\u001b[1;33m)\u001b[0m\u001b[1;33m\u001b[0m\u001b[1;33m\u001b[0m\u001b[0m\n\u001b[0m\u001b[0;32m      2\u001b[0m \u001b[0mPivdf\u001b[0m\u001b[1;33m\u001b[0m\u001b[1;33m\u001b[0m\u001b[0m\n",
      "\u001b[1;31mNameError\u001b[0m: name 'pd' is not defined"
     ]
    }
   ],
   "source": [
    "Pivdf=pd.pivot_table(FormSubValue,index=['WORKORDER_NBR','SUBMISSION_ID','CREATED_DATE','CREATED_BY','SOURCE','SUBMISSION_STATUS','ENTITY_TYPE','LATITUDE','LONGITUDE'],columns=['FIELD_NAME'],values= ['FIELD_VALUE'],aggfunc='first')\n",
    "Pivdf"
   ]
  },
  {
   "cell_type": "code",
   "execution_count": 107,
   "metadata": {
    "scrolled": true
   },
   "outputs": [
    {
     "name": "stdout",
     "output_type": "stream",
     "text": [
      "Index(['WORKORDER_NBR', 'SUBMISSION_ID', 'CREATED_DATE', 'CREATED_BY',\n",
      "       'SOURCE', 'SUBMISSION_STATUS', 'ENTITY_TYPE', 'LATITUDE', 'LONGITUDE',\n",
      "       'FIELD_VALUE Address', 'FIELD_VALUE Building ID', 'FIELD_VALUE CBG',\n",
      "       'FIELD_VALUE City', 'FIELD_VALUE Description of Value Added Task',\n",
      "       'FIELD_VALUE Key Value Added', 'FIELD_VALUE Photo - After',\n",
      "       'FIELD_VALUE Photo - Before', 'FIELD_VALUE Regional Operation Manager',\n",
      "       'FIELD_VALUE Time Spent on Value Add',\n",
      "       'FIELD_VALUE Travel Time to Site', 'FIELD_VALUE Work Order Number',\n",
      "       'FIELD_VALUE Work Order Type'],\n",
      "      dtype='object')\n"
     ]
    }
   ],
   "source": [
    "Pivdf.columns = list(map(\" \".join, Pivdf.columns))\n",
    "Pivdf = Pivdf.reset_index()\n",
    "print(Pivdf.columns)\n"
   ]
  },
  {
   "cell_type": "code",
   "execution_count": 17,
   "metadata": {},
   "outputs": [
    {
     "ename": "NameError",
     "evalue": "name 'Pivdf' is not defined",
     "output_type": "error",
     "traceback": [
      "\u001b[1;31m---------------------------------------------------------------------------\u001b[0m",
      "\u001b[1;31mNameError\u001b[0m                                 Traceback (most recent call last)",
      "\u001b[1;32m<ipython-input-17-ee907f5ec680>\u001b[0m in \u001b[0;36m<module>\u001b[1;34m\u001b[0m\n\u001b[1;32m----> 1\u001b[1;33m \u001b[0mPivdf\u001b[0m\u001b[1;33m\u001b[0m\u001b[1;33m\u001b[0m\u001b[0m\n\u001b[0m",
      "\u001b[1;31mNameError\u001b[0m: name 'Pivdf' is not defined"
     ]
    }
   ],
   "source": [
    "Pivdf"
   ]
  },
  {
   "cell_type": "code",
   "execution_count": 109,
   "metadata": {},
   "outputs": [],
   "source": [
    "Pivdf= Pivdf.sort_values(by=['CREATED_DATE'], ascending=True)"
   ]
  },
  {
   "cell_type": "code",
   "execution_count": 110,
   "metadata": {},
   "outputs": [
    {
     "data": {
      "text/plain": [
       "3953   2020-04-06\n",
       "1595   2020-04-07\n",
       "1596   2020-04-07\n",
       "5908   2020-04-07\n",
       "5907   2020-04-07\n",
       "          ...    \n",
       "3444   2022-06-23\n",
       "3445   2022-06-23\n",
       "5337   2022-06-23\n",
       "3499   2022-06-23\n",
       "3476   2022-06-23\n",
       "Name: CREATED_DATE, Length: 7841, dtype: datetime64[ns]"
      ]
     },
     "execution_count": 110,
     "metadata": {},
     "output_type": "execute_result"
    }
   ],
   "source": [
    "Pivdf.loc[:,'CREATED_DATE']"
   ]
  },
  {
   "cell_type": "code",
   "execution_count": 111,
   "metadata": {},
   "outputs": [
    {
     "data": {
      "text/plain": [
       "Timestamp('2020-04-06 00:00:00')"
      ]
     },
     "execution_count": 111,
     "metadata": {},
     "output_type": "execute_result"
    }
   ],
   "source": [
    "Pivdf[\"CREATED_DATE\"].min()"
   ]
  },
  {
   "cell_type": "code",
   "execution_count": 112,
   "metadata": {},
   "outputs": [
    {
     "data": {
      "text/plain": [
       "Timestamp('2022-06-23 00:00:00')"
      ]
     },
     "execution_count": 112,
     "metadata": {},
     "output_type": "execute_result"
    }
   ],
   "source": [
    "Pivdf[\"CREATED_DATE\"].max()"
   ]
  },
  {
   "cell_type": "code",
   "execution_count": 18,
   "metadata": {
    "scrolled": true
   },
   "outputs": [
    {
     "ename": "NameError",
     "evalue": "name 'Pivdf' is not defined",
     "output_type": "error",
     "traceback": [
      "\u001b[1;31m---------------------------------------------------------------------------\u001b[0m",
      "\u001b[1;31mNameError\u001b[0m                                 Traceback (most recent call last)",
      "\u001b[1;32m<ipython-input-18-a9935a96b7af>\u001b[0m in \u001b[0;36m<module>\u001b[1;34m\u001b[0m\n\u001b[1;32m----> 1\u001b[1;33m \u001b[0mPivdf\u001b[0m\u001b[1;33m.\u001b[0m\u001b[0mhead\u001b[0m\u001b[1;33m(\u001b[0m\u001b[1;33m)\u001b[0m\u001b[1;33m\u001b[0m\u001b[1;33m\u001b[0m\u001b[0m\n\u001b[0m",
      "\u001b[1;31mNameError\u001b[0m: name 'Pivdf' is not defined"
     ]
    }
   ],
   "source": [
    "Pivdf.head()"
   ]
  },
  {
   "cell_type": "code",
   "execution_count": 114,
   "metadata": {},
   "outputs": [
    {
     "data": {
      "text/plain": [
       "['WORKORDER_NBR',\n",
       " 'SUBMISSION_ID',\n",
       " 'CREATED_DATE',\n",
       " 'CREATED_BY',\n",
       " 'SOURCE',\n",
       " 'SUBMISSION_STATUS',\n",
       " 'ENTITY_TYPE',\n",
       " 'LATITUDE',\n",
       " 'LONGITUDE',\n",
       " 'FIELD_VALUE Address',\n",
       " 'FIELD_VALUE Building ID',\n",
       " 'FIELD_VALUE CBG',\n",
       " 'FIELD_VALUE City',\n",
       " 'FIELD_VALUE Description of Value Added Task',\n",
       " 'FIELD_VALUE Key Value Added',\n",
       " 'FIELD_VALUE Photo - After',\n",
       " 'FIELD_VALUE Photo - Before',\n",
       " 'FIELD_VALUE Regional Operation Manager',\n",
       " 'FIELD_VALUE Time Spent on Value Add',\n",
       " 'FIELD_VALUE Travel Time to Site',\n",
       " 'FIELD_VALUE Work Order Number',\n",
       " 'FIELD_VALUE Work Order Type']"
      ]
     },
     "execution_count": 114,
     "metadata": {},
     "output_type": "execute_result"
    }
   ],
   "source": [
    "Pivdf.columns.tolist()"
   ]
  },
  {
   "cell_type": "code",
   "execution_count": 115,
   "metadata": {},
   "outputs": [
    {
     "data": {
      "text/plain": [
       "0"
      ]
     },
     "execution_count": 115,
     "metadata": {},
     "output_type": "execute_result"
    }
   ],
   "source": [
    "Pivdf.duplicated().sum()"
   ]
  },
  {
   "cell_type": "code",
   "execution_count": 116,
   "metadata": {},
   "outputs": [
    {
     "data": {
      "text/plain": [
       "0"
      ]
     },
     "execution_count": 116,
     "metadata": {},
     "output_type": "execute_result"
    }
   ],
   "source": [
    "Pivdf['CREATED_DATE'].isna().sum()"
   ]
  },
  {
   "cell_type": "code",
   "execution_count": 117,
   "metadata": {},
   "outputs": [
    {
     "data": {
      "text/plain": [
       "WORKORDER_NBR                                     0\n",
       "SUBMISSION_ID                                     0\n",
       "CREATED_DATE                                      0\n",
       "CREATED_BY                                        0\n",
       "SOURCE                                            0\n",
       "SUBMISSION_STATUS                                 0\n",
       "ENTITY_TYPE                                       0\n",
       "LATITUDE                                          0\n",
       "LONGITUDE                                         0\n",
       "FIELD_VALUE Address                              11\n",
       "FIELD_VALUE Building ID                          11\n",
       "FIELD_VALUE CBG                                  11\n",
       "FIELD_VALUE City                                 11\n",
       "FIELD_VALUE Description of Value Added Task       0\n",
       "FIELD_VALUE Key Value Added                       1\n",
       "FIELD_VALUE Photo - After                      2018\n",
       "FIELD_VALUE Photo - Before                     1707\n",
       "FIELD_VALUE Regional Operation Manager            1\n",
       "FIELD_VALUE Time Spent on Value Add               1\n",
       "FIELD_VALUE Travel Time to Site                   1\n",
       "FIELD_VALUE Work Order Number                     0\n",
       "FIELD_VALUE Work Order Type                      11\n",
       "dtype: int64"
      ]
     },
     "execution_count": 117,
     "metadata": {},
     "output_type": "execute_result"
    }
   ],
   "source": [
    "Pivdf.isna().sum()"
   ]
  },
  {
   "cell_type": "code",
   "execution_count": 118,
   "metadata": {},
   "outputs": [
    {
     "data": {
      "text/plain": [
       "['WORKORDER_NBR',\n",
       " 'SUBMISSION_ID',\n",
       " 'CREATED_DATE',\n",
       " 'CREATED_BY',\n",
       " 'SOURCE',\n",
       " 'SUBMISSION_STATUS',\n",
       " 'ENTITY_TYPE',\n",
       " 'LATITUDE',\n",
       " 'LONGITUDE',\n",
       " 'FIELD_VALUE Address',\n",
       " 'FIELD_VALUE Building ID',\n",
       " 'FIELD_VALUE CBG',\n",
       " 'FIELD_VALUE City',\n",
       " 'FIELD_VALUE Description of Value Added Task',\n",
       " 'FIELD_VALUE Key Value Added',\n",
       " 'FIELD_VALUE Photo - After',\n",
       " 'FIELD_VALUE Photo - Before',\n",
       " 'FIELD_VALUE Regional Operation Manager',\n",
       " 'FIELD_VALUE Time Spent on Value Add',\n",
       " 'FIELD_VALUE Travel Time to Site',\n",
       " 'FIELD_VALUE Work Order Number',\n",
       " 'FIELD_VALUE Work Order Type']"
      ]
     },
     "execution_count": 118,
     "metadata": {},
     "output_type": "execute_result"
    }
   ],
   "source": [
    "Pivdf.columns.tolist()"
   ]
  },
  {
   "cell_type": "code",
   "execution_count": 19,
   "metadata": {},
   "outputs": [
    {
     "ename": "NameError",
     "evalue": "name 'Pivdf' is not defined",
     "output_type": "error",
     "traceback": [
      "\u001b[1;31m---------------------------------------------------------------------------\u001b[0m",
      "\u001b[1;31mNameError\u001b[0m                                 Traceback (most recent call last)",
      "\u001b[1;32m<ipython-input-19-9289ecf33713>\u001b[0m in \u001b[0;36m<module>\u001b[1;34m\u001b[0m\n\u001b[1;32m----> 1\u001b[1;33m \u001b[0mPivdf\u001b[0m\u001b[1;33m[\u001b[0m\u001b[1;34m'FIELD_VALUE CBG'\u001b[0m\u001b[1;33m]\u001b[0m\u001b[1;33m.\u001b[0m\u001b[0munique\u001b[0m\u001b[1;33m(\u001b[0m\u001b[1;33m)\u001b[0m\u001b[1;33m\u001b[0m\u001b[1;33m\u001b[0m\u001b[0m\n\u001b[0m",
      "\u001b[1;31mNameError\u001b[0m: name 'Pivdf' is not defined"
     ]
    }
   ],
   "source": [
    "Pivdf['FIELD_VALUE CBG'].unique()"
   ]
  },
  {
   "cell_type": "code",
   "execution_count": 120,
   "metadata": {},
   "outputs": [],
   "source": [
    "#import pandas_profiling\n",
    "\n",
    "\n",
    "\n",
    "#profile = pandas_profiling.ProfileReport(Pivdf , title=' Profiling Report', explorative=True)\n",
    "#profile.to_file(\"HistoricalValueAddedTask Descriptive Statistics .html\")"
   ]
  },
  {
   "cell_type": "markdown",
   "metadata": {},
   "source": [
    "### Saving the final file"
   ]
  },
  {
   "cell_type": "code",
   "execution_count": 121,
   "metadata": {},
   "outputs": [],
   "source": [
    "pivdf.to_csv('****/HistoricalAddedValue.csv')"
   ]
  },
  {
   "cell_type": "markdown",
   "metadata": {},
   "source": [
    "### Compare my table with David'd table"
   ]
  },
  {
   "cell_type": "code",
   "execution_count": 122,
   "metadata": {},
   "outputs": [],
   "source": [
    "D = pd.read_excel ('C:****\\Value Add PowerBI.xlsx')"
   ]
  },
  {
   "cell_type": "code",
   "execution_count": 20,
   "metadata": {
    "scrolled": true
   },
   "outputs": [
    {
     "ename": "NameError",
     "evalue": "name 'D' is not defined",
     "output_type": "error",
     "traceback": [
      "\u001b[1;31m---------------------------------------------------------------------------\u001b[0m",
      "\u001b[1;31mNameError\u001b[0m                                 Traceback (most recent call last)",
      "\u001b[1;32m<ipython-input-20-39e0574a4abf>\u001b[0m in \u001b[0;36m<module>\u001b[1;34m\u001b[0m\n\u001b[1;32m----> 1\u001b[1;33m \u001b[0mD\u001b[0m\u001b[1;33m\u001b[0m\u001b[1;33m\u001b[0m\u001b[0m\n\u001b[0m",
      "\u001b[1;31mNameError\u001b[0m: name 'D' is not defined"
     ]
    }
   ],
   "source": [
    "D"
   ]
  },
  {
   "cell_type": "code",
   "execution_count": 124,
   "metadata": {
    "scrolled": true
   },
   "outputs": [
    {
     "data": {
      "text/plain": [
       "['FORM_NAME',\n",
       " 'VERSION',\n",
       " 'STATUS_CODE',\n",
       " 'SOURCE',\n",
       " 'CREATED_BY',\n",
       " 'SUBMITTED_ON',\n",
       " 'SUBMISSION_ID',\n",
       " 'LONGITUDE',\n",
       " 'LATITUDE',\n",
       " 'REFERENCE',\n",
       " 'Work Order Number',\n",
       " 'CBG',\n",
       " 'Work Order Type',\n",
       " 'Building ID',\n",
       " 'Address',\n",
       " 'City',\n",
       " 'Regional Operation Manager',\n",
       " 'Key Value Added',\n",
       " 'Time Spent on Value Add',\n",
       " 'Travel Time to Site',\n",
       " 'Description of Value Added Task',\n",
       " 'Photo - Before',\n",
       " 'Photo - After']"
      ]
     },
     "execution_count": 124,
     "metadata": {},
     "output_type": "execute_result"
    }
   ],
   "source": [
    "D.columns.tolist()"
   ]
  },
  {
   "cell_type": "code",
   "execution_count": 125,
   "metadata": {},
   "outputs": [
    {
     "data": {
      "text/plain": [
       "False    19332\n",
       "True      7743\n",
       "Name: Work Order Number, dtype: int64"
      ]
     },
     "execution_count": 125,
     "metadata": {},
     "output_type": "execute_result"
    }
   ],
   "source": [
    "D['Work Order Number'].isin(Pivdf['WORKORDER_NBR']).value_counts()"
   ]
  },
  {
   "cell_type": "code",
   "execution_count": 126,
   "metadata": {},
   "outputs": [
    {
     "data": {
      "text/plain": [
       "0         True\n",
       "1        False\n",
       "2         True\n",
       "3         True\n",
       "4         True\n",
       "         ...  \n",
       "27070    False\n",
       "27071     True\n",
       "27072     True\n",
       "27073     True\n",
       "27074    False\n",
       "Name: Work Order Number, Length: 27075, dtype: bool"
      ]
     },
     "execution_count": 126,
     "metadata": {},
     "output_type": "execute_result"
    }
   ],
   "source": [
    "D['Work Order Number'].isin(Pivdf['WORKORDER_NBR'])"
   ]
  },
  {
   "cell_type": "code",
   "execution_count": 127,
   "metadata": {},
   "outputs": [
    {
     "data": {
      "text/plain": [
       "False    20398\n",
       "True      6677\n",
       "Name: SUBMISSION_ID, dtype: int64"
      ]
     },
     "execution_count": 127,
     "metadata": {},
     "output_type": "execute_result"
    }
   ],
   "source": [
    "D['SUBMISSION_ID'].isin(Pivdf['SUBMISSION_ID']).value_counts()"
   ]
  },
  {
   "cell_type": "code",
   "execution_count": 128,
   "metadata": {},
   "outputs": [
    {
     "data": {
      "text/plain": [
       "True     6525\n",
       "False    1316\n",
       "Name: SUBMISSION_ID, dtype: int64"
      ]
     },
     "execution_count": 128,
     "metadata": {},
     "output_type": "execute_result"
    }
   ],
   "source": [
    "Pivdf['SUBMISSION_ID'].isin(D['SUBMISSION_ID']).value_counts()"
   ]
  },
  {
   "cell_type": "code",
   "execution_count": 129,
   "metadata": {},
   "outputs": [
    {
     "data": {
      "text/plain": [
       "False    17866\n",
       "True      9209\n",
       "Name: Work Order Number, dtype: int64"
      ]
     },
     "execution_count": 129,
     "metadata": {},
     "output_type": "execute_result"
    }
   ],
   "source": [
    "D['Work Order Number'].isin(FormSubValue['WORKORDER_NBR']).value_counts()"
   ]
  },
  {
   "cell_type": "code",
   "execution_count": 130,
   "metadata": {},
   "outputs": [],
   "source": [
    "D['SUBMITTED_ON']= pd.to_datetime(D['SUBMITTED_ON'], errors='coerce', utc=True)"
   ]
  },
  {
   "cell_type": "code",
   "execution_count": 131,
   "metadata": {},
   "outputs": [],
   "source": []
  },
  {
   "cell_type": "code",
   "execution_count": 21,
   "metadata": {},
   "outputs": [
    {
     "ename": "NameError",
     "evalue": "name 'D' is not defined",
     "output_type": "error",
     "traceback": [
      "\u001b[1;31m---------------------------------------------------------------------------\u001b[0m",
      "\u001b[1;31mNameError\u001b[0m                                 Traceback (most recent call last)",
      "\u001b[1;32m<ipython-input-21-c3637d5b5333>\u001b[0m in \u001b[0;36m<module>\u001b[1;34m\u001b[0m\n\u001b[1;32m----> 1\u001b[1;33m \u001b[0mD2019\u001b[0m \u001b[1;33m=\u001b[0m \u001b[0mD\u001b[0m\u001b[1;33m[\u001b[0m\u001b[0mD\u001b[0m\u001b[1;33m[\u001b[0m\u001b[1;34m'SUBMITTED_ON'\u001b[0m\u001b[1;33m]\u001b[0m\u001b[1;33m.\u001b[0m\u001b[0mdt\u001b[0m\u001b[1;33m.\u001b[0m\u001b[0mstrftime\u001b[0m\u001b[1;33m(\u001b[0m\u001b[1;34m'%Y'\u001b[0m\u001b[1;33m)\u001b[0m \u001b[1;33m==\u001b[0m \u001b[1;34m'2019'\u001b[0m\u001b[1;33m]\u001b[0m\u001b[1;33m\u001b[0m\u001b[1;33m\u001b[0m\u001b[0m\n\u001b[0m\u001b[0;32m      2\u001b[0m \u001b[0mD2019\u001b[0m\u001b[1;33m\u001b[0m\u001b[1;33m\u001b[0m\u001b[0m\n",
      "\u001b[1;31mNameError\u001b[0m: name 'D' is not defined"
     ]
    }
   ],
   "source": [
    "D2019 = D[D['SUBMITTED_ON'].dt.strftime('%Y') == '2019']\n",
    "D2019"
   ]
  },
  {
   "cell_type": "code",
   "execution_count": 22,
   "metadata": {},
   "outputs": [
    {
     "ename": "NameError",
     "evalue": "name 'D' is not defined",
     "output_type": "error",
     "traceback": [
      "\u001b[1;31m---------------------------------------------------------------------------\u001b[0m",
      "\u001b[1;31mNameError\u001b[0m                                 Traceback (most recent call last)",
      "\u001b[1;32m<ipython-input-22-0fdccbbe32c0>\u001b[0m in \u001b[0;36m<module>\u001b[1;34m\u001b[0m\n\u001b[1;32m----> 1\u001b[1;33m \u001b[0mD\u001b[0m \u001b[1;33m=\u001b[0m \u001b[0mD\u001b[0m\u001b[1;33m[\u001b[0m\u001b[0mD\u001b[0m\u001b[1;33m[\u001b[0m\u001b[1;34m'SUBMITTED_ON'\u001b[0m\u001b[1;33m]\u001b[0m\u001b[1;33m.\u001b[0m\u001b[0mdt\u001b[0m\u001b[1;33m.\u001b[0m\u001b[0mstrftime\u001b[0m\u001b[1;33m(\u001b[0m\u001b[1;34m'%Y'\u001b[0m\u001b[1;33m)\u001b[0m \u001b[1;33m==\u001b[0m \u001b[1;34m'2020'\u001b[0m\u001b[1;33m]\u001b[0m\u001b[1;33m\u001b[0m\u001b[1;33m\u001b[0m\u001b[0m\n\u001b[0m\u001b[0;32m      2\u001b[0m \u001b[0mD2020\u001b[0m\u001b[1;33m\u001b[0m\u001b[1;33m\u001b[0m\u001b[0m\n",
      "\u001b[1;31mNameError\u001b[0m: name 'D' is not defined"
     ]
    }
   ],
   "source": [
    "D = D[D['SUBMITTED_ON'].dt.strftime('%Y') == '2020']\n",
    "D2020"
   ]
  },
  {
   "cell_type": "code",
   "execution_count": 134,
   "metadata": {},
   "outputs": [
    {
     "data": {
      "text/plain": [
       "1227"
      ]
     },
     "execution_count": 134,
     "metadata": {},
     "output_type": "execute_result"
    }
   ],
   "source": [
    "D2020['Work Order Number'].duplicated().sum()"
   ]
  },
  {
   "cell_type": "code",
   "execution_count": 135,
   "metadata": {},
   "outputs": [
    {
     "data": {
      "text/plain": [
       "0"
      ]
     },
     "execution_count": 135,
     "metadata": {},
     "output_type": "execute_result"
    }
   ],
   "source": [
    "D2020['Work Order Number'].isna().sum()"
   ]
  },
  {
   "cell_type": "code",
   "execution_count": 23,
   "metadata": {},
   "outputs": [
    {
     "ename": "NameError",
     "evalue": "name 'D' is not defined",
     "output_type": "error",
     "traceback": [
      "\u001b[1;31m---------------------------------------------------------------------------\u001b[0m",
      "\u001b[1;31mNameError\u001b[0m                                 Traceback (most recent call last)",
      "\u001b[1;32m<ipython-input-23-129ac8fec81e>\u001b[0m in \u001b[0;36m<module>\u001b[1;34m\u001b[0m\n\u001b[1;32m----> 1\u001b[1;33m \u001b[0mD2021\u001b[0m \u001b[1;33m=\u001b[0m \u001b[0mD\u001b[0m\u001b[1;33m[\u001b[0m\u001b[0mD\u001b[0m\u001b[1;33m[\u001b[0m\u001b[1;34m'SUBMITTED_ON'\u001b[0m\u001b[1;33m]\u001b[0m\u001b[1;33m.\u001b[0m\u001b[0mdt\u001b[0m\u001b[1;33m.\u001b[0m\u001b[0mstrftime\u001b[0m\u001b[1;33m(\u001b[0m\u001b[1;34m'%Y'\u001b[0m\u001b[1;33m)\u001b[0m \u001b[1;33m==\u001b[0m \u001b[1;34m'2021'\u001b[0m\u001b[1;33m]\u001b[0m\u001b[1;33m\u001b[0m\u001b[1;33m\u001b[0m\u001b[0m\n\u001b[0m\u001b[0;32m      2\u001b[0m \u001b[0mD2021\u001b[0m\u001b[1;33m\u001b[0m\u001b[1;33m\u001b[0m\u001b[0m\n",
      "\u001b[1;31mNameError\u001b[0m: name 'D' is not defined"
     ]
    }
   ],
   "source": [
    "D2021 = D[D['SUBMITTED_ON'].dt.strftime('%Y') == '2021']\n",
    "D2021"
   ]
  },
  {
   "cell_type": "code",
   "execution_count": 137,
   "metadata": {},
   "outputs": [
    {
     "data": {
      "text/plain": [
       "791"
      ]
     },
     "execution_count": 137,
     "metadata": {},
     "output_type": "execute_result"
    }
   ],
   "source": [
    "D2021['Work Order Number'].duplicated().sum()"
   ]
  },
  {
   "cell_type": "code",
   "execution_count": 138,
   "metadata": {},
   "outputs": [
    {
     "data": {
      "text/plain": [
       "20"
      ]
     },
     "execution_count": 138,
     "metadata": {},
     "output_type": "execute_result"
    }
   ],
   "source": [
    "D2021['Work Order Number'].isna().sum()"
   ]
  },
  {
   "cell_type": "code",
   "execution_count": 24,
   "metadata": {},
   "outputs": [
    {
     "ename": "NameError",
     "evalue": "name 'D' is not defined",
     "output_type": "error",
     "traceback": [
      "\u001b[1;31m---------------------------------------------------------------------------\u001b[0m",
      "\u001b[1;31mNameError\u001b[0m                                 Traceback (most recent call last)",
      "\u001b[1;32m<ipython-input-24-f6a7bc3064ba>\u001b[0m in \u001b[0;36m<module>\u001b[1;34m\u001b[0m\n\u001b[1;32m----> 1\u001b[1;33m \u001b[0mD2022\u001b[0m \u001b[1;33m=\u001b[0m \u001b[0mD\u001b[0m\u001b[1;33m[\u001b[0m\u001b[0mD\u001b[0m\u001b[1;33m[\u001b[0m\u001b[1;34m'SUBMITTED_ON'\u001b[0m\u001b[1;33m]\u001b[0m\u001b[1;33m.\u001b[0m\u001b[0mdt\u001b[0m\u001b[1;33m.\u001b[0m\u001b[0mstrftime\u001b[0m\u001b[1;33m(\u001b[0m\u001b[1;34m'%Y'\u001b[0m\u001b[1;33m)\u001b[0m \u001b[1;33m==\u001b[0m \u001b[1;34m'2022'\u001b[0m\u001b[1;33m]\u001b[0m\u001b[1;33m\u001b[0m\u001b[1;33m\u001b[0m\u001b[0m\n\u001b[0m\u001b[0;32m      2\u001b[0m \u001b[0mD2022\u001b[0m\u001b[1;33m\u001b[0m\u001b[1;33m\u001b[0m\u001b[0m\n",
      "\u001b[1;31mNameError\u001b[0m: name 'D' is not defined"
     ]
    }
   ],
   "source": [
    "D2022 = D[D['SUBMITTED_ON'].dt.strftime('%Y') == '2022']\n",
    "D2022"
   ]
  },
  {
   "cell_type": "code",
   "execution_count": 140,
   "metadata": {},
   "outputs": [
    {
     "data": {
      "text/plain": [
       "97"
      ]
     },
     "execution_count": 140,
     "metadata": {},
     "output_type": "execute_result"
    }
   ],
   "source": [
    "D2022['Work Order Number'].duplicated().sum()"
   ]
  },
  {
   "cell_type": "code",
   "execution_count": 141,
   "metadata": {},
   "outputs": [
    {
     "data": {
      "text/plain": [
       "6"
      ]
     },
     "execution_count": 141,
     "metadata": {},
     "output_type": "execute_result"
    }
   ],
   "source": [
    "D2022['Work Order Number'].isna().sum()"
   ]
  },
  {
   "cell_type": "code",
   "execution_count": null,
   "metadata": {},
   "outputs": [],
   "source": []
  }
 ],
 "metadata": {
  "kernelspec": {
   "display_name": "Python 3",
   "language": "python",
   "name": "python3"
  },
  "language_info": {
   "codemirror_mode": {
    "name": "ipython",
    "version": 3
   },
   "file_extension": ".py",
   "mimetype": "text/x-python",
   "name": "python",
   "nbconvert_exporter": "python",
   "pygments_lexer": "ipython3",
   "version": "3.8.5"
  }
 },
 "nbformat": 4,
 "nbformat_minor": 5
}
