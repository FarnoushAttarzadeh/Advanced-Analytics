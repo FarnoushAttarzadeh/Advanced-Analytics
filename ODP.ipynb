{
 "cells": [
  {
   "cell_type": "code",
   "execution_count": 2,
   "metadata": {},
   "outputs": [],
   "source": [
    "import numpy as np\n",
    "import snowflake.connector\n",
    "import pandas as pd\n",
    "import datetime"
   ]
  },
  {
   "cell_type": "code",
   "execution_count": 3,
   "metadata": {},
   "outputs": [],
   "source": [
    "#pd.set_option('display.max_rows', None)\n",
    "pd.set_option('display.max_columns', None)\n",
    "pd.set_option('display.width', None)\n",
    "#pd.set_option('display.max_colwidth', None)\n"
   ]
  },
  {
   "cell_type": "code",
   "execution_count": 11,
   "metadata": {},
   "outputs": [
    {
     "name": "stdout",
     "output_type": "stream",
     "text": [
      "0\n"
     ]
    }
   ],
   "source": [
    "ctx2 = snowflake.connector.connect(\n",
    "        user='****',\n",
    "        password='****',\n",
    "        account='****', \n",
    "        warehouse='****',\n",
    "        database='****'\n",
    "       \n",
    "    )\n",
    "cs2 = ctx2.cursor()\n",
    "\n",
    "\n",
    "\n",
    "\n",
    "\n",
    "\n",
    "\n",
    "try:\n",
    "    \n",
    "    query2 = \"USE ROLE CORPBI_READER\"\n",
    "    cur2 = ctx2.cursor().execute(query2)\n",
    "    query2 =''' SELECT B.FACT.WORKORDERS.WORKORDER_NBR,\n",
    "B.FACT.W.WORKORDERFINANCIALSTATUS_KEY,\n",
    "B.FACT.W.SERVICEREQUEST_NBR,\n",
    "B.FACT.W.PROJECTCLASS_KEY,\n",
    "B.FACT.W.CLIENT_KEY,\n",
    "B.FACT.W.BUILDING_KEY,\n",
    "B.FACT.W.SERVICETYPE_KEY,\n",
    "B.FACT.W.REPORTEDBY,\n",
    "B.FACT.W.REQUESTTYPE_KEY,\n",
    "B.FACT.W.SERVICEPROVIDER_CLASS,\n",
    "B.FACT.W.SERVICEPROVIDER_KEY,\n",
    "B.FACT.W.SERVICEPROVIDERSITE_KEY,\n",
    "B.FACT.W.VENDOR_KEY,\n",
    "B.FACT.W.VENDOR_SITE_KEY,\n",
    "B.FACT.W.LANDLORD_KEY,\n",
    "B.FACT.W.LANDLORDSITE_KEY,\n",
    "B.FACT.W.SERVICEPROVIDER_NAME,\n",
    "B.FACT.W.COMPLETION_DATE,\n",
    "B.FACT.W.CREATION_DATE,\n",
    "B.FACT.W.CREATION_DATE_KEY,\n",
    "B.FACT.W.CREATION_CLIENTFISCALPERIOD_KEY,\n",
    "B.FACT.W.COMPLETION_DATE_KEY,\n",
    "B.FACT.W.COMPLETEDBY,\n",
    "B.FACT.W.COMPLETION_CLIENTFISCALPERIOD_KEY,\n",
    "B.FACT.W.WORKORDERTYPE_KEY,\n",
    "B.FACT.W.WORKORDERSOURCE_KEY,\n",
    "B.FACT.W.WORKORDERPRIORITY_KEY,\n",
    "B.FACT.W.WORKORDERJUNK_KEY,\n",
    "B.FACT.W.WORKORDERSTATUS_KEY,\n",
    "B.FACT.W.WORKORDERSELFCOMPLETIONTYPE_KEY,\n",
    "B.FACT.W.SERVICE_KEY,\n",
    "B.FACT.W.BILLABLE,\n",
    "B.FACT.W.EQUIPMENT_KEY,\n",
    "B.FACT.W.PMSCHEDULE_KEY,\n",
    "B.FACT.W.DESCRIPTION,\n",
    "B.FACT.W.RESOLUTION_DETAIL,\n",
    "B.FACT.W.PARENT_WORKORDER_NBR,\n",
    "B.FACT.WORKORDERS.REPORTDATE,\n",
    "B.FACT.W.STARTDATE,\n",
    "B.FACT.W.STARTDATE_KEY,\n",
    "B.FACT.W.START_CLIENTFISCALPERIOD_KEY,\n",
    "B.FACT.W.CLOSEDATE,\n",
    "B.FACT.W.CLOSEDATE_KEY,\n",
    "B.FACT.W.CLOSE_CLIENTFISCALPERIOD_KEY,\n",
    "B.FACT.W.WORKORDER_DURATION,\n",
    "B.FACT.W.DAYSOPEN,\n",
    "B.FACT.W.SCHEDULED_DATE,\n",
    "B.FACT.W.SCHEDULED_CLIENTFISCALPERIOD_KEY,\n",
    "B.FACT.W.SCHEDULEDDATE_KEY,\n",
    "B.FACT.W.SCHEDULETEMPLATE_KEY,\n",
    "B.FACT.W.JOBPLAN_KEY,\n",
    "B.FACT.W.FLOOR,\n",
    "B.FACT.W.SUITE,\n",
    "B.FACT.W.AREA,\n",
    "B.FACT.W.SURVEY_DATE,\n",
    "B.FACT.W.SURVEY_DATE_KEY,\n",
    "B.FACT.W.SURVEY_CLIENTFISCALPERIOD_KEY,\n",
    "B.FACT.W.SURVEY_COMMENTS,\n",
    "B.FACT.W.CALLCENTRE_SCORE,\n",
    "B.FACT.W.STAFFPERFORMANCE_SCORE,\n",
    "B.FACT.W.QUALITYOFWORK_SCORE,\n",
    "B.FACT.W.TIMELINESS_SCORE,\n",
    "B.FACT.W.OVERALL_SCORE,\n",
    "B.FACT.W.QUOTE_TYPE,\n",
    "B.FACT.W.QUOTE_COMMENT,\n",
    "B.FACT.W.CHARGETO_ACCOUNT_NAME,\n",
    "B.FACT.W.ISCONTRACT,\n",
    "B.FACT.W.ESTIMATED_AMOUNT,\n",
    "B.FACT.W.FUNCTIONAL_BURDENED_COST,\n",
    "B.FACT.W.TRANSACTIONAL_BURDENED_COST,\n",
    "B.FACT.W.REVENUE_AMOUNT,\n",
    "B.FACT.W.PARENT_WORKORDER_ID,\n",
    "B.FACT.W.REQUEST_CLIENTFISCALPERIOD_KEY,\n",
    "B.FACT.W.SR_REQUESTTYPE_KEY,\n",
    "B.FACT.W.REQUEST_DATE_KEY,\n",
    "B.FACT.W.REQUEST_DATE,\n",
    "B.FACT.W.RFSTYPE_KEY,\n",
    "B.FACT.W.PHYSICALFLOOR_KEY,\n",
    "B.FACT.W.AREA_KEY,\n",
    "B.FACT.W.UNKNOWN_LOCATION_FLAG,\n",
    "B.FACT.W.UNKNOWN_LOCATION,\n",
    "B.FACT.W.UNKNOWN_FLOOR,\n",
    "B.FACT.W.UNKNOWN_AREA,\n",
    "B.FACT.W.REPORT_CLIENTFISCALPERIOD_KEY,\n",
    "B.FACT.W.REPORTDATE_KEY,\n",
    "B.FACT.W.TARGET_ARRIVAL_CLIENTFISCALPERIOD_KEY,\n",
    "B.FACT.W.TARGET_ARRIVAL_DATE_KEY,\n",
    "B.FACT.W.TARGET_COMPLETION_CLIENTFISCALPERIOD_KEY,\n",
    "B.FACT.W.TARGET_COMPLETION_DATE_KEY,\n",
    "B.FACT.W.SERVICEREQUEST_CONTACTMETHOD_ENGLISH,\n",
    "B.FACT.W.SERVICEREQUEST_CONTACTMETHOD_FRENCH,\n",
    "B.FACT.W.SERVICEREQUEST_IDENTIFIEDBY_ENGLISH,\n",
    "B.FACT.W.SERVICEREQUEST_IDENTIFIEDBY_FRENCH,\n",
    "B.FACT.W.SERVC_PROVID_REASSIGN_COUNTER,\n",
    "B.FACT.W.SKIP_ACKNOWLEDGED_STATUS,\n",
    "B.FACT.W.SKIP_ARRIVED_STATUS,\n",
    "B.FACT.WORKORDERS.SOURCE_NAME,\n",
    "B.FACT.WORKORDERS.TARGET_RESPOND_DATE,\n",
    "B.FACT.WORKORDERS.ACTUAL_RESPOND_DATE,\n",
    "B.FACT.WORKORDERS.TARGET_INITIATE_DATE,\n",
    "B.FACT.WORKORDERS.ACTUAL_INITIATE_DATE,\n",
    "B.FACT.WORKORDERS.TARGET_MITIGATE_DATE,\n",
    "B.FACT.WORKORDERS.ACTUAL_MITIGATE_DATE,\n",
    "B.FACT.WORKORDERS.TARGET_COMPLETION_DATE,\n",
    "B.FACT.WORKORDERS.TARGET_ARRIVAL_DATE,\n",
    "B.FACT.WORKORDERS.ACTUAL_ARRIVAL_DATE,\n",
    "B.FACT.WORKORDERS.CONTRACT_ARRIVAL_DATE,\n",
    "B.FACT.WORKORDERS.TRIGGER_REDISPATCH_DATE,\n",
    "B.FACT.WORKORDERS.LAST_DISPATCHED_DATE,\n",
    "B.FACT.WORKORDERS.UPDATED_ON_TIMESTAMP,\n",
    "B.FACT.WORKORDERS.PMSCHEDULE_TEMPLATE_ID,\n",
    "B.FACT.WORKORDERS.LAST_DISPATCHED_DATE_KEY,\n",
    "B.FACT.WORKORDERS.LAST_DISPATCHED_CLIENTFISCALPERIOD_KEY,\n",
    "B.FACT.WORKORDERS.LAST_ACTION_STATUS,\n",
    "B.FACT.WORKORDERS.IS_WORK_REMAINING,\n",
    "B.FACT.WORKORDERS.IS_REOPENED_WORKORDER,\n",
    "B.FACT.WORKORDERS.IS_MULTIPLE_ASSET,\n",
    "B.FACT.WORKORDERS.IS_MITIGATION_AVAILABLE,\n",
    "B.FACT.WORKORDERS.IS_BUILDING_ITEM_VISIBLE,\n",
    "B.FACT.WORKORDERS.IS_AUTODISPATCH,\n",
    "B.FACT.WORKORDERS.IS_ARCHIVE,\n",
    "B.FACT.WORKORDERS.INVOICEABLE_STATUS_FLAG,\n",
    "B.FACT.WORKORDERS.GLACCOUNT_NAME,\n",
    "B.FACT.WORKORDERS.GLACCOUNT_CODE,\n",
    "B.FACT.WORKORDERS.COPIED_TO_WONUM,\n",
    "B.FACT.WORKORDERS.CALLERSITE_KEY,\n",
    "B.FACT.WORKORDERS.CALLER_KEY,\n",
    "B.FACT.WORKORDERS.ARCHIVE_DATE,\n",
    "B.FACT.WORKORDERS.ACTUAL_ARRIVAL_DATE_KEY,\n",
    "B.FACT.WORKORDERS.ACTUAL_ARRIVAL_CLIENTFISCALPERIOD_KEY,\n",
    "B.FACT.WORKORDERS.ACCOUNTABLE_PROVIDER_LABORCODE,\n",
    "B.FACT.WORKORDERS.ACCOUNTABLE_PROVIDER_CLASS,\n",
    "\n",
    " \n",
    "B.FACT.F.FORM_NAME,\n",
    "B.FACT.F.ENTITY_TYPE,\n",
    "B.FACT.F.VERSION,\n",
    "B.FACT.F.SUBMISSION_STATUS,\n",
    "B.FACT.F.SOURCE,\n",
    "B.FACT.F.CREATED_BY,\n",
    "B.FACT.F.SUBMITTED_DATE,\n",
    "B.FACT.F.SUBMISSION_ID,\n",
    "B.FACT.F.LONGITUDE,\n",
    "B.FACT.F.LATITUDE,\n",
    "B.FACT.F.REFERENCE,\n",
    "B.FACT.F.\"WO# / NO DU BT\",\n",
    "B.FACT.F.\"ASSOCIATED HVAC PM WO#/NO DU BT D'ENTRETIEN PRÉVENTIF DE CVCA CORRESPONDANT\",\n",
    "B.FACT.F.\"CBG/GROUPE CLIENT\",\n",
    "B.FACT.F.\"COMPLIANCE/CONFORMITÉ\",\n",
    "B.FACT.F.\"WORK ORDER TYPE/TYPE DE BON DE TRAVAIL\",\n",
    "B.FACT.F.\"JOB PLAN NUMBER/NUMÉRO DE PLAN DE TRAVAIL\",\n",
    "B.FACT.F.\"WO DESCRIPTION/DESCRIPTION DU BT\",\n",
    "B.FACT.F.\"EQUIPMENT NUMBER/NUMÉRO DE L'ÉQUIPEMENT\",\n",
    "B.FACT.F.\"EQUIPMENT DESCRIPTION/DESCRIPTION DE L'ÉQUIPEMENT\",\n",
    "B.FACT.F.\"FACILITY MANAGER/GESTIONNAIRE D'INSTALLATION\",\n",
    "B.FACT.F.\"BUILDING ID/NO D'IDENTIFICATION DE L'IMMEUBLE\",\n",
    "B.FACT.F.\"ADDRESS/ADRESSE\",\n",
    "B.FACT.F.\"CITY/VILLE\",\n",
    "B.FACT.F.\"PROVINCE/PROVINCE\",\n",
    "B.FACT.FORM.FMZ,\n",
    "B.FACT.FORM.REGION,\n",
    "B.FACT.FORM.\"DID YOU REFER TO JOB PLAN FOR ALL REQ'D DETAILS/VOUS ÊTES-VOUS RÉFÉRÉ AU PLAN DE TRAVAIL POUR LES DÉTAILS NÉCESSAIRES?\",\n",
    "B.FACT.FORM.\"CHECK SYSTEM SUPERHEAT (COMPARE TO MANUFACTURES SPECS)/VÉRIFIER L'ÉTAT DE SURCHAUFFE DU SYSTÈME (COMPARER AVEC LES SPÉCIFICATIONS DU MANUFACTURIER).\",\n",
    "B.FACT.FORM.\"CHECK AND RECORD SUCTION PRES (PSIG)/VÉRIFIER ET NOTER LA PRESSION D'ASPIRATION (LB/PO²).\",\n",
    "B.FACT.FORM.\"CHECK AND RECORD DISCHARGE PRES (PSIG)/VÉRIFIER ET NOTER LA PRESSION DE DÉCHARGE (LB/PO²).\",\n",
    "B.FACT.FORM.\"CHECK CONDENSOR HEADER LINES FOR VIBRATION, SIGNS OF OIL, AND LEAKS./VÉRIFIER LES CONDUITS DE COLLECTEUR DU CONDENSEUR POUR TOUTE PRÉSENCE DE VIBRATION, D'HUILE OU DE FUITE.\",\n",
    "B.FACT.FORM.\"CHECK COMPRESSOR DISCHARGE LINE FOR VIBRATION AND LEAKS. ENSURE VIBRATION ABSORBERS AT THE BASE OF THE CONDENSOR ARE IN WORKING CONDITION\",\n",
    "B.FACT.FORM.\"CHECK FOR LEAKS FROM METAL TO METAL CONTACT BETWEEN REFRIG PIPING OR OTHER COMPONENTS. PROVIDE ISOLATION AS REQUIRED USING PADDING,  CLAMPS, OR SILICON\",\n",
    "B.FACT.FORM.\"CHECK SCHRADER VALVE FOR LEAKS. CHECK CAP FOR O RING, IF PLASTIC REPLACE WITH A BRASS CAP.  LOOK FOR OIL LEAKS\",\n",
    "B.FACT.FORM.\"IF SYSTEM CONTAINS AFTER-MARKET PRESSURE GAUGES PLEASE IDENTIFY FOR REMOVAL AND REQUEST CM WORK ORDER TO REPAIR\",\n",
    "B.FACT.FORM.\"RETURN SYSTEM TO REGULAR SERVICE/RÉTABLIR LE SYSTÈME À SON FONCTIONNEMENT NORMAL.\",\n",
    "B.FACT.FORM.\"SPILL LINE EMPLOYEE NAME/NOM DE L'EMPLOYÉ DE SPILL LINE\",\n",
    "B.FACT.FORM.\"PHOTO OF ODP TAG/PHOTO DE LA CARTE DE PDO\",\n",
    "B.FACT.FORM.\"PHOTO OF SERVICE LOG SHEET/PHOTO DE LA FICHE D'ENTRETIEN\",\n",
    "B.FACT.FORM.\"GENERAL COMMENTS/REMARQUES GÉNÉRALES\",\n",
    "B.FACT.FORM.\"NUMBER OF UNITS > 5.4T THAT REQUIRE ODP LEAK TESTING/NOMBRE D'APPAREILS >5,4 T QUI NÉCESSITENT UNE VÉRIFICATION DE FUITES\",\n",
    "B.FACT.FORM.\"NUMBER OF UNITS < 5.4T THAT DO NOT REQUIRE ODP TESTING/NOMBRE D'APPAREILS < 5.4 T QUI NE NÉCESSITENT PAS UNE VÉRIFICATION DE FUITES\",\n",
    "B.FACT.FORM.\"DO THE # OF UNITS > 5.4 T ON SITE MATCH THE # OF UNITS IN THE WORK ORDER DESCRIPTION?\",\n",
    "B.FACT.FORM.\"ADDITIONAL COMMENTS/AUTRES REMARQUES\",\n",
    "B.FACT.FORM.\"AUTO EMAIL CMMS\",\n",
    "B.FACT.FORM.\"ON THE ODP TAG SUBMITTED TODAY, WAS THERE A LEAK DETECTED OR REPAIRED?/ SUR LA CARTE ODP SOUMISE AUJOURD'HUI, Y A-T-IL EU UNE FUITE DÉTECTÉE OU RÉPARÉE?\",\n",
    "B.FACT.FORM.\"ROOT CAUSE/RAISON PRINCIPALE\",\n",
    "B.FACT.FORM.\"IF OTHER, PROVIDE DETAILS/SI VOUS AVEZ SÉLECTIONNÉ AUTRE, EXPLIQUEZ\",\n",
    "B.FACT.FORM.\"CORRECTIVE ACTION TAKEN (IE. RECOVERED OR REPAIRED)/MESURE CORRECTIVE PRISE (EX. : REMPLACEMENT OU RÉPARATION)\",\n",
    "B.FACT.FORM.\"ADDITIONAL COMMENTS/AUTRES REMARQUES 2\",\n",
    "B.FACT.FORM.\"AUTO EMAIL SAFETY MAILBOX\",\n",
    "B.FACT.FORM.\"PLEASE ENTER FM EMAIL ADDRESS/VEUILLEZ INSCRIRE L'ADRESSE COURRIEL DU GI\",\n",
    "B.FACT.FORM.\"TECH'S EMAIL/ADRESSE COURRIEL DU TECHNICIEN\",\n",
    "\n",
    "\n",
    "\n",
    "\n",
    "B.DIM.J.JOBPLAN_KEY,\n",
    "B.DIM.J.JOBPLAN_ID,\n",
    "B.DIM.J.JOBPLAN_NUMBER,\n",
    "B.DIM.J.JOBPLAN_DESC,\n",
    "B.DIM.J.COMPLIANCEIND,\n",
    "B.DIM.J.JOBPLAN_TYPE,\n",
    "\n",
    "B.DIM.WS.WORKORDERSTATUS_KEY,\n",
    "B.DIM.WS.WORKORDERSTATUS_CD,\n",
    "B.DIM.WS.WORKORDERSTATUS_DESCRIPTION,\n",
    "B.DIM.WS.OPENCLOSED_STATE,\n",
    "\n",
    "B.DIM.WE.WORKORDERTYPE_KEY,\n",
    "B.DIM.WE.WORKORDERTYPE_CD,\n",
    "B.DIM.WE.CLIENT_ID,\n",
    "B.DIM.WE.WORKORDERTYPE_DESCRIPTION,\n",
    "B.DIM.WE.WORKORDERTYPE_CLASS\n",
    "\n",
    "\n",
    "\n",
    "\n",
    "\n",
    "\n",
    "\n",
    " \n",
    "FROM B.FACT.W INNER JOIN B.FACT.FORM \n",
    "ON B.FACT.W.WORKORDER_NBR=B.FACT.F.\"WO# / NO DU BT\"\n",
    "INNER JOIN B.DIM.J\n",
    "ON B.FACT.W.JOBPLAN_KEY=B.DIM.J.JOBPLAN_KEY\n",
    "INNER JOIN B.DIM.WS\n",
    "ON B.FACT.W.WORKORDERSTATUS_KEY=B.DIM.WS.WORKORDERSTATUS_KEY\n",
    "INNER JOIN B.DIM.WE\n",
    "ON B.DIM.WE.WORKORDERTYPE_KEY=B.FACT.W.WORKORDERTYPE_KEY;\n",
    "\n",
    "\n",
    "\n",
    "\n",
    " '''\n",
    "    \n",
    "    \n",
    "    \n",
    "    cur2 = ctx2.cursor().execute(query2)\n",
    "    WorkODP = pd.DataFrame.from_records(iter(cur2), columns=[x[0] for x in cur2.description])\n",
    "   \n",
    "\n",
    "finally:\n",
    "    cs2.close()\n",
    "ctx2.close()\n",
    "print(len(WorkODP))\n",
    "\n",
    "\n",
    "\n",
    "#SELECT column_name(s)\n",
    "#FROM table1\n",
    "#INNER JOIN table2\n",
    "#ON table1.column_name = table2.column_name;"
   ]
  },
  {
   "cell_type": "code",
   "execution_count": 4,
   "metadata": {},
   "outputs": [
    {
     "data": {
      "text/plain": [
       "array(['ACCOUNTABLE_PROVIDER_CLASS', 'ACCOUNTABLE_PROVIDER_LABORCODE',\n",
       "       'ACTUAL_ARRIVAL_CLIENTFISCALPERIOD_KEY', 'ACTUAL_ARRIVAL_DATE',\n",
       "       'ACTUAL_ARRIVAL_DATE_KEY', 'ACTUAL_INITIATE_DATE',\n",
       "       'ACTUAL_MITIGATE_DATE', 'ACTUAL_RESPOND_DATE',\n",
       "       'ADDITIONAL COMMENTS/AUTRES REMARQUES',\n",
       "       'ADDITIONAL COMMENTS/AUTRES REMARQUES 2', 'ADDRESS/ADRESSE',\n",
       "       'ARCHIVE_DATE', 'AREA', 'AREA_KEY',\n",
       "       \"ASSOCIATED HVAC PM WO#/NO DU BT D'ENTRETIEN PRÉVENTIF DE CVCA CORRESPONDANT\",\n",
       "       'AUTO EMAIL CMMS', 'AUTO EMAIL SAFETY MAILBOX', 'BILLABLE',\n",
       "       \"BUILDING ID/NO D'IDENTIFICATION DE L'IMMEUBLE\", 'BUILDING_KEY',\n",
       "       'CALLCENTRE_SCORE', 'CALLERSITE_KEY', 'CALLER_KEY',\n",
       "       'CBG/GROUPE CLIENT', 'CHARGETO_ACCOUNT_NAME',\n",
       "       'CHECK AND RECORD DISCHARGE PRES (PSIG)/VÉRIFIER ET NOTER LA PRESSION DE DÉCHARGE (LB/PO²).',\n",
       "       \"CHECK AND RECORD SUCTION PRES (PSIG)/VÉRIFIER ET NOTER LA PRESSION D'ASPIRATION (LB/PO²).\",\n",
       "       'CHECK COMPRESSOR DISCHARGE LINE FOR VIBRATION AND LEAKS. ENSURE VIBRATION ABSORBERS AT THE BASE OF THE CONDENSOR ARE IN WORKING CONDITION',\n",
       "       \"CHECK CONDENSOR HEADER LINES FOR VIBRATION, SIGNS OF OIL, AND LEAKS./VÉRIFIER LES CONDUITS DE COLLECTEUR DU CONDENSEUR POUR TOUTE PRÉSENCE DE VIBRATION, D'HUILE OU DE FUITE.\",\n",
       "       'CHECK FOR LEAKS FROM METAL TO METAL CONTACT BETWEEN REFRIG PIPING OR OTHER COMPONENTS. PROVIDE ISOLATION AS REQUIRED USING PADDING,  CLAMPS, OR SILICON',\n",
       "       'CHECK SCHRADER VALVE FOR LEAKS. CHECK CAP FOR O RING, IF PLASTIC REPLACE WITH A BRASS CAP.  LOOK FOR OIL LEAKS',\n",
       "       \"CHECK SYSTEM SUPERHEAT (COMPARE TO MANUFACTURES SPECS)/VÉRIFIER L'ÉTAT DE SURCHAUFFE DU SYSTÈME (COMPARER AVEC LES SPÉCIFICATIONS DU MANUFACTURIER).\",\n",
       "       'CITY/VILLE', 'CLIENT_ID', 'CLIENT_KEY', 'CLOSEDATE',\n",
       "       'CLOSEDATE_KEY', 'CLOSE_CLIENTFISCALPERIOD_KEY', 'COMPLETEDBY',\n",
       "       'COMPLETION_CLIENTFISCALPERIOD_KEY', 'COMPLETION_DATE',\n",
       "       'COMPLETION_DATE_KEY', 'COMPLIANCE/CONFORMITÉ', 'COMPLIANCEIND',\n",
       "       'CONTRACT_ARRIVAL_DATE', 'COPIED_TO_WONUM',\n",
       "       'CORRECTIVE ACTION TAKEN (IE. RECOVERED OR REPAIRED)/MESURE CORRECTIVE PRISE (EX. : REMPLACEMENT OU RÉPARATION)',\n",
       "       'CREATED_BY', 'CREATION_CLIENTFISCALPERIOD_KEY', 'CREATION_DATE',\n",
       "       'CREATION_DATE_KEY', 'DAYSOPEN', 'DESCRIPTION',\n",
       "       \"DID YOU REFER TO JOB PLAN FOR ALL REQ'D DETAILS/VOUS ÊTES-VOUS RÉFÉRÉ AU PLAN DE TRAVAIL POUR LES DÉTAILS NÉCESSAIRES?\",\n",
       "       'DO THE # OF UNITS > 5.4 T ON SITE MATCH THE # OF UNITS IN THE WORK ORDER DESCRIPTION?',\n",
       "       'DSS_CREATE_TIME', 'DSS_UPDATE_TIME', 'ENTITY_TYPE',\n",
       "       \"EQUIPMENT DESCRIPTION/DESCRIPTION DE L'ÉQUIPEMENT\",\n",
       "       \"EQUIPMENT NUMBER/NUMÉRO DE L'ÉQUIPEMENT\", 'EQUIPMENT_KEY',\n",
       "       'ESTIMATED_AMOUNT', \"FACILITY MANAGER/GESTIONNAIRE D'INSTALLATION\",\n",
       "       'FLOOR', 'FMZ', 'FORM_NAME', 'FUNCTIONAL_BURDENED_COST',\n",
       "       'GENERAL COMMENTS/REMARQUES GÉNÉRALES', 'GLACCOUNT_CODE',\n",
       "       'GLACCOUNT_NAME',\n",
       "       'IF OTHER, PROVIDE DETAILS/SI VOUS AVEZ SÉLECTIONNÉ AUTRE, EXPLIQUEZ',\n",
       "       'IF SYSTEM CONTAINS AFTER-MARKET PRESSURE GAUGES PLEASE IDENTIFY FOR REMOVAL AND REQUEST CM WORK ORDER TO REPAIR',\n",
       "       'INVOICEABLE_STATUS_FLAG', 'ISCONTRACT', 'IS_ARCHIVE',\n",
       "       'IS_AUTODISPATCH', 'IS_BUILDING_ITEM_VISIBLE',\n",
       "       'IS_MITIGATION_AVAILABLE', 'IS_MULTIPLE_ASSET',\n",
       "       'IS_REOPENED_WORKORDER', 'IS_WORK_REMAINING',\n",
       "       'JOB PLAN NUMBER/NUMÉRO DE PLAN DE TRAVAIL', 'JOBPLAN_DESC',\n",
       "       'JOBPLAN_ID', 'JOBPLAN_KEY', 'JOBPLAN_KEY', 'JOBPLAN_NUMBER',\n",
       "       'JOBPLAN_TYPE', 'LANDLORDSITE_KEY', 'LANDLORD_KEY',\n",
       "       'LAST_ACTION_STATUS', 'LAST_DISPATCHED_CLIENTFISCALPERIOD_KEY',\n",
       "       'LAST_DISPATCHED_DATE', 'LAST_DISPATCHED_DATE_KEY', 'LATITUDE',\n",
       "       'LONGITUDE',\n",
       "       \"NUMBER OF UNITS < 5.4T THAT DO NOT REQUIRE ODP TESTING/NOMBRE D'APPAREILS < 5.4 T QUI NE NÉCESSITENT PAS UNE VÉRIFICATION DE FUITES\",\n",
       "       \"NUMBER OF UNITS > 5.4T THAT REQUIRE ODP LEAK TESTING/NOMBRE D'APPAREILS >5,4 T QUI NÉCESSITENT UNE VÉRIFICATION DE FUITES\",\n",
       "       \"ON THE ODP TAG SUBMITTED TODAY, WAS THERE A LEAK DETECTED OR REPAIRED?/ SUR LA CARTE ODP SOUMISE AUJOURD'HUI, Y A-T-IL EU UNE FUITE DÉTECTÉE OU RÉPARÉE?\",\n",
       "       'OPENCLOSED_STATE', 'OVERALL_SCORE', 'PARENT_WORKORDER_ID',\n",
       "       'PARENT_WORKORDER_NBR',\n",
       "       'PHOTO OF ODP TAG/PHOTO DE LA CARTE DE PDO',\n",
       "       \"PHOTO OF SERVICE LOG SHEET/PHOTO DE LA FICHE D'ENTRETIEN\",\n",
       "       'PHYSICALFLOOR_KEY',\n",
       "       \"PLEASE ENTER FM EMAIL ADDRESS/VEUILLEZ INSCRIRE L'ADRESSE COURRIEL DU GI\",\n",
       "       'PMSCHEDULE_KEY', 'PMSCHEDULE_TEMPLATE_ID', 'PROJECTCLASS_KEY',\n",
       "       'PROVINCE/PROVINCE', 'QUALITYOFWORK_SCORE', 'QUOTE_COMMENT',\n",
       "       'QUOTE_TYPE', 'REFERENCE', 'REGION', 'REPORTDATE',\n",
       "       'REPORTDATE_KEY', 'REPORTEDBY', 'REPORT_CLIENTFISCALPERIOD_KEY',\n",
       "       'REQUESTTYPE_KEY', 'REQUEST_CLIENTFISCALPERIOD_KEY',\n",
       "       'REQUEST_DATE', 'REQUEST_DATE_KEY', 'RESOLUTION_DETAIL',\n",
       "       'RETURN SYSTEM TO REGULAR SERVICE/RÉTABLIR LE SYSTÈME À SON FONCTIONNEMENT NORMAL.',\n",
       "       'REVENUE_AMOUNT', 'RFSTYPE_KEY', 'ROOT CAUSE/RAISON PRINCIPALE',\n",
       "       'SCHEDULEDDATE_KEY', 'SCHEDULED_CLIENTFISCALPERIOD_KEY',\n",
       "       'SCHEDULED_DATE', 'SCHEDULETEMPLATE_KEY',\n",
       "       'SERVC_PROVID_REASSIGN_COUNTER',\n",
       "       \"SERVICE LOG PHOTO 1*/FICHE D'ENTRETIEN: PHOTO NO 1\",\n",
       "       \"SERVICE LOG PHOTO 10/FICHE D'ENTRETIEN: PHOTO NO 10\",\n",
       "       \"SERVICE LOG PHOTO 11/FICHE D'ENTRETIEN: PHOTO NO 11\",\n",
       "       \"SERVICE LOG PHOTO 12/FICHE D'ENTRETIEN: PHOTO NO 12\",\n",
       "       \"SERVICE LOG PHOTO 13/FICHE D'ENTRETIEN: PHOTO NO 13\",\n",
       "       \"SERVICE LOG PHOTO 14/FICHE D'ENTRETIEN: PHOTO NO 14\",\n",
       "       \"SERVICE LOG PHOTO 15/FICHE D'ENTRETIEN: PHOTO NO 15\",\n",
       "       \"SERVICE LOG PHOTO 2/FICHE D'ENTRETIEN: PHOTO NO 2\",\n",
       "       \"SERVICE LOG PHOTO 3/FICHE D'ENTRETIEN: PHOTO NO 3\",\n",
       "       \"SERVICE LOG PHOTO 4/FICHE D'ENTRETIEN: PHOTO NO 4\",\n",
       "       \"SERVICE LOG PHOTO 5/FICHE D'ENTRETIEN: PHOTO NO 5\",\n",
       "       \"SERVICE LOG PHOTO 6/FICHE D'ENTRETIEN: PHOTO NO 6\",\n",
       "       \"SERVICE LOG PHOTO 7/FICHE D'ENTRETIEN: PHOTO NO 7\",\n",
       "       \"SERVICE LOG PHOTO 8/FICHE D'ENTRETIEN: PHOTO NO 8\",\n",
       "       \"SERVICE LOG PHOTO 9/FICHE D'ENTRETIEN: PHOTO NO 9\",\n",
       "       'SERVICEPROVIDERSITE_KEY', 'SERVICEPROVIDER_CLASS',\n",
       "       'SERVICEPROVIDER_KEY', 'SERVICEPROVIDER_NAME',\n",
       "       'SERVICEREQUEST_CONTACTMETHOD_ENGLISH',\n",
       "       'SERVICEREQUEST_CONTACTMETHOD_FRENCH',\n",
       "       'SERVICEREQUEST_IDENTIFIEDBY_ENGLISH',\n",
       "       'SERVICEREQUEST_IDENTIFIEDBY_FRENCH', 'SERVICEREQUEST_NBR',\n",
       "       'SERVICETYPE_KEY', 'SERVICE_KEY', 'SKIP_ACKNOWLEDGED_STATUS',\n",
       "       'SKIP_ARRIVED_STATUS', 'SOURCE', 'SOURCE_NAME',\n",
       "       \"SPILL LINE EMPLOYEE NAME/NOM DE L'EMPLOYÉ DE SPILL LINE\",\n",
       "       'SR_REQUESTTYPE_KEY', 'STAFFPERFORMANCE_SCORE', 'STARTDATE',\n",
       "       'STARTDATE_KEY', 'START_CLIENTFISCALPERIOD_KEY', 'SUBMISSION_ID',\n",
       "       'SUBMISSION_STATUS', 'SUBMITTED_DATE', 'SUITE',\n",
       "       'SURVEY_CLIENTFISCALPERIOD_KEY', 'SURVEY_COMMENTS', 'SURVEY_DATE',\n",
       "       'SURVEY_DATE_KEY', 'TARGET_ARRIVAL_CLIENTFISCALPERIOD_KEY',\n",
       "       'TARGET_ARRIVAL_DATE', 'TARGET_ARRIVAL_DATE_KEY',\n",
       "       'TARGET_COMPLETION_CLIENTFISCALPERIOD_KEY',\n",
       "       'TARGET_COMPLETION_DATE', 'TARGET_COMPLETION_DATE_KEY',\n",
       "       'TARGET_INITIATE_DATE', 'TARGET_MITIGATE_DATE',\n",
       "       'TARGET_RESPOND_DATE',\n",
       "       \"TECH'S EMAIL/ADRESSE COURRIEL DU TECHNICIEN\", 'TIMELINESS_SCORE',\n",
       "       'TRANSACTIONAL_BURDENED_COST', 'TRIGGER_REDISPATCH_DATE',\n",
       "       'UNKNOWN_AREA', 'UNKNOWN_FLOOR', 'UNKNOWN_LOCATION',\n",
       "       'UNKNOWN_LOCATION_FLAG', 'UPDATED_ON_TIMESTAMP', 'VENDOR_KEY',\n",
       "       'VENDOR_SITE_KEY', 'VERSION', 'WO DESCRIPTION/DESCRIPTION DU BT',\n",
       "       'WO# / NO DU BT', 'WORK ORDER TYPE/TYPE DE BON DE TRAVAIL',\n",
       "       'WORKORDERFINANCIALSTATUS_KEY', 'WORKORDERJUNK_KEY',\n",
       "       'WORKORDERPRIORITY_KEY', 'WORKORDERSELFCOMPLETIONTYPE_KEY',\n",
       "       'WORKORDERSOURCE_KEY', 'WORKORDERSTATUS_CD',\n",
       "       'WORKORDERSTATUS_DESCRIPTION', 'WORKORDERSTATUS_KEY',\n",
       "       'WORKORDERSTATUS_KEY', 'WORKORDERTYPE_CD', 'WORKORDERTYPE_CLASS',\n",
       "       'WORKORDERTYPE_DESCRIPTION', 'WORKORDERTYPE_KEY',\n",
       "       'WORKORDERTYPE_KEY', 'WORKORDER_DURATION', 'WORKORDER_NBR'],\n",
       "      dtype='<U173')"
      ]
     },
     "execution_count": 4,
     "metadata": {},
     "output_type": "execute_result"
    }
   ],
   "source": [
    "np.sort(WorkODP.columns.tolist())"
   ]
  },
  {
   "cell_type": "code",
   "execution_count": 5,
   "metadata": {},
   "outputs": [
    {
     "data": {
      "text/plain": [
       "array([ True, False])"
      ]
     },
     "execution_count": 5,
     "metadata": {},
     "output_type": "execute_result"
    }
   ],
   "source": [
    "WorkODP['COMPLIANCEIND'].unique()"
   ]
  },
  {
   "cell_type": "code",
   "execution_count": 6,
   "metadata": {},
   "outputs": [
    {
     "name": "stdout",
     "output_type": "stream",
     "text": [
      "Yes\n"
     ]
    }
   ],
   "source": [
    "if 'TARGET_RESPOND_DATE' in WorkODP.columns:\n",
    "\n",
    "    print(\"Yes\")\n",
    "else:\n",
    "    print(\"No\")    "
   ]
  },
  {
   "cell_type": "code",
   "execution_count": 7,
   "metadata": {},
   "outputs": [],
   "source": [
    "WorkODP.columns=WorkODP.columns.str.split('/').str[0]"
   ]
  },
  {
   "cell_type": "code",
   "execution_count": 1,
   "metadata": {},
   "outputs": [
    {
     "ename": "NameError",
     "evalue": "name 'WorkODP' is not defined",
     "output_type": "error",
     "traceback": [
      "\u001b[1;31m---------------------------------------------------------------------------\u001b[0m",
      "\u001b[1;31mNameError\u001b[0m                                 Traceback (most recent call last)",
      "\u001b[1;32m<ipython-input-1-075e3ce5765c>\u001b[0m in \u001b[0;36m<module>\u001b[1;34m\u001b[0m\n\u001b[1;32m----> 1\u001b[1;33m \u001b[0mWorkODP\u001b[0m\u001b[1;33m\u001b[0m\u001b[1;33m\u001b[0m\u001b[0m\n\u001b[0m",
      "\u001b[1;31mNameError\u001b[0m: name 'WorkODP' is not defined"
     ]
    }
   ],
   "source": [
    "WorkODP"
   ]
  },
  {
   "cell_type": "code",
   "execution_count": 9,
   "metadata": {},
   "outputs": [
    {
     "data": {
      "text/plain": [
       "1015"
      ]
     },
     "execution_count": 9,
     "metadata": {},
     "output_type": "execute_result"
    }
   ],
   "source": [
    "WorkODP['WORKORDER_NBR'].duplicated().sum()"
   ]
  },
  {
   "cell_type": "markdown",
   "metadata": {},
   "source": [
    "### Drop Duplicates"
   ]
  },
  {
   "cell_type": "code",
   "execution_count": 2,
   "metadata": {},
   "outputs": [
    {
     "ename": "NameError",
     "evalue": "name 'WorkODP' is not defined",
     "output_type": "error",
     "traceback": [
      "\u001b[1;31m---------------------------------------------------------------------------\u001b[0m",
      "\u001b[1;31mNameError\u001b[0m                                 Traceback (most recent call last)",
      "\u001b[1;32m<ipython-input-2-2ddd48c879db>\u001b[0m in \u001b[0;36m<module>\u001b[1;34m\u001b[0m\n\u001b[1;32m----> 1\u001b[1;33m \u001b[0mWorkODP\u001b[0m\u001b[1;33m.\u001b[0m\u001b[0mloc\u001b[0m\u001b[1;33m[\u001b[0m\u001b[1;33m(\u001b[0m\u001b[0mWorkODP\u001b[0m\u001b[1;33m[\u001b[0m\u001b[1;34m'WORKORDER_NBR'\u001b[0m\u001b[1;33m]\u001b[0m\u001b[1;33m.\u001b[0m\u001b[0mduplicated\u001b[0m\u001b[1;33m(\u001b[0m\u001b[1;33m)\u001b[0m\u001b[1;33m)\u001b[0m \u001b[1;33m&\u001b[0m \u001b[1;33m(\u001b[0m\u001b[0mWorkODP\u001b[0m\u001b[1;33m[\u001b[0m\u001b[1;34m'WORKORDERSTATUS_CD'\u001b[0m\u001b[1;33m]\u001b[0m\u001b[1;33m==\u001b[0m\u001b[1;34m'CAN'\u001b[0m\u001b[1;33m)\u001b[0m\u001b[1;33m]\u001b[0m\u001b[1;33m\u001b[0m\u001b[1;33m\u001b[0m\u001b[0m\n\u001b[0m",
      "\u001b[1;31mNameError\u001b[0m: name 'WorkODP' is not defined"
     ]
    }
   ],
   "source": [
    "WorkODP.loc[(WorkODP['WORKORDER_NBR'].duplicated()) & (WorkODP['WORKORDERSTATUS_CD']=='CAN')]"
   ]
  },
  {
   "cell_type": "code",
   "execution_count": 3,
   "metadata": {},
   "outputs": [
    {
     "ename": "NameError",
     "evalue": "name 'WorkODP' is not defined",
     "output_type": "error",
     "traceback": [
      "\u001b[1;31m---------------------------------------------------------------------------\u001b[0m",
      "\u001b[1;31mNameError\u001b[0m                                 Traceback (most recent call last)",
      "\u001b[1;32m<ipython-input-3-53c784f9088e>\u001b[0m in \u001b[0;36m<module>\u001b[1;34m\u001b[0m\n\u001b[1;32m----> 1\u001b[1;33m \u001b[0mWorkODP\u001b[0m\u001b[1;33m[\u001b[0m\u001b[0mWorkODP\u001b[0m\u001b[1;33m[\u001b[0m\u001b[1;34m'WORKORDER_NBR'\u001b[0m\u001b[1;33m]\u001b[0m\u001b[1;33m==\u001b[0m\u001b[1;34m'****'\u001b[0m\u001b[1;33m]\u001b[0m\u001b[1;33m\u001b[0m\u001b[1;33m\u001b[0m\u001b[0m\n\u001b[0m",
      "\u001b[1;31mNameError\u001b[0m: name 'WorkODP' is not defined"
     ]
    }
   ],
   "source": [
    "WorkODP[WorkODP['WORKORDER_NBR']=='****']"
   ]
  },
  {
   "cell_type": "code",
   "execution_count": 4,
   "metadata": {
    "scrolled": true
   },
   "outputs": [
    {
     "ename": "NameError",
     "evalue": "name 'WorkODP' is not defined",
     "output_type": "error",
     "traceback": [
      "\u001b[1;31m---------------------------------------------------------------------------\u001b[0m",
      "\u001b[1;31mNameError\u001b[0m                                 Traceback (most recent call last)",
      "\u001b[1;32m<ipython-input-4-602f058fc4cb>\u001b[0m in \u001b[0;36m<module>\u001b[1;34m\u001b[0m\n\u001b[1;32m----> 1\u001b[1;33m \u001b[0mWorkODP\u001b[0m\u001b[1;33m[\u001b[0m\u001b[0mWorkODP\u001b[0m\u001b[1;33m[\u001b[0m\u001b[1;34m'WORKORDER_NBR'\u001b[0m\u001b[1;33m]\u001b[0m\u001b[1;33m==\u001b[0m\u001b[1;34m'*****'\u001b[0m\u001b[1;33m]\u001b[0m\u001b[1;33m\u001b[0m\u001b[1;33m\u001b[0m\u001b[0m\n\u001b[0m",
      "\u001b[1;31mNameError\u001b[0m: name 'WorkODP' is not defined"
     ]
    }
   ],
   "source": [
    "WorkODP[WorkODP['WORKORDER_NBR']=='*****']"
   ]
  },
  {
   "cell_type": "code",
   "execution_count": 5,
   "metadata": {},
   "outputs": [
    {
     "ename": "NameError",
     "evalue": "name 'WorkODP' is not defined",
     "output_type": "error",
     "traceback": [
      "\u001b[1;31m---------------------------------------------------------------------------\u001b[0m",
      "\u001b[1;31mNameError\u001b[0m                                 Traceback (most recent call last)",
      "\u001b[1;32m<ipython-input-5-db02a2059640>\u001b[0m in \u001b[0;36m<module>\u001b[1;34m\u001b[0m\n\u001b[1;32m----> 1\u001b[1;33m \u001b[0mWorkODP\u001b[0m\u001b[1;33m[\u001b[0m\u001b[0mWorkODP\u001b[0m\u001b[1;33m[\u001b[0m\u001b[1;34m'WORKORDER_NBR'\u001b[0m\u001b[1;33m]\u001b[0m\u001b[1;33m==\u001b[0m\u001b[1;34m'***'\u001b[0m\u001b[1;33m]\u001b[0m\u001b[1;33m\u001b[0m\u001b[1;33m\u001b[0m\u001b[0m\n\u001b[0m",
      "\u001b[1;31mNameError\u001b[0m: name 'WorkODP' is not defined"
     ]
    }
   ],
   "source": [
    "WorkODP[WorkODP['WORKORDER_NBR']=='***']"
   ]
  },
  {
   "cell_type": "code",
   "execution_count": 6,
   "metadata": {},
   "outputs": [
    {
     "ename": "NameError",
     "evalue": "name 'WorkODP' is not defined",
     "output_type": "error",
     "traceback": [
      "\u001b[1;31m---------------------------------------------------------------------------\u001b[0m",
      "\u001b[1;31mNameError\u001b[0m                                 Traceback (most recent call last)",
      "\u001b[1;32m<ipython-input-6-8f1cbe827a4f>\u001b[0m in \u001b[0;36m<module>\u001b[1;34m\u001b[0m\n\u001b[1;32m----> 1\u001b[1;33m \u001b[0mWorkODP\u001b[0m\u001b[1;33m.\u001b[0m\u001b[0mdrop_duplicates\u001b[0m\u001b[1;33m(\u001b[0m\u001b[1;34m'WORKORDER_NBR'\u001b[0m\u001b[1;33m)\u001b[0m\u001b[1;33m\u001b[0m\u001b[1;33m\u001b[0m\u001b[0m\n\u001b[0m\u001b[0;32m      2\u001b[0m \u001b[0mWorkODP\u001b[0m\u001b[1;33m.\u001b[0m\u001b[0mdrop_duplicates\u001b[0m\u001b[1;33m(\u001b[0m\u001b[1;34m'WO# '\u001b[0m\u001b[1;33m)\u001b[0m\u001b[1;33m\u001b[0m\u001b[1;33m\u001b[0m\u001b[0m\n",
      "\u001b[1;31mNameError\u001b[0m: name 'WorkODP' is not defined"
     ]
    }
   ],
   "source": [
    "WorkODP.drop_duplicates('WORKORDER_NBR')\n",
    "WorkODP.drop_duplicates('WO# ')"
   ]
  },
  {
   "cell_type": "code",
   "execution_count": null,
   "metadata": {},
   "outputs": [],
   "source": []
  },
  {
   "cell_type": "code",
   "execution_count": 15,
   "metadata": {},
   "outputs": [
    {
     "data": {
      "text/plain": [
       "['WORKORDER_NBR',\n",
       " 'WORKORDERFINANCIALSTATUS_KEY',\n",
       " 'SERVICEREQUEST_NBR',\n",
       " 'PROJECTCLASS_KEY',\n",
       " 'CLIENT_KEY',\n",
       " 'BUILDING_KEY',\n",
       " 'SERVICETYPE_KEY',\n",
       " 'REPORTEDBY',\n",
       " 'REQUESTTYPE_KEY',\n",
       " 'SERVICEPROVIDER_CLASS',\n",
       " 'SERVICEPROVIDER_KEY',\n",
       " 'SERVICEPROVIDERSITE_KEY',\n",
       " 'VENDOR_KEY',\n",
       " 'VENDOR_SITE_KEY',\n",
       " 'LANDLORD_KEY',\n",
       " 'LANDLORDSITE_KEY',\n",
       " 'SERVICEPROVIDER_NAME',\n",
       " 'COMPLETION_DATE',\n",
       " 'CREATION_DATE',\n",
       " 'CREATION_DATE_KEY',\n",
       " 'CREATION_CLIENTFISCALPERIOD_KEY',\n",
       " 'COMPLETION_DATE_KEY',\n",
       " 'COMPLETEDBY',\n",
       " 'COMPLETION_CLIENTFISCALPERIOD_KEY',\n",
       " 'WORKORDERTYPE_KEY',\n",
       " 'WORKORDERSOURCE_KEY',\n",
       " 'WORKORDERPRIORITY_KEY',\n",
       " 'WORKORDERJUNK_KEY',\n",
       " 'WORKORDERSTATUS_KEY',\n",
       " 'WORKORDERSELFCOMPLETIONTYPE_KEY',\n",
       " 'SERVICE_KEY',\n",
       " 'BILLABLE',\n",
       " 'EQUIPMENT_KEY',\n",
       " 'PMSCHEDULE_KEY',\n",
       " 'DESCRIPTION',\n",
       " 'RESOLUTION_DETAIL',\n",
       " 'PARENT_WORKORDER_NBR',\n",
       " 'REPORTDATE',\n",
       " 'STARTDATE',\n",
       " 'STARTDATE_KEY',\n",
       " 'START_CLIENTFISCALPERIOD_KEY',\n",
       " 'CLOSEDATE',\n",
       " 'CLOSEDATE_KEY',\n",
       " 'CLOSE_CLIENTFISCALPERIOD_KEY',\n",
       " 'WORKORDER_DURATION',\n",
       " 'DAYSOPEN',\n",
       " 'SCHEDULED_DATE',\n",
       " 'SCHEDULED_CLIENTFISCALPERIOD_KEY',\n",
       " 'SCHEDULEDDATE_KEY',\n",
       " 'SCHEDULETEMPLATE_KEY',\n",
       " 'JOBPLAN_KEY',\n",
       " 'FLOOR',\n",
       " 'SUITE',\n",
       " 'AREA',\n",
       " 'SURVEY_DATE',\n",
       " 'SURVEY_DATE_KEY',\n",
       " 'SURVEY_CLIENTFISCALPERIOD_KEY',\n",
       " 'SURVEY_COMMENTS',\n",
       " 'CALLCENTRE_SCORE',\n",
       " 'STAFFPERFORMANCE_SCORE',\n",
       " 'QUALITYOFWORK_SCORE',\n",
       " 'TIMELINESS_SCORE',\n",
       " 'OVERALL_SCORE',\n",
       " 'QUOTE_TYPE',\n",
       " 'QUOTE_COMMENT',\n",
       " 'CHARGETO_ACCOUNT_NAME',\n",
       " 'ISCONTRACT',\n",
       " 'ESTIMATED_AMOUNT',\n",
       " 'FUNCTIONAL_BURDENED_COST',\n",
       " 'TRANSACTIONAL_BURDENED_COST',\n",
       " 'REVENUE_AMOUNT',\n",
       " 'PARENT_WORKORDER_ID',\n",
       " 'REQUEST_CLIENTFISCALPERIOD_KEY',\n",
       " 'SR_REQUESTTYPE_KEY',\n",
       " 'REQUEST_DATE_KEY',\n",
       " 'REQUEST_DATE',\n",
       " 'RFSTYPE_KEY',\n",
       " 'PHYSICALFLOOR_KEY',\n",
       " 'AREA_KEY',\n",
       " 'UNKNOWN_LOCATION_FLAG',\n",
       " 'UNKNOWN_LOCATION',\n",
       " 'UNKNOWN_FLOOR',\n",
       " 'UNKNOWN_AREA',\n",
       " 'REPORT_CLIENTFISCALPERIOD_KEY',\n",
       " 'REPORTDATE_KEY',\n",
       " 'TARGET_ARRIVAL_CLIENTFISCALPERIOD_KEY',\n",
       " 'TARGET_ARRIVAL_DATE_KEY',\n",
       " 'TARGET_COMPLETION_CLIENTFISCALPERIOD_KEY',\n",
       " 'TARGET_COMPLETION_DATE_KEY',\n",
       " 'SERVICEREQUEST_CONTACTMETHOD_ENGLISH',\n",
       " 'SERVICEREQUEST_CONTACTMETHOD_FRENCH',\n",
       " 'SERVICEREQUEST_IDENTIFIEDBY_ENGLISH',\n",
       " 'SERVICEREQUEST_IDENTIFIEDBY_FRENCH',\n",
       " 'SERVC_PROVID_REASSIGN_COUNTER',\n",
       " 'SKIP_ACKNOWLEDGED_STATUS',\n",
       " 'SKIP_ARRIVED_STATUS',\n",
       " 'SOURCE_NAME',\n",
       " 'TARGET_RESPOND_DATE',\n",
       " 'ACTUAL_RESPOND_DATE',\n",
       " 'TARGET_INITIATE_DATE',\n",
       " 'ACTUAL_INITIATE_DATE',\n",
       " 'TARGET_MITIGATE_DATE',\n",
       " 'ACTUAL_MITIGATE_DATE',\n",
       " 'TARGET_COMPLETION_DATE',\n",
       " 'TARGET_ARRIVAL_DATE',\n",
       " 'ACTUAL_ARRIVAL_DATE',\n",
       " 'CONTRACT_ARRIVAL_DATE',\n",
       " 'TRIGGER_REDISPATCH_DATE',\n",
       " 'LAST_DISPATCHED_DATE',\n",
       " 'UPDATED_ON_TIMESTAMP',\n",
       " 'PMSCHEDULE_TEMPLATE_ID',\n",
       " 'LAST_DISPATCHED_DATE_KEY',\n",
       " 'LAST_DISPATCHED_CLIENTFISCALPERIOD_KEY',\n",
       " 'LAST_ACTION_STATUS',\n",
       " 'IS_WORK_REMAINING',\n",
       " 'IS_REOPENED_WORKORDER',\n",
       " 'IS_MULTIPLE_ASSET',\n",
       " 'IS_MITIGATION_AVAILABLE',\n",
       " 'IS_BUILDING_ITEM_VISIBLE',\n",
       " 'IS_AUTODISPATCH',\n",
       " 'IS_ARCHIVE',\n",
       " 'INVOICEABLE_STATUS_FLAG',\n",
       " 'GLACCOUNT_NAME',\n",
       " 'GLACCOUNT_CODE',\n",
       " 'COPIED_TO_WONUM',\n",
       " 'CALLERSITE_KEY',\n",
       " 'CALLER_KEY',\n",
       " 'ARCHIVE_DATE',\n",
       " 'ACTUAL_ARRIVAL_DATE_KEY',\n",
       " 'ACTUAL_ARRIVAL_CLIENTFISCALPERIOD_KEY',\n",
       " 'ACCOUNTABLE_PROVIDER_LABORCODE',\n",
       " 'ACCOUNTABLE_PROVIDER_CLASS',\n",
       " 'DSS_CREATE_TIME',\n",
       " 'DSS_UPDATE_TIME',\n",
       " 'FORM_NAME',\n",
       " 'ENTITY_TYPE',\n",
       " 'VERSION',\n",
       " 'SUBMISSION_STATUS',\n",
       " 'SOURCE',\n",
       " 'CREATED_BY',\n",
       " 'SUBMITTED_DATE',\n",
       " 'SUBMISSION_ID',\n",
       " 'LONGITUDE',\n",
       " 'LATITUDE',\n",
       " 'REFERENCE',\n",
       " 'WO# ',\n",
       " 'ASSOCIATED HVAC PM WO#',\n",
       " 'CBG',\n",
       " 'COMPLIANCE',\n",
       " 'WORK ORDER TYPE',\n",
       " 'JOB PLAN NUMBER',\n",
       " 'WO DESCRIPTION',\n",
       " 'EQUIPMENT NUMBER',\n",
       " 'EQUIPMENT DESCRIPTION',\n",
       " 'FACILITY MANAGER',\n",
       " 'BUILDING ID',\n",
       " 'ADDRESS',\n",
       " 'CITY',\n",
       " 'PROVINCE',\n",
       " 'FMZ',\n",
       " 'REGION',\n",
       " \"DID YOU REFER TO JOB PLAN FOR ALL REQ'D DETAILS\",\n",
       " 'CHECK SYSTEM SUPERHEAT (COMPARE TO MANUFACTURES SPECS)',\n",
       " 'CHECK AND RECORD SUCTION PRES (PSIG)',\n",
       " 'CHECK AND RECORD DISCHARGE PRES (PSIG)',\n",
       " 'CHECK CONDENSOR HEADER LINES FOR VIBRATION, SIGNS OF OIL, AND LEAKS.',\n",
       " 'CHECK COMPRESSOR DISCHARGE LINE FOR VIBRATION AND LEAKS. ENSURE VIBRATION ABSORBERS AT THE BASE OF THE CONDENSOR ARE IN WORKING CONDITION',\n",
       " 'CHECK FOR LEAKS FROM METAL TO METAL CONTACT BETWEEN REFRIG PIPING OR OTHER COMPONENTS. PROVIDE ISOLATION AS REQUIRED USING PADDING,  CLAMPS, OR SILICON',\n",
       " 'CHECK SCHRADER VALVE FOR LEAKS. CHECK CAP FOR O RING, IF PLASTIC REPLACE WITH A BRASS CAP.  LOOK FOR OIL LEAKS',\n",
       " 'IF SYSTEM CONTAINS AFTER-MARKET PRESSURE GAUGES PLEASE IDENTIFY FOR REMOVAL AND REQUEST CM WORK ORDER TO REPAIR',\n",
       " 'RETURN SYSTEM TO REGULAR SERVICE',\n",
       " 'SPILL LINE EMPLOYEE NAME',\n",
       " 'PHOTO OF ODP TAG',\n",
       " 'PHOTO OF SERVICE LOG SHEET',\n",
       " 'GENERAL COMMENTS',\n",
       " 'NUMBER OF UNITS > 5.4T THAT REQUIRE ODP LEAK TESTING',\n",
       " 'NUMBER OF UNITS < 5.4T THAT DO NOT REQUIRE ODP TESTING',\n",
       " 'DO THE # OF UNITS > 5.4 T ON SITE MATCH THE # OF UNITS IN THE WORK ORDER DESCRIPTION?',\n",
       " 'SERVICE LOG PHOTO 1*',\n",
       " 'SERVICE LOG PHOTO 2',\n",
       " 'SERVICE LOG PHOTO 3',\n",
       " 'SERVICE LOG PHOTO 4',\n",
       " 'SERVICE LOG PHOTO 5',\n",
       " 'SERVICE LOG PHOTO 6',\n",
       " 'SERVICE LOG PHOTO 7',\n",
       " 'SERVICE LOG PHOTO 8',\n",
       " 'SERVICE LOG PHOTO 9',\n",
       " 'SERVICE LOG PHOTO 10',\n",
       " 'SERVICE LOG PHOTO 11',\n",
       " 'SERVICE LOG PHOTO 12',\n",
       " 'SERVICE LOG PHOTO 13',\n",
       " 'SERVICE LOG PHOTO 14',\n",
       " 'SERVICE LOG PHOTO 15',\n",
       " 'ADDITIONAL COMMENTS',\n",
       " 'AUTO EMAIL CMMS',\n",
       " 'ON THE ODP TAG SUBMITTED TODAY, WAS THERE A LEAK DETECTED OR REPAIRED?',\n",
       " 'ROOT CAUSE',\n",
       " 'IF OTHER, PROVIDE DETAILS',\n",
       " 'CORRECTIVE ACTION TAKEN (IE. RECOVERED OR REPAIRED)',\n",
       " 'ADDITIONAL COMMENTS',\n",
       " 'AUTO EMAIL SAFETY MAILBOX',\n",
       " 'PLEASE ENTER FM EMAIL ADDRESS',\n",
       " \"TECH'S EMAIL\",\n",
       " 'JOBPLAN_KEY',\n",
       " 'JOBPLAN_ID',\n",
       " 'JOBPLAN_NUMBER',\n",
       " 'JOBPLAN_DESC',\n",
       " 'COMPLIANCEIND',\n",
       " 'JOBPLAN_TYPE',\n",
       " 'WORKORDERSTATUS_KEY',\n",
       " 'WORKORDERSTATUS_CD',\n",
       " 'WORKORDERSTATUS_DESCRIPTION',\n",
       " 'OPENCLOSED_STATE',\n",
       " 'WORKORDERTYPE_KEY',\n",
       " 'WORKORDERTYPE_CD',\n",
       " 'CLIENT_ID',\n",
       " 'WORKORDERTYPE_DESCRIPTION',\n",
       " 'WORKORDERTYPE_CLASS']"
      ]
     },
     "execution_count": 15,
     "metadata": {},
     "output_type": "execute_result"
    }
   ],
   "source": [
    "WorkODP.columns.tolist()"
   ]
  },
  {
   "cell_type": "markdown",
   "metadata": {},
   "source": [
    "### Drop Some Columns"
   ]
  },
  {
   "cell_type": "code",
   "execution_count": 16,
   "metadata": {},
   "outputs": [],
   "source": [
    "WorkODP.drop(['REFERENCE','SERVICE LOG PHOTO 1*','SERVICE LOG PHOTO 2','SERVICE LOG PHOTO 3','SERVICE LOG PHOTO 4','SERVICE LOG PHOTO 5','SERVICE LOG PHOTO 6','SERVICE LOG PHOTO 7','SERVICE LOG PHOTO 8','SERVICE LOG PHOTO 9','SERVICE LOG PHOTO 10','SERVICE LOG PHOTO 11','SERVICE LOG PHOTO 12','SERVICE LOG PHOTO 13','SERVICE LOG PHOTO 14','SERVICE LOG PHOTO 15'], axis=True, inplace=True)"
   ]
  },
  {
   "cell_type": "code",
   "execution_count": 17,
   "metadata": {},
   "outputs": [],
   "source": [
    "WorkODP.drop(['ADDITIONAL COMMENTS','IF OTHER, PROVIDE DETAILS','AUTO EMAIL SAFETY MAILBOX','PLEASE ENTER FM EMAIL ADDRESS','GENERAL COMMENTS','PHOTO OF SERVICE LOG SHEET','PHOTO OF ODP TAG'], axis=True, inplace=True)"
   ]
  },
  {
   "cell_type": "code",
   "execution_count": 18,
   "metadata": {},
   "outputs": [],
   "source": [
    "#WorkODP"
   ]
  },
  {
   "cell_type": "code",
   "execution_count": 19,
   "metadata": {},
   "outputs": [],
   "source": [
    "WorkODP.drop(['SKIP_ARRIVED_STATUS','SKIP_ACKNOWLEDGED_STATUS','SERVC_PROVID_REASSIGN_COUNTER','SERVICEREQUEST_IDENTIFIEDBY_FRENCH'], axis=True, inplace=True)\n",
    "              "
   ]
  },
  {
   "cell_type": "code",
   "execution_count": 20,
   "metadata": {},
   "outputs": [],
   "source": [
    "#WorkODP"
   ]
  },
  {
   "cell_type": "code",
   "execution_count": 21,
   "metadata": {},
   "outputs": [],
   "source": [
    "WorkODP.drop(['ADDRESS','WO# '], axis=True, inplace=True)"
   ]
  },
  {
   "cell_type": "code",
   "execution_count": 22,
   "metadata": {},
   "outputs": [],
   "source": [
    "WorkODP.drop(['CREATED_BY','SOURCE','ACCOUNTABLE_PROVIDER_LABORCODE','ACTUAL_ARRIVAL_CLIENTFISCALPERIOD_KEY','COPIED_TO_WONUM','CALLERSITE_KEY','CALLER_KEY','ARCHIVE_DATE','SOURCE_NAME','SERVICEREQUEST_CONTACTMETHOD_FRENCH','RFSTYPE_KEY','PHYSICALFLOOR_KEY','AREA_KEY','UNKNOWN_LOCATION_FLAG','UNKNOWN_LOCATION','UNKNOWN_FLOOR','UNKNOWN_AREA'], axis=True, inplace=True)"
   ]
  },
  {
   "cell_type": "code",
   "execution_count": 7,
   "metadata": {},
   "outputs": [
    {
     "ename": "NameError",
     "evalue": "name 'WorkODP' is not defined",
     "output_type": "error",
     "traceback": [
      "\u001b[1;31m---------------------------------------------------------------------------\u001b[0m",
      "\u001b[1;31mNameError\u001b[0m                                 Traceback (most recent call last)",
      "\u001b[1;32m<ipython-input-7-075e3ce5765c>\u001b[0m in \u001b[0;36m<module>\u001b[1;34m\u001b[0m\n\u001b[1;32m----> 1\u001b[1;33m \u001b[0mWorkODP\u001b[0m\u001b[1;33m\u001b[0m\u001b[1;33m\u001b[0m\u001b[0m\n\u001b[0m",
      "\u001b[1;31mNameError\u001b[0m: name 'WorkODP' is not defined"
     ]
    }
   ],
   "source": [
    "WorkODP"
   ]
  },
  {
   "cell_type": "code",
   "execution_count": 24,
   "metadata": {},
   "outputs": [],
   "source": [
    "WorkODP.drop(['FLOOR','SUITE','AREA','SURVEY_DATE'], axis=True, inplace=True)"
   ]
  },
  {
   "cell_type": "code",
   "execution_count": 8,
   "metadata": {},
   "outputs": [
    {
     "ename": "NameError",
     "evalue": "name 'WorkODP' is not defined",
     "output_type": "error",
     "traceback": [
      "\u001b[1;31m---------------------------------------------------------------------------\u001b[0m",
      "\u001b[1;31mNameError\u001b[0m                                 Traceback (most recent call last)",
      "\u001b[1;32m<ipython-input-8-075e3ce5765c>\u001b[0m in \u001b[0;36m<module>\u001b[1;34m\u001b[0m\n\u001b[1;32m----> 1\u001b[1;33m \u001b[0mWorkODP\u001b[0m\u001b[1;33m\u001b[0m\u001b[1;33m\u001b[0m\u001b[0m\n\u001b[0m",
      "\u001b[1;31mNameError\u001b[0m: name 'WorkODP' is not defined"
     ]
    }
   ],
   "source": [
    "WorkODP"
   ]
  },
  {
   "cell_type": "code",
   "execution_count": 26,
   "metadata": {},
   "outputs": [
    {
     "data": {
      "text/plain": [
       "['WORKORDER_NBR',\n",
       " 'WORKORDERFINANCIALSTATUS_KEY',\n",
       " 'SERVICEREQUEST_NBR',\n",
       " 'PROJECTCLASS_KEY',\n",
       " 'CLIENT_KEY',\n",
       " 'BUILDING_KEY',\n",
       " 'SERVICETYPE_KEY',\n",
       " 'REPORTEDBY',\n",
       " 'REQUESTTYPE_KEY',\n",
       " 'SERVICEPROVIDER_CLASS',\n",
       " 'SERVICEPROVIDER_KEY',\n",
       " 'SERVICEPROVIDERSITE_KEY',\n",
       " 'VENDOR_KEY',\n",
       " 'VENDOR_SITE_KEY',\n",
       " 'LANDLORD_KEY',\n",
       " 'LANDLORDSITE_KEY',\n",
       " 'SERVICEPROVIDER_NAME',\n",
       " 'COMPLETION_DATE',\n",
       " 'CREATION_DATE',\n",
       " 'CREATION_DATE_KEY',\n",
       " 'CREATION_CLIENTFISCALPERIOD_KEY',\n",
       " 'COMPLETION_DATE_KEY',\n",
       " 'COMPLETEDBY',\n",
       " 'COMPLETION_CLIENTFISCALPERIOD_KEY',\n",
       " 'WORKORDERTYPE_KEY',\n",
       " 'WORKORDERSOURCE_KEY',\n",
       " 'WORKORDERPRIORITY_KEY',\n",
       " 'WORKORDERJUNK_KEY',\n",
       " 'WORKORDERSTATUS_KEY',\n",
       " 'WORKORDERSELFCOMPLETIONTYPE_KEY',\n",
       " 'SERVICE_KEY',\n",
       " 'BILLABLE',\n",
       " 'EQUIPMENT_KEY',\n",
       " 'PMSCHEDULE_KEY',\n",
       " 'DESCRIPTION',\n",
       " 'RESOLUTION_DETAIL',\n",
       " 'PARENT_WORKORDER_NBR',\n",
       " 'REPORTDATE',\n",
       " 'STARTDATE',\n",
       " 'STARTDATE_KEY',\n",
       " 'START_CLIENTFISCALPERIOD_KEY',\n",
       " 'CLOSEDATE',\n",
       " 'CLOSEDATE_KEY',\n",
       " 'CLOSE_CLIENTFISCALPERIOD_KEY',\n",
       " 'WORKORDER_DURATION',\n",
       " 'DAYSOPEN',\n",
       " 'SCHEDULED_DATE',\n",
       " 'SCHEDULED_CLIENTFISCALPERIOD_KEY',\n",
       " 'SCHEDULEDDATE_KEY',\n",
       " 'SCHEDULETEMPLATE_KEY',\n",
       " 'JOBPLAN_KEY',\n",
       " 'SURVEY_DATE_KEY',\n",
       " 'SURVEY_CLIENTFISCALPERIOD_KEY',\n",
       " 'SURVEY_COMMENTS',\n",
       " 'CALLCENTRE_SCORE',\n",
       " 'STAFFPERFORMANCE_SCORE',\n",
       " 'QUALITYOFWORK_SCORE',\n",
       " 'TIMELINESS_SCORE',\n",
       " 'OVERALL_SCORE',\n",
       " 'QUOTE_TYPE',\n",
       " 'QUOTE_COMMENT',\n",
       " 'CHARGETO_ACCOUNT_NAME',\n",
       " 'ISCONTRACT',\n",
       " 'ESTIMATED_AMOUNT',\n",
       " 'FUNCTIONAL_BURDENED_COST',\n",
       " 'TRANSACTIONAL_BURDENED_COST',\n",
       " 'REVENUE_AMOUNT',\n",
       " 'PARENT_WORKORDER_ID',\n",
       " 'REQUEST_CLIENTFISCALPERIOD_KEY',\n",
       " 'SR_REQUESTTYPE_KEY',\n",
       " 'REQUEST_DATE_KEY',\n",
       " 'REQUEST_DATE',\n",
       " 'REPORT_CLIENTFISCALPERIOD_KEY',\n",
       " 'REPORTDATE_KEY',\n",
       " 'TARGET_ARRIVAL_CLIENTFISCALPERIOD_KEY',\n",
       " 'TARGET_ARRIVAL_DATE_KEY',\n",
       " 'TARGET_COMPLETION_CLIENTFISCALPERIOD_KEY',\n",
       " 'TARGET_COMPLETION_DATE_KEY',\n",
       " 'SERVICEREQUEST_CONTACTMETHOD_ENGLISH',\n",
       " 'SERVICEREQUEST_IDENTIFIEDBY_ENGLISH',\n",
       " 'TARGET_RESPOND_DATE',\n",
       " 'ACTUAL_RESPOND_DATE',\n",
       " 'TARGET_INITIATE_DATE',\n",
       " 'ACTUAL_INITIATE_DATE',\n",
       " 'TARGET_MITIGATE_DATE',\n",
       " 'ACTUAL_MITIGATE_DATE',\n",
       " 'TARGET_COMPLETION_DATE',\n",
       " 'TARGET_ARRIVAL_DATE',\n",
       " 'ACTUAL_ARRIVAL_DATE',\n",
       " 'CONTRACT_ARRIVAL_DATE',\n",
       " 'TRIGGER_REDISPATCH_DATE',\n",
       " 'LAST_DISPATCHED_DATE',\n",
       " 'UPDATED_ON_TIMESTAMP',\n",
       " 'PMSCHEDULE_TEMPLATE_ID',\n",
       " 'LAST_DISPATCHED_DATE_KEY',\n",
       " 'LAST_DISPATCHED_CLIENTFISCALPERIOD_KEY',\n",
       " 'LAST_ACTION_STATUS',\n",
       " 'IS_WORK_REMAINING',\n",
       " 'IS_REOPENED_WORKORDER',\n",
       " 'IS_MULTIPLE_ASSET',\n",
       " 'IS_MITIGATION_AVAILABLE',\n",
       " 'IS_BUILDING_ITEM_VISIBLE',\n",
       " 'IS_AUTODISPATCH',\n",
       " 'IS_ARCHIVE',\n",
       " 'INVOICEABLE_STATUS_FLAG',\n",
       " 'GLACCOUNT_NAME',\n",
       " 'GLACCOUNT_CODE',\n",
       " 'ACTUAL_ARRIVAL_DATE_KEY',\n",
       " 'ACCOUNTABLE_PROVIDER_CLASS',\n",
       " 'DSS_CREATE_TIME',\n",
       " 'DSS_UPDATE_TIME',\n",
       " 'FORM_NAME',\n",
       " 'ENTITY_TYPE',\n",
       " 'VERSION',\n",
       " 'SUBMISSION_STATUS',\n",
       " 'SUBMITTED_DATE',\n",
       " 'SUBMISSION_ID',\n",
       " 'LONGITUDE',\n",
       " 'LATITUDE',\n",
       " 'ASSOCIATED HVAC PM WO#',\n",
       " 'CBG',\n",
       " 'COMPLIANCE',\n",
       " 'WORK ORDER TYPE',\n",
       " 'JOB PLAN NUMBER',\n",
       " 'WO DESCRIPTION',\n",
       " 'EQUIPMENT NUMBER',\n",
       " 'EQUIPMENT DESCRIPTION',\n",
       " 'FACILITY MANAGER',\n",
       " 'BUILDING ID',\n",
       " 'CITY',\n",
       " 'PROVINCE',\n",
       " 'FMZ',\n",
       " 'REGION',\n",
       " \"DID YOU REFER TO JOB PLAN FOR ALL REQ'D DETAILS\",\n",
       " 'CHECK SYSTEM SUPERHEAT (COMPARE TO MANUFACTURES SPECS)',\n",
       " 'CHECK AND RECORD SUCTION PRES (PSIG)',\n",
       " 'CHECK AND RECORD DISCHARGE PRES (PSIG)',\n",
       " 'CHECK CONDENSOR HEADER LINES FOR VIBRATION, SIGNS OF OIL, AND LEAKS.',\n",
       " 'CHECK COMPRESSOR DISCHARGE LINE FOR VIBRATION AND LEAKS. ENSURE VIBRATION ABSORBERS AT THE BASE OF THE CONDENSOR ARE IN WORKING CONDITION',\n",
       " 'CHECK FOR LEAKS FROM METAL TO METAL CONTACT BETWEEN REFRIG PIPING OR OTHER COMPONENTS. PROVIDE ISOLATION AS REQUIRED USING PADDING,  CLAMPS, OR SILICON',\n",
       " 'CHECK SCHRADER VALVE FOR LEAKS. CHECK CAP FOR O RING, IF PLASTIC REPLACE WITH A BRASS CAP.  LOOK FOR OIL LEAKS',\n",
       " 'IF SYSTEM CONTAINS AFTER-MARKET PRESSURE GAUGES PLEASE IDENTIFY FOR REMOVAL AND REQUEST CM WORK ORDER TO REPAIR',\n",
       " 'RETURN SYSTEM TO REGULAR SERVICE',\n",
       " 'SPILL LINE EMPLOYEE NAME',\n",
       " 'NUMBER OF UNITS > 5.4T THAT REQUIRE ODP LEAK TESTING',\n",
       " 'NUMBER OF UNITS < 5.4T THAT DO NOT REQUIRE ODP TESTING',\n",
       " 'DO THE # OF UNITS > 5.4 T ON SITE MATCH THE # OF UNITS IN THE WORK ORDER DESCRIPTION?',\n",
       " 'AUTO EMAIL CMMS',\n",
       " 'ON THE ODP TAG SUBMITTED TODAY, WAS THERE A LEAK DETECTED OR REPAIRED?',\n",
       " 'ROOT CAUSE',\n",
       " 'CORRECTIVE ACTION TAKEN (IE. RECOVERED OR REPAIRED)',\n",
       " \"TECH'S EMAIL\",\n",
       " 'JOBPLAN_KEY',\n",
       " 'JOBPLAN_ID',\n",
       " 'JOBPLAN_NUMBER',\n",
       " 'JOBPLAN_DESC',\n",
       " 'COMPLIANCEIND',\n",
       " 'JOBPLAN_TYPE',\n",
       " 'WORKORDERSTATUS_KEY',\n",
       " 'WORKORDERSTATUS_CD',\n",
       " 'WORKORDERSTATUS_DESCRIPTION',\n",
       " 'OPENCLOSED_STATE',\n",
       " 'WORKORDERTYPE_KEY',\n",
       " 'WORKORDERTYPE_CD',\n",
       " 'CLIENT_ID',\n",
       " 'WORKORDERTYPE_DESCRIPTION',\n",
       " 'WORKORDERTYPE_CLASS']"
      ]
     },
     "execution_count": 26,
     "metadata": {},
     "output_type": "execute_result"
    }
   ],
   "source": [
    "WorkODP.columns.tolist()"
   ]
  },
  {
   "cell_type": "code",
   "execution_count": 27,
   "metadata": {},
   "outputs": [
    {
     "data": {
      "text/plain": [
       "array(['ACCOUNTABLE_PROVIDER_CLASS', 'ACTUAL_ARRIVAL_DATE',\n",
       "       'ACTUAL_ARRIVAL_DATE_KEY', 'ACTUAL_INITIATE_DATE',\n",
       "       'ACTUAL_MITIGATE_DATE', 'ACTUAL_RESPOND_DATE',\n",
       "       'ASSOCIATED HVAC PM WO#', 'AUTO EMAIL CMMS', 'BILLABLE',\n",
       "       'BUILDING ID', 'BUILDING_KEY', 'CALLCENTRE_SCORE', 'CBG',\n",
       "       'CHARGETO_ACCOUNT_NAME', 'CHECK AND RECORD DISCHARGE PRES (PSIG)',\n",
       "       'CHECK AND RECORD SUCTION PRES (PSIG)',\n",
       "       'CHECK COMPRESSOR DISCHARGE LINE FOR VIBRATION AND LEAKS. ENSURE VIBRATION ABSORBERS AT THE BASE OF THE CONDENSOR ARE IN WORKING CONDITION',\n",
       "       'CHECK CONDENSOR HEADER LINES FOR VIBRATION, SIGNS OF OIL, AND LEAKS.',\n",
       "       'CHECK FOR LEAKS FROM METAL TO METAL CONTACT BETWEEN REFRIG PIPING OR OTHER COMPONENTS. PROVIDE ISOLATION AS REQUIRED USING PADDING,  CLAMPS, OR SILICON',\n",
       "       'CHECK SCHRADER VALVE FOR LEAKS. CHECK CAP FOR O RING, IF PLASTIC REPLACE WITH A BRASS CAP.  LOOK FOR OIL LEAKS',\n",
       "       'CHECK SYSTEM SUPERHEAT (COMPARE TO MANUFACTURES SPECS)', 'CITY',\n",
       "       'CLIENT_ID', 'CLIENT_KEY', 'CLOSEDATE', 'CLOSEDATE_KEY',\n",
       "       'CLOSE_CLIENTFISCALPERIOD_KEY', 'COMPLETEDBY',\n",
       "       'COMPLETION_CLIENTFISCALPERIOD_KEY', 'COMPLETION_DATE',\n",
       "       'COMPLETION_DATE_KEY', 'COMPLIANCE', 'COMPLIANCEIND',\n",
       "       'CONTRACT_ARRIVAL_DATE',\n",
       "       'CORRECTIVE ACTION TAKEN (IE. RECOVERED OR REPAIRED)',\n",
       "       'CREATION_CLIENTFISCALPERIOD_KEY', 'CREATION_DATE',\n",
       "       'CREATION_DATE_KEY', 'DAYSOPEN', 'DESCRIPTION',\n",
       "       \"DID YOU REFER TO JOB PLAN FOR ALL REQ'D DETAILS\",\n",
       "       'DO THE # OF UNITS > 5.4 T ON SITE MATCH THE # OF UNITS IN THE WORK ORDER DESCRIPTION?',\n",
       "       'DSS_CREATE_TIME', 'DSS_UPDATE_TIME', 'ENTITY_TYPE',\n",
       "       'EQUIPMENT DESCRIPTION', 'EQUIPMENT NUMBER', 'EQUIPMENT_KEY',\n",
       "       'ESTIMATED_AMOUNT', 'FACILITY MANAGER', 'FMZ', 'FORM_NAME',\n",
       "       'FUNCTIONAL_BURDENED_COST', 'GLACCOUNT_CODE', 'GLACCOUNT_NAME',\n",
       "       'IF SYSTEM CONTAINS AFTER-MARKET PRESSURE GAUGES PLEASE IDENTIFY FOR REMOVAL AND REQUEST CM WORK ORDER TO REPAIR',\n",
       "       'INVOICEABLE_STATUS_FLAG', 'ISCONTRACT', 'IS_ARCHIVE',\n",
       "       'IS_AUTODISPATCH', 'IS_BUILDING_ITEM_VISIBLE',\n",
       "       'IS_MITIGATION_AVAILABLE', 'IS_MULTIPLE_ASSET',\n",
       "       'IS_REOPENED_WORKORDER', 'IS_WORK_REMAINING', 'JOB PLAN NUMBER',\n",
       "       'JOBPLAN_DESC', 'JOBPLAN_ID', 'JOBPLAN_KEY', 'JOBPLAN_KEY',\n",
       "       'JOBPLAN_NUMBER', 'JOBPLAN_TYPE', 'LANDLORDSITE_KEY',\n",
       "       'LANDLORD_KEY', 'LAST_ACTION_STATUS',\n",
       "       'LAST_DISPATCHED_CLIENTFISCALPERIOD_KEY', 'LAST_DISPATCHED_DATE',\n",
       "       'LAST_DISPATCHED_DATE_KEY', 'LATITUDE', 'LONGITUDE',\n",
       "       'NUMBER OF UNITS < 5.4T THAT DO NOT REQUIRE ODP TESTING',\n",
       "       'NUMBER OF UNITS > 5.4T THAT REQUIRE ODP LEAK TESTING',\n",
       "       'ON THE ODP TAG SUBMITTED TODAY, WAS THERE A LEAK DETECTED OR REPAIRED?',\n",
       "       'OPENCLOSED_STATE', 'OVERALL_SCORE', 'PARENT_WORKORDER_ID',\n",
       "       'PARENT_WORKORDER_NBR', 'PMSCHEDULE_KEY', 'PMSCHEDULE_TEMPLATE_ID',\n",
       "       'PROJECTCLASS_KEY', 'PROVINCE', 'QUALITYOFWORK_SCORE',\n",
       "       'QUOTE_COMMENT', 'QUOTE_TYPE', 'REGION', 'REPORTDATE',\n",
       "       'REPORTDATE_KEY', 'REPORTEDBY', 'REPORT_CLIENTFISCALPERIOD_KEY',\n",
       "       'REQUESTTYPE_KEY', 'REQUEST_CLIENTFISCALPERIOD_KEY',\n",
       "       'REQUEST_DATE', 'REQUEST_DATE_KEY', 'RESOLUTION_DETAIL',\n",
       "       'RETURN SYSTEM TO REGULAR SERVICE', 'REVENUE_AMOUNT', 'ROOT CAUSE',\n",
       "       'SCHEDULEDDATE_KEY', 'SCHEDULED_CLIENTFISCALPERIOD_KEY',\n",
       "       'SCHEDULED_DATE', 'SCHEDULETEMPLATE_KEY',\n",
       "       'SERVICEPROVIDERSITE_KEY', 'SERVICEPROVIDER_CLASS',\n",
       "       'SERVICEPROVIDER_KEY', 'SERVICEPROVIDER_NAME',\n",
       "       'SERVICEREQUEST_CONTACTMETHOD_ENGLISH',\n",
       "       'SERVICEREQUEST_IDENTIFIEDBY_ENGLISH', 'SERVICEREQUEST_NBR',\n",
       "       'SERVICETYPE_KEY', 'SERVICE_KEY', 'SPILL LINE EMPLOYEE NAME',\n",
       "       'SR_REQUESTTYPE_KEY', 'STAFFPERFORMANCE_SCORE', 'STARTDATE',\n",
       "       'STARTDATE_KEY', 'START_CLIENTFISCALPERIOD_KEY', 'SUBMISSION_ID',\n",
       "       'SUBMISSION_STATUS', 'SUBMITTED_DATE',\n",
       "       'SURVEY_CLIENTFISCALPERIOD_KEY', 'SURVEY_COMMENTS',\n",
       "       'SURVEY_DATE_KEY', 'TARGET_ARRIVAL_CLIENTFISCALPERIOD_KEY',\n",
       "       'TARGET_ARRIVAL_DATE', 'TARGET_ARRIVAL_DATE_KEY',\n",
       "       'TARGET_COMPLETION_CLIENTFISCALPERIOD_KEY',\n",
       "       'TARGET_COMPLETION_DATE', 'TARGET_COMPLETION_DATE_KEY',\n",
       "       'TARGET_INITIATE_DATE', 'TARGET_MITIGATE_DATE',\n",
       "       'TARGET_RESPOND_DATE', \"TECH'S EMAIL\", 'TIMELINESS_SCORE',\n",
       "       'TRANSACTIONAL_BURDENED_COST', 'TRIGGER_REDISPATCH_DATE',\n",
       "       'UPDATED_ON_TIMESTAMP', 'VENDOR_KEY', 'VENDOR_SITE_KEY', 'VERSION',\n",
       "       'WO DESCRIPTION', 'WORK ORDER TYPE',\n",
       "       'WORKORDERFINANCIALSTATUS_KEY', 'WORKORDERJUNK_KEY',\n",
       "       'WORKORDERPRIORITY_KEY', 'WORKORDERSELFCOMPLETIONTYPE_KEY',\n",
       "       'WORKORDERSOURCE_KEY', 'WORKORDERSTATUS_CD',\n",
       "       'WORKORDERSTATUS_DESCRIPTION', 'WORKORDERSTATUS_KEY',\n",
       "       'WORKORDERSTATUS_KEY', 'WORKORDERTYPE_CD', 'WORKORDERTYPE_CLASS',\n",
       "       'WORKORDERTYPE_DESCRIPTION', 'WORKORDERTYPE_KEY',\n",
       "       'WORKORDERTYPE_KEY', 'WORKORDER_DURATION', 'WORKORDER_NBR'],\n",
       "      dtype='<U151')"
      ]
     },
     "execution_count": 27,
     "metadata": {},
     "output_type": "execute_result"
    }
   ],
   "source": [
    "np.sort(WorkODP.columns.tolist())"
   ]
  },
  {
   "cell_type": "code",
   "execution_count": 28,
   "metadata": {},
   "outputs": [
    {
     "data": {
      "text/plain": [
       "0       False\n",
       "1       False\n",
       "2       False\n",
       "3       False\n",
       "4       False\n",
       "        ...  \n",
       "5012    False\n",
       "5013    False\n",
       "5014    False\n",
       "5015    False\n",
       "5016    False\n",
       "Name: COMPLETION_DATE, Length: 5017, dtype: bool"
      ]
     },
     "execution_count": 28,
     "metadata": {},
     "output_type": "execute_result"
    }
   ],
   "source": [
    "WorkODP['COMPLETION_DATE'].isnull()"
   ]
  },
  {
   "cell_type": "code",
   "execution_count": 29,
   "metadata": {},
   "outputs": [],
   "source": [
    "#WorkODP.drop(WorkODP.index[WorkODP['OPENCLOSED_STATE'] == 'Cancelled'], inplace=True)"
   ]
  },
  {
   "cell_type": "code",
   "execution_count": 9,
   "metadata": {},
   "outputs": [
    {
     "ename": "NameError",
     "evalue": "name 'WorkODP' is not defined",
     "output_type": "error",
     "traceback": [
      "\u001b[1;31m---------------------------------------------------------------------------\u001b[0m",
      "\u001b[1;31mNameError\u001b[0m                                 Traceback (most recent call last)",
      "\u001b[1;32m<ipython-input-9-d76ad35fb0ea>\u001b[0m in \u001b[0;36m<module>\u001b[1;34m\u001b[0m\n\u001b[1;32m----> 1\u001b[1;33m \u001b[0mWorkODP\u001b[0m\u001b[1;33m.\u001b[0m\u001b[0mloc\u001b[0m\u001b[1;33m[\u001b[0m\u001b[0mWorkODP\u001b[0m\u001b[1;33m[\u001b[0m\u001b[1;34m'COMPLETION_DATE'\u001b[0m\u001b[1;33m]\u001b[0m\u001b[1;33m.\u001b[0m\u001b[0misnull\u001b[0m\u001b[1;33m(\u001b[0m\u001b[1;33m)\u001b[0m\u001b[1;33m,\u001b[0m \u001b[1;33m[\u001b[0m\u001b[1;34m'DAYSOPEN'\u001b[0m\u001b[1;33m,\u001b[0m\u001b[1;34m'CREATION_DATE'\u001b[0m\u001b[1;33m,\u001b[0m\u001b[1;34m'COMPLETION_DATE'\u001b[0m\u001b[1;33m,\u001b[0m\u001b[1;34m'TARGET_COMPLETION_DATE'\u001b[0m\u001b[1;33m,\u001b[0m\u001b[1;34m'OPENCLOSED_STATE'\u001b[0m\u001b[1;33m,\u001b[0m\u001b[1;34m'COMPLIANCEIND'\u001b[0m\u001b[1;33m,\u001b[0m\u001b[1;34m'CLOSEDATE'\u001b[0m\u001b[1;33m,\u001b[0m\u001b[1;34m'WORKORDERSTATUS_CD'\u001b[0m\u001b[1;33m]\u001b[0m\u001b[1;33m]\u001b[0m\u001b[1;33m\u001b[0m\u001b[1;33m\u001b[0m\u001b[0m\n\u001b[0m",
      "\u001b[1;31mNameError\u001b[0m: name 'WorkODP' is not defined"
     ]
    }
   ],
   "source": [
    "WorkODP.loc[WorkODP['COMPLETION_DATE'].isnull(), ['DAYSOPEN','CREATION_DATE','COMPLETION_DATE','TARGET_COMPLETION_DATE','OPENCLOSED_STATE','COMPLIANCEIND','CLOSEDATE','WORKORDERSTATUS_CD']]"
   ]
  },
  {
   "cell_type": "code",
   "execution_count": 10,
   "metadata": {},
   "outputs": [
    {
     "ename": "NameError",
     "evalue": "name 'WorkODP' is not defined",
     "output_type": "error",
     "traceback": [
      "\u001b[1;31m---------------------------------------------------------------------------\u001b[0m",
      "\u001b[1;31mNameError\u001b[0m                                 Traceback (most recent call last)",
      "\u001b[1;32m<ipython-input-10-0a6d0f79d856>\u001b[0m in \u001b[0;36m<module>\u001b[1;34m\u001b[0m\n\u001b[1;32m----> 1\u001b[1;33m \u001b[0mWorkODP\u001b[0m\u001b[1;33m.\u001b[0m\u001b[0mloc\u001b[0m\u001b[1;33m[\u001b[0m\u001b[0mWorkODP\u001b[0m\u001b[1;33m[\u001b[0m\u001b[1;34m'COMPLETION_DATE'\u001b[0m\u001b[1;33m]\u001b[0m\u001b[1;33m.\u001b[0m\u001b[0misnull\u001b[0m\u001b[1;33m(\u001b[0m\u001b[1;33m)\u001b[0m\u001b[1;33m]\u001b[0m\u001b[1;33m\u001b[0m\u001b[1;33m\u001b[0m\u001b[0m\n\u001b[0m",
      "\u001b[1;31mNameError\u001b[0m: name 'WorkODP' is not defined"
     ]
    }
   ],
   "source": [
    "WorkODP.loc[WorkODP['COMPLETION_DATE'].isnull()]"
   ]
  },
  {
   "cell_type": "code",
   "execution_count": 32,
   "metadata": {},
   "outputs": [
    {
     "data": {
      "text/html": [
       "<div>\n",
       "<style scoped>\n",
       "    .dataframe tbody tr th:only-of-type {\n",
       "        vertical-align: middle;\n",
       "    }\n",
       "\n",
       "    .dataframe tbody tr th {\n",
       "        vertical-align: top;\n",
       "    }\n",
       "\n",
       "    .dataframe thead th {\n",
       "        text-align: right;\n",
       "    }\n",
       "</style>\n",
       "<table border=\"1\" class=\"dataframe\">\n",
       "  <thead>\n",
       "    <tr style=\"text-align: right;\">\n",
       "      <th></th>\n",
       "      <th>COMPLETION_DATE</th>\n",
       "      <th>WORKORDERSTATUS_CD</th>\n",
       "      <th>OPENCLOSED_STATE</th>\n",
       "    </tr>\n",
       "  </thead>\n",
       "  <tbody>\n",
       "    <tr>\n",
       "      <th>0</th>\n",
       "      <td>2022-06-17 06:45:00-04:00</td>\n",
       "      <td>CLOSED</td>\n",
       "      <td>Closed</td>\n",
       "    </tr>\n",
       "    <tr>\n",
       "      <th>1</th>\n",
       "      <td>2022-04-13 09:00:00-04:00</td>\n",
       "      <td>COMP</td>\n",
       "      <td>Closed</td>\n",
       "    </tr>\n",
       "    <tr>\n",
       "      <th>2</th>\n",
       "      <td>2022-06-20 16:00:00-04:00</td>\n",
       "      <td>COMP</td>\n",
       "      <td>Closed</td>\n",
       "    </tr>\n",
       "    <tr>\n",
       "      <th>3</th>\n",
       "      <td>2022-05-31 16:35:00-04:00</td>\n",
       "      <td>COMP</td>\n",
       "      <td>Closed</td>\n",
       "    </tr>\n",
       "    <tr>\n",
       "      <th>4</th>\n",
       "      <td>2022-06-02 16:23:00-04:00</td>\n",
       "      <td>COMP</td>\n",
       "      <td>Closed</td>\n",
       "    </tr>\n",
       "    <tr>\n",
       "      <th>...</th>\n",
       "      <td>...</td>\n",
       "      <td>...</td>\n",
       "      <td>...</td>\n",
       "    </tr>\n",
       "    <tr>\n",
       "      <th>5012</th>\n",
       "      <td>2022-07-05 10:56:00-04:00</td>\n",
       "      <td>COMP</td>\n",
       "      <td>Closed</td>\n",
       "    </tr>\n",
       "    <tr>\n",
       "      <th>5013</th>\n",
       "      <td>2022-05-28 18:17:00-04:00</td>\n",
       "      <td>CLOSED</td>\n",
       "      <td>Closed</td>\n",
       "    </tr>\n",
       "    <tr>\n",
       "      <th>5014</th>\n",
       "      <td>2022-05-28 18:17:00-04:00</td>\n",
       "      <td>CLOSED</td>\n",
       "      <td>Closed</td>\n",
       "    </tr>\n",
       "    <tr>\n",
       "      <th>5015</th>\n",
       "      <td>2022-05-22 07:49:00-04:00</td>\n",
       "      <td>CLOSED</td>\n",
       "      <td>Closed</td>\n",
       "    </tr>\n",
       "    <tr>\n",
       "      <th>5016</th>\n",
       "      <td>2022-05-20 11:37:00-04:00</td>\n",
       "      <td>CLOSED</td>\n",
       "      <td>Closed</td>\n",
       "    </tr>\n",
       "  </tbody>\n",
       "</table>\n",
       "<p>5017 rows × 3 columns</p>\n",
       "</div>"
      ],
      "text/plain": [
       "                COMPLETION_DATE WORKORDERSTATUS_CD OPENCLOSED_STATE\n",
       "0     2022-06-17 06:45:00-04:00             CLOSED           Closed\n",
       "1     2022-04-13 09:00:00-04:00               COMP           Closed\n",
       "2     2022-06-20 16:00:00-04:00               COMP           Closed\n",
       "3     2022-05-31 16:35:00-04:00               COMP           Closed\n",
       "4     2022-06-02 16:23:00-04:00               COMP           Closed\n",
       "...                         ...                ...              ...\n",
       "5012  2022-07-05 10:56:00-04:00               COMP           Closed\n",
       "5013  2022-05-28 18:17:00-04:00             CLOSED           Closed\n",
       "5014  2022-05-28 18:17:00-04:00             CLOSED           Closed\n",
       "5015  2022-05-22 07:49:00-04:00             CLOSED           Closed\n",
       "5016  2022-05-20 11:37:00-04:00             CLOSED           Closed\n",
       "\n",
       "[5017 rows x 3 columns]"
      ]
     },
     "execution_count": 32,
     "metadata": {},
     "output_type": "execute_result"
    }
   ],
   "source": [
    "WorkODP[['COMPLETION_DATE','WORKORDERSTATUS_CD','OPENCLOSED_STATE']]"
   ]
  },
  {
   "cell_type": "code",
   "execution_count": 33,
   "metadata": {},
   "outputs": [
    {
     "data": {
      "text/plain": [
       "Series([], Name: COMPLETION_DATE, dtype: object)"
      ]
     },
     "execution_count": 33,
     "metadata": {},
     "output_type": "execute_result"
    }
   ],
   "source": [
    "WorkODP.loc[WorkODP['DAYSOPEN']=='0 days', 'COMPLETION_DATE']"
   ]
  },
  {
   "cell_type": "code",
   "execution_count": 34,
   "metadata": {},
   "outputs": [
    {
     "data": {
      "text/plain": [
       "133"
      ]
     },
     "execution_count": 34,
     "metadata": {},
     "output_type": "execute_result"
    }
   ],
   "source": [
    "count= (WorkODP['COMPLETION_DATE'].isnull()).sum()\n",
    "\n",
    "count"
   ]
  },
  {
   "cell_type": "code",
   "execution_count": 35,
   "metadata": {},
   "outputs": [],
   "source": [
    "\n",
    "WorkODP.drop(['WORKORDERFINANCIALSTATUS_KEY','PROJECTCLASS_KEY','CLIENT_KEY','BUILDING_KEY','SERVICETYPE_KEY','REQUESTTYPE_KEY','SERVICEPROVIDER_KEY', 'SERVICEPROVIDERSITE_KEY','VENDOR_KEY','VENDOR_SITE_KEY','LANDLORD_KEY','LANDLORDSITE_KEY','CREATION_DATE_KEY','CREATION_CLIENTFISCALPERIOD_KEY','COMPLETION_DATE_KEY','COMPLETION_CLIENTFISCALPERIOD_KEY','WORKORDERTYPE_KEY','WORKORDERSOURCE_KEY','WORKORDERPRIORITY_KEY', 'WORKORDERJUNK_KEY', 'WORKORDERSTATUS_KEY','WORKORDERSELFCOMPLETIONTYPE_KEY', 'SERVICE_KEY','PMSCHEDULE_KEY','STARTDATE_KEY','START_CLIENTFISCALPERIOD_KEY','CLOSEDATE_KEY','CLOSE_CLIENTFISCALPERIOD_KEY','SCHEDULED_CLIENTFISCALPERIOD_KEY','SCHEDULETEMPLATE_KEY','JOBPLAN_KEY','SURVEY_DATE_KEY', 'SURVEY_CLIENTFISCALPERIOD_KEY','REQUEST_CLIENTFISCALPERIOD_KEY','SR_REQUESTTYPE_KEY','REQUEST_DATE_KEY','REPORT_CLIENTFISCALPERIOD_KEY','REPORTDATE_KEY', 'TARGET_ARRIVAL_CLIENTFISCALPERIOD_KEY','TARGET_ARRIVAL_DATE_KEY','TARGET_COMPLETION_CLIENTFISCALPERIOD_KEY','TARGET_COMPLETION_DATE_KEY','LAST_DISPATCHED_DATE_KEY','LAST_DISPATCHED_CLIENTFISCALPERIOD_KEY','ACTUAL_ARRIVAL_DATE_KEY','JOBPLAN_KEY','WORKORDERSTATUS_KEY','WORKORDERTYPE_KEY'], axis=True, inplace=True)"
   ]
  },
  {
   "cell_type": "code",
   "execution_count": 11,
   "metadata": {},
   "outputs": [
    {
     "ename": "NameError",
     "evalue": "name 'WorkODP' is not defined",
     "output_type": "error",
     "traceback": [
      "\u001b[1;31m---------------------------------------------------------------------------\u001b[0m",
      "\u001b[1;31mNameError\u001b[0m                                 Traceback (most recent call last)",
      "\u001b[1;32m<ipython-input-11-075e3ce5765c>\u001b[0m in \u001b[0;36m<module>\u001b[1;34m\u001b[0m\n\u001b[1;32m----> 1\u001b[1;33m \u001b[0mWorkODP\u001b[0m\u001b[1;33m\u001b[0m\u001b[1;33m\u001b[0m\u001b[0m\n\u001b[0m",
      "\u001b[1;31mNameError\u001b[0m: name 'WorkODP' is not defined"
     ]
    }
   ],
   "source": [
    "WorkODP"
   ]
  },
  {
   "cell_type": "code",
   "execution_count": 37,
   "metadata": {},
   "outputs": [],
   "source": [
    "WorkODP.drop(['WORK ORDER TYPE','SPILL LINE EMPLOYEE NAME','SERVICEREQUEST_CONTACTMETHOD_ENGLISH','COMPLETEDBY','REPORTEDBY'], axis=True, inplace=True)"
   ]
  },
  {
   "cell_type": "code",
   "execution_count": 38,
   "metadata": {},
   "outputs": [
    {
     "data": {
      "text/plain": [
       "array(['CLOSED', 'COMPLETE', 'ACKNOWLEDGE', 'DISPATCHED',\n",
       "       'Quote Declined', 'CANCELLED', 'ARRIVED', 'Waiting for Approval',\n",
       "       'IN PROGRESS', 'Approved'], dtype=object)"
      ]
     },
     "execution_count": 38,
     "metadata": {},
     "output_type": "execute_result"
    }
   ],
   "source": [
    "len(WorkODP.columns)\n",
    "\n",
    "WorkODP['WORKORDERSTATUS_DESCRIPTION'].unique()"
   ]
  },
  {
   "cell_type": "code",
   "execution_count": 39,
   "metadata": {},
   "outputs": [
    {
     "name": "stdout",
     "output_type": "stream",
     "text": [
      "No\n"
     ]
    }
   ],
   "source": [
    "if 'TARGET_COMPLETION_DAYS_OPEN' in WorkODP.columns:\n",
    "\n",
    "    print(\"Yes\")\n",
    "else:\n",
    "    print(\"No\")    \n",
    "    "
   ]
  },
  {
   "cell_type": "code",
   "execution_count": 40,
   "metadata": {},
   "outputs": [
    {
     "data": {
      "text/plain": [
       "array(['Closed', 'Open', 'Cancelled'], dtype=object)"
      ]
     },
     "execution_count": 40,
     "metadata": {},
     "output_type": "execute_result"
    }
   ],
   "source": [
    "WorkODP['OPENCLOSED_STATE'].unique()"
   ]
  },
  {
   "cell_type": "code",
   "execution_count": 41,
   "metadata": {},
   "outputs": [
    {
     "data": {
      "text/plain": [
       "array([ True, False])"
      ]
     },
     "execution_count": 41,
     "metadata": {},
     "output_type": "execute_result"
    }
   ],
   "source": [
    "WorkODP['COMPLIANCEIND'].unique()"
   ]
  },
  {
   "cell_type": "code",
   "execution_count": 20,
   "metadata": {},
   "outputs": [
    {
     "ename": "NameError",
     "evalue": "name 'WorkODP' is not defined",
     "output_type": "error",
     "traceback": [
      "\u001b[1;31m---------------------------------------------------------------------------\u001b[0m",
      "\u001b[1;31mNameError\u001b[0m                                 Traceback (most recent call last)",
      "\u001b[1;32m<ipython-input-20-850717fe185b>\u001b[0m in \u001b[0;36m<module>\u001b[1;34m\u001b[0m\n\u001b[1;32m----> 1\u001b[1;33m \u001b[0mWorkODP\u001b[0m\u001b[1;33m[\u001b[0m\u001b[1;34m'JOBPLAN_DESC'\u001b[0m\u001b[1;33m]\u001b[0m\u001b[1;33m.\u001b[0m\u001b[0munique\u001b[0m\u001b[1;33m(\u001b[0m\u001b[1;33m)\u001b[0m\u001b[1;33m\u001b[0m\u001b[1;33m\u001b[0m\u001b[0m\n\u001b[0m",
      "\u001b[1;31mNameError\u001b[0m: name 'WorkODP' is not defined"
     ]
    }
   ],
   "source": [
    "WorkODP['JOBPLAN_DESC'].unique()"
   ]
  },
  {
   "cell_type": "code",
   "execution_count": 43,
   "metadata": {},
   "outputs": [
    {
     "data": {
      "text/plain": [
       "array(['PM', 'CM', 'SR'], dtype=object)"
      ]
     },
     "execution_count": 43,
     "metadata": {},
     "output_type": "execute_result"
    }
   ],
   "source": [
    "WorkODP['WORKORDERTYPE_CLASS'].unique()"
   ]
  },
  {
   "cell_type": "code",
   "execution_count": 44,
   "metadata": {},
   "outputs": [
    {
     "data": {
      "text/plain": [
       "array(['CLOSED', 'COMP', 'ACKN', 'DISP', 'DECLINED', 'CAN', 'ARRIVED',\n",
       "       'WAITAPR', 'IN-PRG', 'APP'], dtype=object)"
      ]
     },
     "execution_count": 44,
     "metadata": {},
     "output_type": "execute_result"
    }
   ],
   "source": [
    "WorkODP['WORKORDERSTATUS_CD'].unique()"
   ]
  },
  {
   "cell_type": "code",
   "execution_count": 45,
   "metadata": {},
   "outputs": [
    {
     "data": {
      "text/plain": [
       "array(['01', '02', '03', '11', '04', '0', '07', '05', None, '16+', '09',\n",
       "       '06', '10', '14', '12', '08', '13', '15'], dtype=object)"
      ]
     },
     "execution_count": 45,
     "metadata": {},
     "output_type": "execute_result"
    }
   ],
   "source": [
    "WorkODP['NUMBER OF UNITS > 5.4T THAT REQUIRE ODP LEAK TESTING'].unique()"
   ]
  },
  {
   "cell_type": "code",
   "execution_count": 46,
   "metadata": {},
   "outputs": [
    {
     "data": {
      "text/plain": [
       "datetime.datetime(2022, 8, 31, 21, 0, tzinfo=pytz.FixedOffset(-240))"
      ]
     },
     "execution_count": 46,
     "metadata": {},
     "output_type": "execute_result"
    }
   ],
   "source": [
    "MAX=WorkODP['TARGET_COMPLETION_DATE'].max()\n",
    "MAX"
   ]
  },
  {
   "cell_type": "code",
   "execution_count": 47,
   "metadata": {},
   "outputs": [
    {
     "data": {
      "text/plain": [
       "0       2022-05-21 04:05:03-04:00\n",
       "1       2022-03-21 02:31:10-04:00\n",
       "2       2022-05-21 05:01:42-04:00\n",
       "3       2022-04-21 07:53:19-04:00\n",
       "4       2022-05-21 04:40:03-04:00\n",
       "                  ...            \n",
       "5012    2022-06-24 14:37:07-04:00\n",
       "5013    2022-04-21 05:04:39-04:00\n",
       "5014    2022-04-21 05:04:39-04:00\n",
       "5015    2022-04-21 05:04:30-04:00\n",
       "5016    2022-04-21 04:50:59-04:00\n",
       "Name: CREATION_DATE, Length: 5017, dtype: object"
      ]
     },
     "execution_count": 47,
     "metadata": {},
     "output_type": "execute_result"
    }
   ],
   "source": [
    "WorkODP['CREATION_DATE']"
   ]
  },
  {
   "cell_type": "markdown",
   "metadata": {},
   "source": [
    "### Target Completion Date- Creation Date"
   ]
  },
  {
   "cell_type": "code",
   "execution_count": 48,
   "metadata": {},
   "outputs": [],
   "source": [
    "WorkODP['TARGET_COMPLETION_DAYS'] = pd.to_datetime(WorkODP['TARGET_COMPLETION_DATE'],utc=True, errors = 'coerce') - pd.to_datetime(WorkODP['CREATION_DATE'],utc=True,errors = 'coerce')"
   ]
  },
  {
   "cell_type": "code",
   "execution_count": 12,
   "metadata": {},
   "outputs": [
    {
     "ename": "NameError",
     "evalue": "name 'WorkODP' is not defined",
     "output_type": "error",
     "traceback": [
      "\u001b[1;31m---------------------------------------------------------------------------\u001b[0m",
      "\u001b[1;31mNameError\u001b[0m                                 Traceback (most recent call last)",
      "\u001b[1;32m<ipython-input-12-075e3ce5765c>\u001b[0m in \u001b[0;36m<module>\u001b[1;34m\u001b[0m\n\u001b[1;32m----> 1\u001b[1;33m \u001b[0mWorkODP\u001b[0m\u001b[1;33m\u001b[0m\u001b[1;33m\u001b[0m\u001b[0m\n\u001b[0m",
      "\u001b[1;31mNameError\u001b[0m: name 'WorkODP' is not defined"
     ]
    }
   ],
   "source": [
    "WorkODP"
   ]
  },
  {
   "cell_type": "code",
   "execution_count": 50,
   "metadata": {},
   "outputs": [
    {
     "data": {
      "text/plain": [
       "array(['ACCOUNTABLE_PROVIDER_CLASS', 'ACTUAL_ARRIVAL_DATE',\n",
       "       'ACTUAL_INITIATE_DATE', 'ACTUAL_MITIGATE_DATE',\n",
       "       'ACTUAL_RESPOND_DATE', 'ASSOCIATED HVAC PM WO#', 'AUTO EMAIL CMMS',\n",
       "       'BILLABLE', 'BUILDING ID', 'CALLCENTRE_SCORE', 'CBG',\n",
       "       'CHARGETO_ACCOUNT_NAME', 'CHECK AND RECORD DISCHARGE PRES (PSIG)',\n",
       "       'CHECK AND RECORD SUCTION PRES (PSIG)',\n",
       "       'CHECK COMPRESSOR DISCHARGE LINE FOR VIBRATION AND LEAKS. ENSURE VIBRATION ABSORBERS AT THE BASE OF THE CONDENSOR ARE IN WORKING CONDITION',\n",
       "       'CHECK CONDENSOR HEADER LINES FOR VIBRATION, SIGNS OF OIL, AND LEAKS.',\n",
       "       'CHECK FOR LEAKS FROM METAL TO METAL CONTACT BETWEEN REFRIG PIPING OR OTHER COMPONENTS. PROVIDE ISOLATION AS REQUIRED USING PADDING,  CLAMPS, OR SILICON',\n",
       "       'CHECK SCHRADER VALVE FOR LEAKS. CHECK CAP FOR O RING, IF PLASTIC REPLACE WITH A BRASS CAP.  LOOK FOR OIL LEAKS',\n",
       "       'CHECK SYSTEM SUPERHEAT (COMPARE TO MANUFACTURES SPECS)', 'CITY',\n",
       "       'CLIENT_ID', 'CLOSEDATE', 'COMPLETION_DATE', 'COMPLIANCE',\n",
       "       'COMPLIANCEIND', 'CONTRACT_ARRIVAL_DATE',\n",
       "       'CORRECTIVE ACTION TAKEN (IE. RECOVERED OR REPAIRED)',\n",
       "       'CREATION_DATE', 'DAYSOPEN', 'DESCRIPTION',\n",
       "       \"DID YOU REFER TO JOB PLAN FOR ALL REQ'D DETAILS\",\n",
       "       'DO THE # OF UNITS > 5.4 T ON SITE MATCH THE # OF UNITS IN THE WORK ORDER DESCRIPTION?',\n",
       "       'DSS_CREATE_TIME', 'DSS_UPDATE_TIME', 'ENTITY_TYPE',\n",
       "       'EQUIPMENT DESCRIPTION', 'EQUIPMENT NUMBER', 'EQUIPMENT_KEY',\n",
       "       'ESTIMATED_AMOUNT', 'FACILITY MANAGER', 'FMZ', 'FORM_NAME',\n",
       "       'FUNCTIONAL_BURDENED_COST', 'GLACCOUNT_CODE', 'GLACCOUNT_NAME',\n",
       "       'IF SYSTEM CONTAINS AFTER-MARKET PRESSURE GAUGES PLEASE IDENTIFY FOR REMOVAL AND REQUEST CM WORK ORDER TO REPAIR',\n",
       "       'INVOICEABLE_STATUS_FLAG', 'ISCONTRACT', 'IS_ARCHIVE',\n",
       "       'IS_AUTODISPATCH', 'IS_BUILDING_ITEM_VISIBLE',\n",
       "       'IS_MITIGATION_AVAILABLE', 'IS_MULTIPLE_ASSET',\n",
       "       'IS_REOPENED_WORKORDER', 'IS_WORK_REMAINING', 'JOB PLAN NUMBER',\n",
       "       'JOBPLAN_DESC', 'JOBPLAN_ID', 'JOBPLAN_NUMBER', 'JOBPLAN_TYPE',\n",
       "       'LAST_ACTION_STATUS', 'LAST_DISPATCHED_DATE', 'LATITUDE',\n",
       "       'LONGITUDE',\n",
       "       'NUMBER OF UNITS < 5.4T THAT DO NOT REQUIRE ODP TESTING',\n",
       "       'NUMBER OF UNITS > 5.4T THAT REQUIRE ODP LEAK TESTING',\n",
       "       'ON THE ODP TAG SUBMITTED TODAY, WAS THERE A LEAK DETECTED OR REPAIRED?',\n",
       "       'OPENCLOSED_STATE', 'OVERALL_SCORE', 'PARENT_WORKORDER_ID',\n",
       "       'PARENT_WORKORDER_NBR', 'PMSCHEDULE_TEMPLATE_ID', 'PROVINCE',\n",
       "       'QUALITYOFWORK_SCORE', 'QUOTE_COMMENT', 'QUOTE_TYPE', 'REGION',\n",
       "       'REPORTDATE', 'REQUEST_DATE', 'RESOLUTION_DETAIL',\n",
       "       'RETURN SYSTEM TO REGULAR SERVICE', 'REVENUE_AMOUNT', 'ROOT CAUSE',\n",
       "       'SCHEDULEDDATE_KEY', 'SCHEDULED_DATE', 'SERVICEPROVIDER_CLASS',\n",
       "       'SERVICEPROVIDER_NAME', 'SERVICEREQUEST_IDENTIFIEDBY_ENGLISH',\n",
       "       'SERVICEREQUEST_NBR', 'STAFFPERFORMANCE_SCORE', 'STARTDATE',\n",
       "       'SUBMISSION_ID', 'SUBMISSION_STATUS', 'SUBMITTED_DATE',\n",
       "       'SURVEY_COMMENTS', 'TARGET_ARRIVAL_DATE', 'TARGET_COMPLETION_DATE',\n",
       "       'TARGET_COMPLETION_DAYS', 'TARGET_INITIATE_DATE',\n",
       "       'TARGET_MITIGATE_DATE', 'TARGET_RESPOND_DATE', \"TECH'S EMAIL\",\n",
       "       'TIMELINESS_SCORE', 'TRANSACTIONAL_BURDENED_COST',\n",
       "       'TRIGGER_REDISPATCH_DATE', 'UPDATED_ON_TIMESTAMP', 'VERSION',\n",
       "       'WO DESCRIPTION', 'WORKORDERSTATUS_CD',\n",
       "       'WORKORDERSTATUS_DESCRIPTION', 'WORKORDERTYPE_CD',\n",
       "       'WORKORDERTYPE_CLASS', 'WORKORDERTYPE_DESCRIPTION',\n",
       "       'WORKORDER_DURATION', 'WORKORDER_NBR'], dtype='<U151')"
      ]
     },
     "execution_count": 50,
     "metadata": {},
     "output_type": "execute_result"
    }
   ],
   "source": [
    "np.sort(WorkODP.columns.tolist())"
   ]
  },
  {
   "cell_type": "code",
   "execution_count": 51,
   "metadata": {},
   "outputs": [
    {
     "data": {
      "text/plain": [
       "True     4346\n",
       "False     671\n",
       "Name: COMPLIANCEIND, dtype: int64"
      ]
     },
     "execution_count": 51,
     "metadata": {},
     "output_type": "execute_result"
    }
   ],
   "source": [
    "WorkODP['COMPLIANCEIND'].value_counts(dropna=False)                    "
   ]
  },
  {
   "cell_type": "code",
   "execution_count": 52,
   "metadata": {},
   "outputs": [],
   "source": [
    "#WorkODP[df < 2.0 ].count() "
   ]
  },
  {
   "cell_type": "code",
   "execution_count": 53,
   "metadata": {},
   "outputs": [
    {
     "data": {
      "text/plain": [
       "0      40 days 16:54:57\n",
       "1      40 days 18:28:50\n",
       "2      40 days 15:58:18\n",
       "3      40 days 13:06:41\n",
       "4      40 days 16:19:57\n",
       "             ...       \n",
       "5012   14 days 09:21:53\n",
       "5013   40 days 15:55:21\n",
       "5014   40 days 15:55:21\n",
       "5015   40 days 15:55:30\n",
       "5016   40 days 16:09:01\n",
       "Name: TARGET_COMPLETION_DAYS, Length: 5017, dtype: timedelta64[ns]"
      ]
     },
     "execution_count": 53,
     "metadata": {},
     "output_type": "execute_result"
    }
   ],
   "source": [
    "WorkODP['TARGET_COMPLETION_DAYS']"
   ]
  },
  {
   "cell_type": "code",
   "execution_count": 54,
   "metadata": {},
   "outputs": [
    {
     "data": {
      "text/plain": [
       "0      40 days 16:54:57\n",
       "1      40 days 18:28:50\n",
       "2      40 days 15:58:18\n",
       "3      40 days 13:06:41\n",
       "4      40 days 16:19:57\n",
       "             ...       \n",
       "5012   14 days 09:21:53\n",
       "5013   40 days 15:55:21\n",
       "5014   40 days 15:55:21\n",
       "5015   40 days 15:55:30\n",
       "5016   40 days 16:09:01\n",
       "Name: TARGET_COMPLETION_DAYS, Length: 5017, dtype: timedelta64[ns]"
      ]
     },
     "execution_count": 54,
     "metadata": {},
     "output_type": "execute_result"
    }
   ],
   "source": [
    "WorkODP['TARGET_COMPLETION_DAYS']"
   ]
  },
  {
   "cell_type": "code",
   "execution_count": 55,
   "metadata": {},
   "outputs": [
    {
     "data": {
      "text/plain": [
       "array([ 27,  23,  30,  40,  12,  17,  32,  28,  29,  16,  19,  26,  13,\n",
       "        35,  21,  31,  34,  14,  22,   2,  18,   1,  24,  36,   5,  15,\n",
       "        20,  39,  25,  10,   6,  43,   0,  37,   8,  49,  61,  69,   4,\n",
       "        11,  33,  38,   9,  48,  50,  47,  80,   3,  58,  77,   7,  67,\n",
       "        75,  52,  74,  64, 107,  56,  55,  54,  71,  57,  76, 116,  93,\n",
       "       126,  70,  41,  94,  96,  46,  51,  62, 138,  92,  66,  59,  87,\n",
       "       106,  81,  45,  42,  63, 308], dtype=int64)"
      ]
     },
     "execution_count": 55,
     "metadata": {},
     "output_type": "execute_result"
    }
   ],
   "source": [
    "WorkODP['DAYSOPEN'].unique()"
   ]
  },
  {
   "cell_type": "code",
   "execution_count": 56,
   "metadata": {},
   "outputs": [
    {
     "data": {
      "text/plain": [
       "122     6\n",
       "157     6\n",
       "417     6\n",
       "418     6\n",
       "945     6\n",
       "1549    6\n",
       "1553    6\n",
       "1559    3\n",
       "1710    6\n",
       "1766    6\n",
       "1804    5\n",
       "1867    3\n",
       "1868    3\n",
       "1869    3\n",
       "1870    3\n",
       "1903    6\n",
       "2022    6\n",
       "2031    5\n",
       "2040    4\n",
       "2273    6\n",
       "2308    3\n",
       "2340    4\n",
       "2857    6\n",
       "2910    6\n",
       "3392    6\n",
       "4025    4\n",
       "4038    6\n",
       "4049    4\n",
       "4366    6\n",
       "4397    3\n",
       "4502    6\n",
       "4698    6\n",
       "4760    6\n",
       "Name: DAYSOPEN, dtype: int64"
      ]
     },
     "execution_count": 56,
     "metadata": {},
     "output_type": "execute_result"
    }
   ],
   "source": [
    "WorkODP.loc[WorkODP['TARGET_COMPLETION_DATE'] == MAX, 'DAYSOPEN']"
   ]
  },
  {
   "cell_type": "markdown",
   "metadata": {},
   "source": [
    "### Today's Date"
   ]
  },
  {
   "cell_type": "code",
   "execution_count": 57,
   "metadata": {},
   "outputs": [
    {
     "data": {
      "text/plain": [
       "Timestamp('2022-07-28 14:16:09.454811+0000', tz='UTC')"
      ]
     },
     "execution_count": 57,
     "metadata": {},
     "output_type": "execute_result"
    }
   ],
   "source": [
    "NOW=pd.to_datetime('today').normalize().utcnow()\n",
    "NOW"
   ]
  },
  {
   "cell_type": "code",
   "execution_count": 58,
   "metadata": {},
   "outputs": [
    {
     "data": {
      "text/plain": [
       "0       68 days 06:11:06.454811\n",
       "1      129 days 07:44:59.454811\n",
       "2       68 days 05:14:27.454811\n",
       "3       98 days 02:22:50.454811\n",
       "4       68 days 05:36:06.454811\n",
       "                 ...           \n",
       "5012    33 days 19:39:02.454811\n",
       "5013    98 days 05:11:30.454811\n",
       "5014    98 days 05:11:30.454811\n",
       "5015    98 days 05:11:39.454811\n",
       "5016    98 days 05:25:10.454811\n",
       "Name: CREATION_DATE, Length: 5017, dtype: timedelta64[ns]"
      ]
     },
     "execution_count": 58,
     "metadata": {},
     "output_type": "execute_result"
    }
   ],
   "source": [
    " NOW- pd.to_datetime(WorkODP['CREATION_DATE'],utc=True,errors = 'coerce')"
   ]
  },
  {
   "cell_type": "code",
   "execution_count": 13,
   "metadata": {},
   "outputs": [
    {
     "ename": "NameError",
     "evalue": "name 'WorkODP' is not defined",
     "output_type": "error",
     "traceback": [
      "\u001b[1;31m---------------------------------------------------------------------------\u001b[0m",
      "\u001b[1;31mNameError\u001b[0m                                 Traceback (most recent call last)",
      "\u001b[1;32m<ipython-input-13-21c54a46d823>\u001b[0m in \u001b[0;36m<module>\u001b[1;34m\u001b[0m\n\u001b[1;32m----> 1\u001b[1;33m \u001b[0mWorkODP\u001b[0m\u001b[1;33m.\u001b[0m\u001b[0mloc\u001b[0m\u001b[1;33m[\u001b[0m\u001b[1;33m(\u001b[0m\u001b[0mWorkODP\u001b[0m\u001b[1;33m[\u001b[0m\u001b[1;34m'DAYSOPEN'\u001b[0m\u001b[1;33m]\u001b[0m \u001b[1;33m==\u001b[0m\u001b[1;36m0\u001b[0m\u001b[1;33m)\u001b[0m\u001b[1;33m&\u001b[0m \u001b[1;33m(\u001b[0m\u001b[0mWorkODP\u001b[0m\u001b[1;33m[\u001b[0m\u001b[1;34m'TARGET_COMPLETION_DATE'\u001b[0m\u001b[1;33m]\u001b[0m \u001b[1;33m>\u001b[0m \u001b[0mNOW\u001b[0m\u001b[1;33m)\u001b[0m\u001b[1;33m]\u001b[0m\u001b[1;33m\u001b[0m\u001b[1;33m\u001b[0m\u001b[0m\n\u001b[0m",
      "\u001b[1;31mNameError\u001b[0m: name 'WorkODP' is not defined"
     ]
    }
   ],
   "source": [
    "WorkODP.loc[(WorkODP['DAYSOPEN'] ==0)& (WorkODP['TARGET_COMPLETION_DATE'] > NOW)]"
   ]
  },
  {
   "cell_type": "code",
   "execution_count": 60,
   "metadata": {},
   "outputs": [
    {
     "data": {
      "text/plain": [
       "2486    2022-07-29 11:55:00-04:00\n",
       "Name: TARGET_COMPLETION_DATE, dtype: object"
      ]
     },
     "execution_count": 60,
     "metadata": {},
     "output_type": "execute_result"
    }
   ],
   "source": [
    "WorkODP.loc[(WorkODP['DAYSOPEN'] ==0) & (WorkODP['TARGET_COMPLETION_DATE']> NOW), 'TARGET_COMPLETION_DATE']"
   ]
  },
  {
   "cell_type": "markdown",
   "metadata": {},
   "source": [
    "### Comparing al the Days Open, Creation Date, Completion Date, Target Completion Date and etc. "
   ]
  },
  {
   "cell_type": "code",
   "execution_count": 14,
   "metadata": {},
   "outputs": [
    {
     "ename": "NameError",
     "evalue": "name 'WorkODP' is not defined",
     "output_type": "error",
     "traceback": [
      "\u001b[1;31m---------------------------------------------------------------------------\u001b[0m",
      "\u001b[1;31mNameError\u001b[0m                                 Traceback (most recent call last)",
      "\u001b[1;32m<ipython-input-14-cec9343c182d>\u001b[0m in \u001b[0;36m<module>\u001b[1;34m\u001b[0m\n\u001b[1;32m----> 1\u001b[1;33m \u001b[0mWorkODP\u001b[0m\u001b[1;33m.\u001b[0m\u001b[0mloc\u001b[0m\u001b[1;33m[\u001b[0m\u001b[0mWorkODP\u001b[0m\u001b[1;33m[\u001b[0m\u001b[1;34m'DAYSOPEN'\u001b[0m\u001b[1;33m]\u001b[0m\u001b[1;33m==\u001b[0m\u001b[1;36m0\u001b[0m\u001b[1;33m,\u001b[0m \u001b[1;33m[\u001b[0m\u001b[1;34m'DAYSOPEN'\u001b[0m\u001b[1;33m,\u001b[0m\u001b[1;34m'CREATION_DATE'\u001b[0m\u001b[1;33m,\u001b[0m\u001b[1;34m'COMPLETION_DATE'\u001b[0m\u001b[1;33m,\u001b[0m\u001b[1;34m'TARGET_COMPLETION_DATE'\u001b[0m\u001b[1;33m,\u001b[0m\u001b[1;34m'OPENCLOSED_STATE'\u001b[0m\u001b[1;33m,\u001b[0m\u001b[1;34m'COMPLIANCEIND'\u001b[0m\u001b[1;33m,\u001b[0m\u001b[1;34m'CLOSEDATE'\u001b[0m\u001b[1;33m,\u001b[0m\u001b[1;34m'WORKORDERSTATUS_CD'\u001b[0m\u001b[1;33m]\u001b[0m\u001b[1;33m]\u001b[0m\u001b[1;33m\u001b[0m\u001b[1;33m\u001b[0m\u001b[0m\n\u001b[0m\u001b[0;32m      2\u001b[0m \u001b[1;31m#WorkODP.loc[WorkODP['COMPLETION_DATE'].isnull(), ['DAYSOPEN','CREATION_DATE','COMPLETION_DATE','TARGET_COMPLETION_DATE','OPENCLOSED_STATE','COMPLIANCEIND','CLOSEDATE','WORKORDERSTATUS_CD']]\u001b[0m\u001b[1;33m\u001b[0m\u001b[1;33m\u001b[0m\u001b[1;33m\u001b[0m\u001b[0m\n",
      "\u001b[1;31mNameError\u001b[0m: name 'WorkODP' is not defined"
     ]
    }
   ],
   "source": [
    "WorkODP.loc[WorkODP['DAYSOPEN']==0, ['DAYSOPEN','CREATION_DATE','COMPLETION_DATE','TARGET_COMPLETION_DATE','OPENCLOSED_STATE','COMPLIANCEIND','CLOSEDATE','WORKORDERSTATUS_CD']]\n",
    "#WorkODP.loc[WorkODP['COMPLETION_DATE'].isnull(), ['DAYSOPEN','CREATION_DATE','COMPLETION_DATE','TARGET_COMPLETION_DATE','OPENCLOSED_STATE','COMPLIANCEIND','CLOSEDATE','WORKORDERSTATUS_CD']]                                       "
   ]
  },
  {
   "cell_type": "code",
   "execution_count": 62,
   "metadata": {},
   "outputs": [
    {
     "data": {
      "text/plain": [
       "62"
      ]
     },
     "execution_count": 62,
     "metadata": {},
     "output_type": "execute_result"
    }
   ],
   "source": [
    "count=(WorkODP['DAYSOPEN'] ==0).sum()\n",
    "count "
   ]
  },
  {
   "cell_type": "code",
   "execution_count": 63,
   "metadata": {},
   "outputs": [
    {
     "data": {
      "text/plain": [
       "array([ 27,  23,  30,  40,  12,  17,  32,  28,  29,  16,  19,  26,  13,\n",
       "        35,  21,  31,  34,  14,  22,   2,  18,   1,  24,  36,   5,  15,\n",
       "        20,  39,  25,  10,   6,  43,   0,  37,   8,  49,  61,  69,   4,\n",
       "        11,  33,  38,   9,  48,  50,  47,  80,   3,  58,  77,   7,  67,\n",
       "        75,  52,  74,  64, 107,  56,  55,  54,  71,  57,  76, 116,  93,\n",
       "       126,  70,  41,  94,  96,  46,  51,  62, 138,  92,  66,  59,  87,\n",
       "       106,  81,  45,  42,  63, 308], dtype=int64)"
      ]
     },
     "execution_count": 63,
     "metadata": {},
     "output_type": "execute_result"
    }
   ],
   "source": [
    "WorkODP['DAYSOPEN'].unique()"
   ]
  },
  {
   "cell_type": "code",
   "execution_count": 64,
   "metadata": {},
   "outputs": [
    {
     "data": {
      "text/plain": [
       "0       False\n",
       "1       False\n",
       "2       False\n",
       "3       False\n",
       "4       False\n",
       "        ...  \n",
       "5012    False\n",
       "5013    False\n",
       "5014    False\n",
       "5015    False\n",
       "5016    False\n",
       "Name: DAYSOPEN, Length: 5017, dtype: bool"
      ]
     },
     "execution_count": 64,
     "metadata": {},
     "output_type": "execute_result"
    }
   ],
   "source": [
    "WorkODP['DAYSOPEN'].isna()"
   ]
  },
  {
   "cell_type": "markdown",
   "metadata": {},
   "source": [
    "### Days Open for the ones with completion day after today"
   ]
  },
  {
   "cell_type": "code",
   "execution_count": 65,
   "metadata": {},
   "outputs": [],
   "source": [
    "WorkODP['DAYSOPEN'] = np.where( WorkODP['TARGET_COMPLETION_DATE'] > NOW , NOW- pd.to_datetime(WorkODP['CREATION_DATE'],utc=True,errors = 'coerce'),WorkODP['DAYSOPEN']) "
   ]
  },
  {
   "cell_type": "code",
   "execution_count": 66,
   "metadata": {
    "scrolled": true
   },
   "outputs": [
    {
     "data": {
      "text/plain": [
       "WORKORDER_NBR                402\n",
       "SERVICEREQUEST_NBR             3\n",
       "SERVICEPROVIDER_CLASS        402\n",
       "SERVICEPROVIDER_NAME         402\n",
       "COMPLETION_DATE              326\n",
       "                            ... \n",
       "WORKORDERTYPE_CD             402\n",
       "CLIENT_ID                    402\n",
       "WORKORDERTYPE_DESCRIPTION    402\n",
       "WORKORDERTYPE_CLASS          402\n",
       "TARGET_COMPLETION_DAYS       402\n",
       "Length: 115, dtype: int64"
      ]
     },
     "execution_count": 66,
     "metadata": {},
     "output_type": "execute_result"
    }
   ],
   "source": [
    "WorkODP[WorkODP['TARGET_COMPLETION_DATE'] > NOW].count()"
   ]
  },
  {
   "cell_type": "code",
   "execution_count": 67,
   "metadata": {},
   "outputs": [],
   "source": [
    "#WorkODP.loc[(WorkODP['TARGET_COMPLETION_DATE']> NOW) & WorkODP[' DAYSOPEN']!=, ['DAYSOPEN']]"
   ]
  },
  {
   "cell_type": "code",
   "execution_count": 68,
   "metadata": {},
   "outputs": [
    {
     "data": {
      "text/html": [
       "<div>\n",
       "<style scoped>\n",
       "    .dataframe tbody tr th:only-of-type {\n",
       "        vertical-align: middle;\n",
       "    }\n",
       "\n",
       "    .dataframe tbody tr th {\n",
       "        vertical-align: top;\n",
       "    }\n",
       "\n",
       "    .dataframe thead th {\n",
       "        text-align: right;\n",
       "    }\n",
       "</style>\n",
       "<table border=\"1\" class=\"dataframe\">\n",
       "  <thead>\n",
       "    <tr style=\"text-align: right;\">\n",
       "      <th></th>\n",
       "      <th>DAYSOPEN</th>\n",
       "      <th>CLOSEDATE</th>\n",
       "    </tr>\n",
       "  </thead>\n",
       "  <tbody>\n",
       "    <tr>\n",
       "      <th>27</th>\n",
       "      <td>37 days 05:58:34.454811</td>\n",
       "      <td>2022-07-07 09:17:00-04:00</td>\n",
       "    </tr>\n",
       "    <tr>\n",
       "      <th>73</th>\n",
       "      <td>37 days 05:35:15.454811</td>\n",
       "      <td>2022-07-08 14:27:00-04:00</td>\n",
       "    </tr>\n",
       "    <tr>\n",
       "      <th>115</th>\n",
       "      <td>21 days 00:15:32.454811</td>\n",
       "      <td>None</td>\n",
       "    </tr>\n",
       "    <tr>\n",
       "      <th>116</th>\n",
       "      <td>21 days 00:15:32.454811</td>\n",
       "      <td>None</td>\n",
       "    </tr>\n",
       "    <tr>\n",
       "      <th>117</th>\n",
       "      <td>21 days 00:15:32.454811</td>\n",
       "      <td>None</td>\n",
       "    </tr>\n",
       "    <tr>\n",
       "      <th>...</th>\n",
       "      <td>...</td>\n",
       "      <td>...</td>\n",
       "    </tr>\n",
       "    <tr>\n",
       "      <th>4940</th>\n",
       "      <td>37 days 06:39:38.454811</td>\n",
       "      <td>2022-07-11 17:51:00-04:00</td>\n",
       "    </tr>\n",
       "    <tr>\n",
       "      <th>4948</th>\n",
       "      <td>37 days 06:19:47.454811</td>\n",
       "      <td>2022-07-18 14:41:50-04:00</td>\n",
       "    </tr>\n",
       "    <tr>\n",
       "      <th>4957</th>\n",
       "      <td>37 days 09:02:27.454811</td>\n",
       "      <td>None</td>\n",
       "    </tr>\n",
       "    <tr>\n",
       "      <th>4958</th>\n",
       "      <td>37 days 06:38:13.454811</td>\n",
       "      <td>2022-07-15 20:00:00-04:00</td>\n",
       "    </tr>\n",
       "    <tr>\n",
       "      <th>4963</th>\n",
       "      <td>37 days 06:01:46.454811</td>\n",
       "      <td>2022-07-27 11:20:36-04:00</td>\n",
       "    </tr>\n",
       "  </tbody>\n",
       "</table>\n",
       "<p>402 rows × 2 columns</p>\n",
       "</div>"
      ],
      "text/plain": [
       "                    DAYSOPEN                  CLOSEDATE\n",
       "27   37 days 05:58:34.454811  2022-07-07 09:17:00-04:00\n",
       "73   37 days 05:35:15.454811  2022-07-08 14:27:00-04:00\n",
       "115  21 days 00:15:32.454811                       None\n",
       "116  21 days 00:15:32.454811                       None\n",
       "117  21 days 00:15:32.454811                       None\n",
       "...                      ...                        ...\n",
       "4940 37 days 06:39:38.454811  2022-07-11 17:51:00-04:00\n",
       "4948 37 days 06:19:47.454811  2022-07-18 14:41:50-04:00\n",
       "4957 37 days 09:02:27.454811                       None\n",
       "4958 37 days 06:38:13.454811  2022-07-15 20:00:00-04:00\n",
       "4963 37 days 06:01:46.454811  2022-07-27 11:20:36-04:00\n",
       "\n",
       "[402 rows x 2 columns]"
      ]
     },
     "execution_count": 68,
     "metadata": {},
     "output_type": "execute_result"
    }
   ],
   "source": [
    "WorkODP.loc[WorkODP['TARGET_COMPLETION_DATE'] > NOW, ['DAYSOPEN','CLOSEDATE']]\n"
   ]
  },
  {
   "cell_type": "code",
   "execution_count": 69,
   "metadata": {},
   "outputs": [
    {
     "data": {
      "text/plain": [
       "62"
      ]
     },
     "execution_count": 69,
     "metadata": {},
     "output_type": "execute_result"
    }
   ],
   "source": [
    "coun=(WorkODP['DAYSOPEN'] =='0 days').sum()\n",
    "count "
   ]
  },
  {
   "cell_type": "code",
   "execution_count": 70,
   "metadata": {},
   "outputs": [
    {
     "data": {
      "text/plain": [
       "402"
      ]
     },
     "execution_count": 70,
     "metadata": {},
     "output_type": "execute_result"
    }
   ],
   "source": [
    "count1=(WorkODP['TARGET_COMPLETION_DATE'] > NOW).sum()\n",
    "count1"
   ]
  },
  {
   "cell_type": "markdown",
   "metadata": {},
   "source": [
    "### Binned the if they are/were in the target completion days"
   ]
  },
  {
   "cell_type": "code",
   "execution_count": 71,
   "metadata": {},
   "outputs": [],
   "source": [
    "def flag_df_wo(WorkODP):\n",
    "    \n",
    "    if((WorkODP['TARGET_COMPLETION_DAYS'] >= WorkODP['DAYSOPEN']) and (WorkODP['WORKORDERSTATUS_CD'] in ['CLOSED','COMP'])):\n",
    "        return 'WORKORDERS COMPLETED WITHIN THE TARGET DATE'\n",
    "    elif((WorkODP['TARGET_COMPLETION_DAYS'] >= WorkODP['DAYSOPEN']) and (WorkODP['WORKORDERSTATUS_CD'] not in ['CLOSED','COMP'])):\n",
    "        return 'OPEN WORKORDERS STILL WITHIN THE TARGET DATE'\n",
    "    elif((WorkODP['TARGET_COMPLETION_DAYS'] <= WorkODP['DAYSOPEN']) and (WorkODP['WORKORDERSTATUS_CD'] in ['CLOSED','COMP'])):\n",
    "        return ' WORKORDERS COMPLETED PAST THE TARGET DATE BUT COMPLETED'\n",
    "    elif((WorkODP['TARGET_COMPLETION_DAYS'] <= WorkODP['DAYSOPEN']) and (WorkODP['WORKORDERSTATUS_CD'] not in ['CLOSED','COMP'])):\n",
    "        return 'OPEN WORKORDERS PAST THE TARGET DATE'\n",
    "        return (np.nan)"
   ]
  },
  {
   "cell_type": "code",
   "execution_count": 15,
   "metadata": {},
   "outputs": [
    {
     "ename": "NameError",
     "evalue": "name 'WorkODP' is not defined",
     "output_type": "error",
     "traceback": [
      "\u001b[1;31m---------------------------------------------------------------------------\u001b[0m",
      "\u001b[1;31mNameError\u001b[0m                                 Traceback (most recent call last)",
      "\u001b[1;32m<ipython-input-15-b53f026f3bd7>\u001b[0m in \u001b[0;36m<module>\u001b[1;34m\u001b[0m\n\u001b[1;32m----> 1\u001b[1;33m \u001b[0mWorkODP\u001b[0m\u001b[1;33m[\u001b[0m\u001b[0mWorkODP\u001b[0m\u001b[1;33m[\u001b[0m\u001b[1;34m'TARGET_COMPLETION_DAYS'\u001b[0m\u001b[1;33m]\u001b[0m \u001b[1;33m<=\u001b[0m \u001b[0mWorkODP\u001b[0m\u001b[1;33m[\u001b[0m\u001b[1;34m'DAYSOPEN'\u001b[0m\u001b[1;33m]\u001b[0m\u001b[1;33m]\u001b[0m\u001b[1;33m\u001b[0m\u001b[1;33m\u001b[0m\u001b[0m\n\u001b[0m\u001b[0;32m      2\u001b[0m \u001b[1;31m#df[df['A'] > df['B']]\u001b[0m\u001b[1;33m\u001b[0m\u001b[1;33m\u001b[0m\u001b[1;33m\u001b[0m\u001b[0m\n",
      "\u001b[1;31mNameError\u001b[0m: name 'WorkODP' is not defined"
     ]
    }
   ],
   "source": [
    "WorkODP[WorkODP['TARGET_COMPLETION_DAYS'] <= WorkODP['DAYSOPEN']]\n",
    "#df[df['A'] > df['B']]"
   ]
  },
  {
   "cell_type": "code",
   "execution_count": 73,
   "metadata": {},
   "outputs": [],
   "source": [
    "WorkODP['FLAGGED_WORKORDERS'] =WorkODP.apply(flag_df_wo, axis = 1)"
   ]
  },
  {
   "cell_type": "code",
   "execution_count": null,
   "metadata": {},
   "outputs": [],
   "source": []
  },
  {
   "cell_type": "code",
   "execution_count": 74,
   "metadata": {},
   "outputs": [
    {
     "data": {
      "text/plain": [
       "WORKORDERS COMPLETED WITHIN THE TARGET DATE     4890\n",
       "OPEN WORKORDERS STILL WITHIN THE TARGET DATE     127\n",
       "Name: FLAGGED_WORKORDERS, dtype: int64"
      ]
     },
     "execution_count": 74,
     "metadata": {},
     "output_type": "execute_result"
    }
   ],
   "source": [
    "WorkODP['FLAGGED_WORKORDERS'].value_counts()"
   ]
  },
  {
   "cell_type": "markdown",
   "metadata": {},
   "source": [
    "### Canceled workorders are counted as open, the rest as closed under WORKORDERSTATUS"
   ]
  },
  {
   "cell_type": "code",
   "execution_count": 75,
   "metadata": {},
   "outputs": [
    {
     "data": {
      "text/plain": [
       "CLOSED    4890\n",
       "OPEN       127\n",
       "Name: WORKORDERSTATUS, dtype: int64"
      ]
     },
     "execution_count": 75,
     "metadata": {},
     "output_type": "execute_result"
    }
   ],
   "source": [
    "WorkODP['WORKORDERSTATUS'] = np.where(WorkODP['WORKORDERSTATUS_CD'].isin(['CLOSED','COMP']),'CLOSED','OPEN' )\n",
    "WorkODP['WORKORDERSTATUS'] = np.where(WorkODP['WORKORDERSTATUS_CD'].isin(['CANCELED']),'OPEN',WorkODP['WORKORDERSTATUS'] )\n",
    "WorkODP['WORKORDERSTATUS'].value_counts()"
   ]
  },
  {
   "cell_type": "code",
   "execution_count": 76,
   "metadata": {},
   "outputs": [
    {
     "data": {
      "text/plain": [
       "Timedelta('105 days 17:54:57.454811')"
      ]
     },
     "execution_count": 76,
     "metadata": {},
     "output_type": "execute_result"
    }
   ],
   "source": [
    " WorkODP['DAYSOPEN'].max()"
   ]
  },
  {
   "cell_type": "markdown",
   "metadata": {},
   "source": [
    "### 'DAYS_OPEN_DIFF' is defined by creation date- completion date"
   ]
  },
  {
   "cell_type": "code",
   "execution_count": 78,
   "metadata": {},
   "outputs": [
    {
     "name": "stdout",
     "output_type": "stream",
     "text": [
      "0      27 days 02:39:57\n",
      "1      23 days 06:28:50\n",
      "2      30 days 10:58:18\n",
      "3      40 days 08:41:41\n",
      "4      12 days 11:42:57\n",
      "             ...       \n",
      "5012   10 days 20:18:53\n",
      "5013   37 days 13:12:21\n",
      "5014   37 days 13:12:21\n",
      "5015   31 days 02:44:30\n",
      "5016   29 days 06:46:01\n",
      "Name: DAYS_OPEN_DIFF, Length: 5017, dtype: timedelta64[ns]\n",
      "0      0 days 00:00:00.000000027\n",
      "1      0 days 00:00:00.000000023\n",
      "2      0 days 00:00:00.000000030\n",
      "3      0 days 00:00:00.000000040\n",
      "4      0 days 00:00:00.000000012\n",
      "                  ...           \n",
      "5012   0 days 00:00:00.000000011\n",
      "5013   0 days 00:00:00.000000037\n",
      "5014   0 days 00:00:00.000000037\n",
      "5015   0 days 00:00:00.000000031\n",
      "5016   0 days 00:00:00.000000029\n",
      "Name: DAYSOPEN, Length: 5017, dtype: timedelta64[ns]\n"
     ]
    }
   ],
   "source": [
    "WorkODP['DAYS_OPEN_DIFF'] = pd.to_datetime(WorkODP['COMPLETION_DATE'],utc=True, errors = 'coerce')-pd.to_datetime(WorkODP['CREATION_DATE'],utc=True,errors = 'coerce')\n",
    "\n",
    "\n",
    "print(WorkODP['DAYSOPEN'])\n",
    "\n",
    "WorkODP['DAYS_OPEN_DIFF'] = np.where(WorkODP['DAYS_OPEN_DIFF'].isnull(), pd.to_datetime('today').normalize().utcnow()- pd.to_datetime(WorkODP['CREATION_DATE'],utc=True,errors = 'coerce'),WorkODP['DAYS_OPEN_DIFF'] )"
   ]
  },
  {
   "cell_type": "code",
   "execution_count": null,
   "metadata": {},
   "outputs": [],
   "source": [
    "print(WorkODP['DAYS_OPEN_DIFF'])"
   ]
  },
  {
   "cell_type": "code",
   "execution_count": 81,
   "metadata": {},
   "outputs": [
    {
     "data": {
      "text/plain": [
       "Timedelta('307 days 17:44:54')"
      ]
     },
     "execution_count": 81,
     "metadata": {},
     "output_type": "execute_result"
    }
   ],
   "source": [
    "WorkODP['DAYS_OPEN_DIFF'].max()"
   ]
  },
  {
   "cell_type": "markdown",
   "metadata": {},
   "source": [
    "### Binning as 'DAYS_OPEN_RANGE' in 1,7,15,30,60, 90, 150, 200, 250, 300 days"
   ]
  },
  {
   "cell_type": "code",
   "execution_count": 105,
   "metadata": {},
   "outputs": [],
   "source": [
    "WorkODP['DAYS_OPEN_RANGE'] = pd.cut(WorkODP['DAYS_OPEN_DIFF'],bins=pd.to_timedelta(['1 days 00:00:00','7 days 00:00:00','15 days 00:00:00','30 days 00:00:00','60 days 00:00:00','90 days 00:00:00','150 days 00:00:00','200 days 00:00:00','250 days 00:00:00','300 days 00:00:00', WorkODP['DAYS_OPEN_DIFF'].max()]),labels=['1 Days','7 Days','15 Days','30 Days', '60 Days', '90 Days','150 Days','200 Days','250 Days','300 Days'])\n",
    "WorkODP['DAYS_OPEN_RANGE'].value_counts(dropna=False)\n",
    "\n",
    "WorkODP['DAYS_OPEN_RANGE'] = np.where(WorkODP['DAYS_OPEN_RANGE'].isnull(),'0 Days', WorkODP['DAYS_OPEN_RANGE'])"
   ]
  },
  {
   "cell_type": "code",
   "execution_count": 106,
   "metadata": {},
   "outputs": [
    {
     "data": {
      "text/plain": [
       "0       15 Days\n",
       "1       15 Days\n",
       "2       30 Days\n",
       "3       30 Days\n",
       "4        7 Days\n",
       "         ...   \n",
       "5012     7 Days\n",
       "5013    30 Days\n",
       "5014    30 Days\n",
       "5015    30 Days\n",
       "5016    15 Days\n",
       "Name: DAYS_OPEN_RANGE, Length: 5017, dtype: object"
      ]
     },
     "execution_count": 106,
     "metadata": {},
     "output_type": "execute_result"
    }
   ],
   "source": [
    "WorkODP['DAYS_OPEN_RANGE']"
   ]
  },
  {
   "cell_type": "code",
   "execution_count": 107,
   "metadata": {},
   "outputs": [
    {
     "data": {
      "text/plain": [
       "array(['15 Days', '30 Days', '7 Days', '1 Days', '0 Days', '60 Days',\n",
       "       '90 Days', '300 Days'], dtype=object)"
      ]
     },
     "execution_count": 107,
     "metadata": {},
     "output_type": "execute_result"
    }
   ],
   "source": [
    "WorkODP['DAYS_OPEN_RANGE'].unique()"
   ]
  },
  {
   "cell_type": "code",
   "execution_count": 16,
   "metadata": {},
   "outputs": [
    {
     "ename": "NameError",
     "evalue": "name 'WorkODP' is not defined",
     "output_type": "error",
     "traceback": [
      "\u001b[1;31m---------------------------------------------------------------------------\u001b[0m",
      "\u001b[1;31mNameError\u001b[0m                                 Traceback (most recent call last)",
      "\u001b[1;32m<ipython-input-16-075e3ce5765c>\u001b[0m in \u001b[0;36m<module>\u001b[1;34m\u001b[0m\n\u001b[1;32m----> 1\u001b[1;33m \u001b[0mWorkODP\u001b[0m\u001b[1;33m\u001b[0m\u001b[1;33m\u001b[0m\u001b[0m\n\u001b[0m",
      "\u001b[1;31mNameError\u001b[0m: name 'WorkODP' is not defined"
     ]
    }
   ],
   "source": [
    "WorkODP"
   ]
  },
  {
   "cell_type": "code",
   "execution_count": 97,
   "metadata": {},
   "outputs": [],
   "source": [
    "WorkODP.drop(['SERVICEREQUEST_NBR','EQUIPMENT_KEY','RESOLUTION_DETAIL','PARENT_WORKORDER_NBR','REPORTDATE','WORKORDER_DURATION','SCHEDULED_DATE','SCHEDULEDDATE_KEY','SURVEY_COMMENTS','CALLCENTRE_SCORE','STAFFPERFORMANCE_SCORE','QUALITYOFWORK_SCORE','TIMELINESS_SCORE','OVERALL_SCORE','QUOTE_TYPE','QUOTE_COMMENT','CHARGETO_ACCOUNT_NAME','ISCONTRACT','ESTIMATED_AMOUNT','FUNCTIONAL_BURDENED_COST','TRANSACTIONAL_BURDENED_COST','REVENUE_AMOUNT','PARENT_WORKORDER_ID','REQUEST_DATE','SERVICEREQUEST_IDENTIFIEDBY_ENGLISH','TARGET_RESPOND_DATE','ACTUAL_RESPOND_DATE','TARGET_INITIATE_DATE','ACTUAL_INITIATE_DATE','TARGET_MITIGATE_DATE','ACTUAL_MITIGATE_DATE','TARGET_ARRIVAL_DATE','ACTUAL_ARRIVAL_DATE','CONTRACT_ARRIVAL_DATE','TRIGGER_REDISPATCH_DATE','LAST_DISPATCHED_DATE','UPDATED_ON_TIMESTAMP','PMSCHEDULE_TEMPLATE_ID','LAST_ACTION_STATUS','IS_WORK_REMAINING','IS_REOPENED_WORKORDER','IS_MULTIPLE_ASSET','IS_MITIGATION_AVAILABLE','IS_BUILDING_ITEM_VISIBLE','IS_AUTODISPATCH','IS_ARCHIVE','GLACCOUNT_NAME','GLACCOUNT_CODE','ACCOUNTABLE_PROVIDER_CLASS','DSS_CREATE_TIME','DSS_UPDATE_TIME','ENTITY_TYPE','VERSION','SUBMISSION_STATUS','LONGITUDE','LATITUDE','ASSOCIATED HVAC PM WO#','FACILITY MANAGER','BUILDING ID','CHECK SYSTEM SUPERHEAT (COMPARE TO MANUFACTURES SPECS)','CHECK AND RECORD SUCTION PRES (PSIG)','CHECK AND RECORD DISCHARGE PRES (PSIG)','IF SYSTEM CONTAINS AFTER-MARKET PRESSURE GAUGES PLEASE IDENTIFY FOR REMOVAL AND REQUEST CM WORK ORDER TO REPAIR','AUTO EMAIL CMMS','ROOT CAUSE','CORRECTIVE ACTION TAKEN (IE. RECOVERED OR REPAIRED)'], axis=True, inplace=True)"
   ]
  },
  {
   "cell_type": "code",
   "execution_count": 99,
   "metadata": {},
   "outputs": [],
   "source": [
    "WorkODP.drop(['CLIENT_ID','JOBPLAN_ID','ON THE ODP TAG SUBMITTED TODAY, WAS THERE A LEAK DETECTED OR REPAIRED?','CHECK CONDENSOR HEADER LINES FOR VIBRATION, SIGNS OF OIL, AND LEAKS.','SUBMISSION_ID','SERVICEPROVIDER_NAME'], axis=True, inplace=True)"
   ]
  },
  {
   "cell_type": "code",
   "execution_count": 17,
   "metadata": {},
   "outputs": [
    {
     "ename": "NameError",
     "evalue": "name 'WorkODP' is not defined",
     "output_type": "error",
     "traceback": [
      "\u001b[1;31m---------------------------------------------------------------------------\u001b[0m",
      "\u001b[1;31mNameError\u001b[0m                                 Traceback (most recent call last)",
      "\u001b[1;32m<ipython-input-17-075e3ce5765c>\u001b[0m in \u001b[0;36m<module>\u001b[1;34m\u001b[0m\n\u001b[1;32m----> 1\u001b[1;33m \u001b[0mWorkODP\u001b[0m\u001b[1;33m\u001b[0m\u001b[1;33m\u001b[0m\u001b[0m\n\u001b[0m",
      "\u001b[1;31mNameError\u001b[0m: name 'WorkODP' is not defined"
     ]
    }
   ],
   "source": [
    "WorkODP"
   ]
  },
  {
   "cell_type": "code",
   "execution_count": null,
   "metadata": {},
   "outputs": [],
   "source": []
  },
  {
   "cell_type": "code",
   "execution_count": 19,
   "metadata": {},
   "outputs": [
    {
     "ename": "NameError",
     "evalue": "name 'WorkODP' is not defined",
     "output_type": "error",
     "traceback": [
      "\u001b[1;31m---------------------------------------------------------------------------\u001b[0m",
      "\u001b[1;31mNameError\u001b[0m                                 Traceback (most recent call last)",
      "\u001b[1;32m<ipython-input-19-850717fe185b>\u001b[0m in \u001b[0;36m<module>\u001b[1;34m\u001b[0m\n\u001b[1;32m----> 1\u001b[1;33m \u001b[0mWorkODP\u001b[0m\u001b[1;33m[\u001b[0m\u001b[1;34m'JOBPLAN_DESC'\u001b[0m\u001b[1;33m]\u001b[0m\u001b[1;33m.\u001b[0m\u001b[0munique\u001b[0m\u001b[1;33m(\u001b[0m\u001b[1;33m)\u001b[0m\u001b[1;33m\u001b[0m\u001b[1;33m\u001b[0m\u001b[0m\n\u001b[0m",
      "\u001b[1;31mNameError\u001b[0m: name 'WorkODP' is not defined"
     ]
    }
   ],
   "source": [
    "WorkODP['JOBPLAN_DESC'].unique()"
   ]
  },
  {
   "cell_type": "code",
   "execution_count": null,
   "metadata": {},
   "outputs": [],
   "source": [
    "WorkODP['JOBPLAN_DESC'].str.contains('>= 5.4')"
   ]
  },
  {
   "cell_type": "code",
   "execution_count": 91,
   "metadata": {},
   "outputs": [
    {
     "data": {
      "text/plain": [
       "array(['Closed', 'Open', 'Cancelled'], dtype=object)"
      ]
     },
     "execution_count": 91,
     "metadata": {},
     "output_type": "execute_result"
    }
   ],
   "source": [
    "WorkODP['OPENCLOSED_STATE'].unique()"
   ]
  },
  {
   "cell_type": "code",
   "execution_count": 92,
   "metadata": {},
   "outputs": [
    {
     "data": {
      "text/plain": [
       "array(['CLOSED', 'COMPLETE', 'ACKNOWLEDGE', 'DISPATCHED',\n",
       "       'Quote Declined', 'CANCELLED', 'ARRIVED', 'Waiting for Approval',\n",
       "       'IN PROGRESS', 'Approved'], dtype=object)"
      ]
     },
     "execution_count": 92,
     "metadata": {},
     "output_type": "execute_result"
    }
   ],
   "source": [
    "WorkODP['WORKORDERSTATUS_DESCRIPTION'].unique()"
   ]
  },
  {
   "cell_type": "code",
   "execution_count": 93,
   "metadata": {},
   "outputs": [
    {
     "data": {
      "text/plain": [
       "array(['CLOSED', 'COMP', 'ACKN', 'DISP', 'DECLINED', 'CAN', 'ARRIVED',\n",
       "       'WAITAPR', 'IN-PRG', 'APP'], dtype=object)"
      ]
     },
     "execution_count": 93,
     "metadata": {},
     "output_type": "execute_result"
    }
   ],
   "source": [
    "WorkODP['WORKORDERSTATUS_CD'].unique()"
   ]
  },
  {
   "cell_type": "code",
   "execution_count": 94,
   "metadata": {},
   "outputs": [
    {
     "data": {
      "text/plain": [
       "array([ True, False])"
      ]
     },
     "execution_count": 94,
     "metadata": {},
     "output_type": "execute_result"
    }
   ],
   "source": [
    "WorkODP['COMPLIANCEIND'].unique()"
   ]
  },
  {
   "cell_type": "code",
   "execution_count": 95,
   "metadata": {},
   "outputs": [
    {
     "data": {
      "text/plain": [
       "0"
      ]
     },
     "execution_count": 95,
     "metadata": {},
     "output_type": "execute_result"
    }
   ],
   "source": [
    "WorkODP['WORKORDER_NBR'].isna().sum()"
   ]
  },
  {
   "cell_type": "code",
   "execution_count": null,
   "metadata": {},
   "outputs": [],
   "source": [
    "WorkODP.drop(['WORK ORDER TYPE','SPILL LINE EMPLOYEE NAME','SERVICEREQUEST_CONTACTMETHOD_ENGLISH','COMPLETEDBY','REPORTEDBY'], axis=True, inplace=True)"
   ]
  },
  {
   "cell_type": "code",
   "execution_count": 18,
   "metadata": {},
   "outputs": [
    {
     "ename": "NameError",
     "evalue": "name 'WorkODP' is not defined",
     "output_type": "error",
     "traceback": [
      "\u001b[1;31m---------------------------------------------------------------------------\u001b[0m",
      "\u001b[1;31mNameError\u001b[0m                                 Traceback (most recent call last)",
      "\u001b[1;32m<ipython-input-18-075e3ce5765c>\u001b[0m in \u001b[0;36m<module>\u001b[1;34m\u001b[0m\n\u001b[1;32m----> 1\u001b[1;33m \u001b[0mWorkODP\u001b[0m\u001b[1;33m\u001b[0m\u001b[1;33m\u001b[0m\u001b[0m\n\u001b[0m",
      "\u001b[1;31mNameError\u001b[0m: name 'WorkODP' is not defined"
     ]
    }
   ],
   "source": [
    "WorkODP"
   ]
  },
  {
   "cell_type": "code",
   "execution_count": 111,
   "metadata": {},
   "outputs": [],
   "source": [
    "WorkODP.to_csv(r'C:****')\n"
   ]
  }
 ],
 "metadata": {
  "kernelspec": {
   "display_name": "Python 3",
   "language": "python",
   "name": "python3"
  },
  "language_info": {
   "codemirror_mode": {
    "name": "ipython",
    "version": 3
   },
   "file_extension": ".py",
   "mimetype": "text/x-python",
   "name": "python",
   "nbconvert_exporter": "python",
   "pygments_lexer": "ipython3",
   "version": "3.8.5"
  }
 },
 "nbformat": 4,
 "nbformat_minor": 5
}
